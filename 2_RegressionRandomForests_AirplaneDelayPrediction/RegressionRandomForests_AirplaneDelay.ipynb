{
 "cells": [
  {
   "cell_type": "code",
   "execution_count": 128,
   "metadata": {
    "collapsed": false
   },
   "outputs": [
    {
     "data": {
      "text/html": [
       "<link rel=\"stylesheet\" href=\"./custom_two.css\">"
      ],
      "text/plain": [
       "<IPython.core.display.HTML object>"
      ]
     },
     "execution_count": 128,
     "metadata": {},
     "output_type": "execute_result"
    }
   ],
   "source": [
    "# CSS formatting for the Notebook. Run to apply format\n",
    "from IPython.core.display import HTML;      \n",
    "HTML(\"\"\"<link rel=\"stylesheet\" href=\"./custom_two.css\">\"\"\")"
   ]
  },
  {
   "cell_type": "markdown",
   "metadata": {},
   "source": [
    "<div id=headerNotebook>\n",
    "<h1 class=headtitle><b>Regression Algorithm - Airplane Delay prediction</b><br/>2017 Edition</h1>\n",
    "<div class=date>05/04/2017</div>\n",
    "<div class=authors><b>Authors</b>     Ole Andreas Hansen |\n",
    "                            Alberto Ibarrondo Luis</div>\n",
    "                            </div>"
   ]
  },
  {
   "cell_type": "markdown",
   "metadata": {},
   "source": [
    "In this notebook, we will learn how to solve the regression problem of predicting flight delays, using decision trees and random forests.\n",
    "\n",
    "# Goals\n",
    "The main goals of this project are the following:\n",
    "1. Revisit the concepts behind Decision Trees and Random Forests\n",
    "2. Build a simple methodology to address Data Science projects\n",
    "3. Use the existing implementation of Random Forests in MLLib in a specific use case, that is to predict the delay of flights\n",
    "\n",
    "# Steps\n",
    "\n",
    "- First, in section 1, we will go through a short introduction about the fundamentals of Decision Trees and Random Forests, such as feature definition, the form of a decision tree, how does it work and the idea of a forest of decision trees. If the student is familiar with these topics, skip to section 2.\n",
    "- In section 2, we delve into the details of the use case of this notebook including: providing the context, introducing the data and the basic methodology to address the project in this notebook\n",
    "- In section 3, we perform data exploration\n",
    "- In section 4, we build the statistical model and validate it"
   ]
  },
  {
   "cell_type": "markdown",
   "metadata": {},
   "source": [
    "# 1. Decision trees and Random Forests: Simple but Powerful Algorithms\n",
    "> Prediction is very difficult, especially if it’s about the future. (Niels Bohr)\n",
    "\n",
    "Decision trees are a very popular approach to prediction problems. Decision trees can be trained from both categorical and numerical features, to perform classification and regression. They are the oldest and most well-studied types of predictive analytics. In many analytics packages and libraries, most algorithms are devoted either to address classification or regression problems, and they include for example support vector machines (SVM), neural networks, naïve Bayes, logistic regression, and deep learning...\n",
    "\n",
    "In general, classification refers to the problem of predicting a label, or category, like *spam/not spam*, *rainy/sunny/mild*, for some given data. Regression refers to predicting a numeric quantity like salary, temperature, delay time, product's price. Both classification and regression involve predicting one (or more) values given one (or more) other input values. They require labelled data to perform a training phase, which builds the statistical model: they belong to *supervised learning* techniques.\n",
    "\n",
    "## 1.1 Feature definition\n",
    "To understand how regression and classification operate, it is necessary to briefly define the terms that describe their input and output. \n",
    "\n",
    "Assume that we want to predict the temperature of tomorrow given today's weather information.\n",
    "The weather information is a loose concept. For example, we can use many variables to express today's weather such as:\n",
    "* the average humidity today\n",
    "* today’s high temperature\n",
    "* today’s low temperature \n",
    "* wind speed\n",
    "* outlook: e.g. cloudy, rainy, or clear\n",
    "* ....\n",
    "\n",
    "These variables are called *features* or *dimensions*. \n",
    "\n",
    "Each variable can be quantified. For example, high and low temperatures are measured in degrees Celsius, humidity can be measured as a fraction between 0 and 1, and weather type can be labeled `cloudy`, `rainy` or `clear`...\n",
    "So, the weather today can be expressed by a list of values: `11.4, 18.0, 0.64, 20, cloudy`. \n",
    "Each feature is also called a `predictor`. Together, they constitute a `feature vector`.\n",
    "\n",
    "A feature whose domain is a set of categories is called **categorical feature**. In our example, `outlook` is a  categorical feature. A feature whose values are numerical is called **numerical feature**. In our example, `temperature` is a numerical feature.\n",
    "\n",
    "Finally, tomorrow's temperature, that is what we want to predict, is called *target feature*.\n",
    "\n",
    "## 1.2 Decision Trees & Random Forests\n",
    "The first question that you might ask is: \"Why Decision trees and not another approach?\"\n",
    "\n",
    "Well, the literature shows that the family of algorithms known as decision trees can naturally handle both categorical and numeric features. The training process is easy to understand. The model is easy to interpret. They are robust to outliers in the data, meaning that a few extreme and possibly erroneous data points should not affect the tree at all. The model can be trained in parallel easily. The accuracy is comparable to other methods... In short, there are lots of advantages when using decision trees with respect to other methods! \n",
    "\n",
    "The way we use a tree model is very simple to understand. We can say that this process \"mimics\" the way humans take decisions. For example, to decide whether to play football or not, a natural question would be \"does it rain now?\". If yes, the decision is `no`. If it's sunny, the condition is favorable to play football. A second natural question could be: \"is it windy?\". If no, then you may want to stay at home because otherwise it is going to be too hot. Otherwise, a third plausible question could be: \"do we have enough people?\". If no, then there's no point playing. Otherwise, time to play!\n",
    "\n",
    "Using a decision tree allows to follow a similar process to that described above (see the image below). Given a new input, the algorithm traverses the tree in a such a way that the input satisfies the condition of each node until reaching a leaf one. The value of the leaf node is the decision.\n",
    "\n",
    "![A decision tree](https://farm2.staticflickr.com/1690/24308350756_8533286fb5_z.jpg)\n",
    "\n",
    "The tree model in the figure is built from historical information concerning many past days. The `feature predictor` contains three features: Rain, Is_Windy, Enough_People.\n",
    "An example of the training data is as follows:\n",
    "\n",
    "Rain | Is_Windy | Enough_People | Play\n",
    "-----|----------|---------------|------\n",
    "Yes | Yes | No | No\n",
    "No  | No | No | No\n",
    "No | Yes | Yes | Yes\n",
    "No | No | Yes | No\n",
    "\n",
    "As you can see, in the training data, we know the values of predictors and we also know the corresponding answer: we have the ground truth.\n",
    "\n",
    "One limitation of decision trees is that it's easy to incur in overfitting problems. In other words, the model is too fit to the training data, it is too precise and not general enough. So, when testing the quality of predictions with different testing sets, accuracy could fluctuate. To overcome this limitation, the tree can be pruned after it is built, or even be pruned during the training process. Another approach is building a `Random Decision Forest`.\n",
    "\n",
    "A `Random Decision Forest`, as its name implies, is a forest of random Decision trees. Each tree element is built randomly from the training data. Randomization generally applies to:\n",
    "* Building new training data: Random selection of samples from the training data (with replacement) from the original training data\n",
    "* When building a node: Random selection of a subset of features\n",
    "\n",
    "To take a decision, the forest \"asks\" all trees about their prediction, and then chooses the outcome which is the most voted."
   ]
  },
  {
   "cell_type": "markdown",
   "metadata": {},
   "source": [
    "# 2. Use case: Flights delay prediction\n",
    "## 2.1 Context\n",
    "Every day, in US, there are thousands of flights departures and arrivals: unfortunately, as you may have noticed yourself, flight delays are not a rare event!! Now, given historical data about flights in the country, including the delay information that was computed *a-posteriori* (so the ground truth is available), we want to build a model that can be used to predict how many minutes of delay a flight might experience in the future. This model should provide useful information for the airport to manage better its resources, to minimize the delays and their impact on the journey of its passengers. Alternatively, astute passengers could even use the model to choose the best time for flying, such as to avoid delays.\n",
    "\n",
    "## 2.2 Data\n",
    "The data we will use in this notebook has been collected by the RITA (Research and Innovative Technology Administration), and it contains details facets about each air flight that happened in the US between 1987 and 2008. It includes 29 variables such as the origin airport, the destination airport, the scheduled departure time, day, month, the arrival delay... For more information, please visit the following [link](http://stat-computing.org/dataexpo/2009/the-data.html), that provides a lot of detail on the data. Our goal is to build a model to predict `the arrival delay`."
   ]
  },
  {
   "cell_type": "markdown",
   "metadata": {},
   "source": [
    "## 2.3 Methodology\n",
    "For our project, we can follow a simple methodology:\n",
    "\n",
    "- Understand clearly the context, the data and the goal of the project\n",
    "- Pre-process the data (data cleaning): the data can contain invalid values or missing values. We have to process our data to deal with them\n",
    "- Retrieve descriptive information about data: the idea is to discover if whether the data has patterns, whether features have patterns, the skew of values...\n",
    "- Select appropriate features: Only work with significant features will save us memory, communication cost, and ultimately, training time. Feature selection is also important as it can reduce the impact of noise that characterize the unimportant features.\n",
    "- Divide the data into training and testing set\n",
    "- Build a model from the feature in the training set\n",
    "- Test the model"
   ]
  },
  {
   "cell_type": "markdown",
   "metadata": {},
   "source": [
    "# 3. Let's play: Data Exploration\n",
    "Now it's time to apply the simple methodology outlined in section 2.3 on the use case of this notebook.\n",
    "<div class=\"alert alert-danger\">\n",
    "**Note:** The source code in this lecture should be executed sequentially in the order.\n",
    "</div>"
   ]
  },
  {
   "cell_type": "markdown",
   "metadata": {},
   "source": [
    "## 3.1 Understanding the data schema\n",
    "\n",
    "The data has 29 features, that can be either categorical or numerical. For example, the `src_airport` (source airport) is categorical: there exist no comparison operator between airport names. We can not say \"SGN is bigger than NCE\". The departure is numerical, for which a comparison operator exists. For instance, \"flight departing before 6PM\" can be express by \"departure_time < 1800\".\n",
    "\n",
    "In this use case, most features are numerical, except `carier`, `flight_number`, `cancelled`, `cancelation_code` and `diverted`. \n",
    "\n",
    "The data contains a header, that is useless in building the statistical model. In addition, we already know the data schema, so we can safely neglect it. Note that there are some features with missing values in some lines of the dataset. The missing values are marked by \"NA\". These values can cause problems when processing and can lead to unexpected results. Therefore, we need to remove the header and replace all \"NA\" values by empty values, such as they can be interpreted as null values.\n",
    "\n",
    "As we have seen already, there are multiple ways to manipulate data:\n",
    "\n",
    "- Using the RDD abstraction\n",
    "- Using the DataFrame abstraction. DataFrames can be thought of as distributed tables: each item is a list of values  (the columns). Also, the value in each row of each column can be accessed by the column's name.\n",
    "\n",
    "Next, we will focus on using DataFrames. However, to use DataFrames, the data must be clean (no invalid values). That means we cannot create DataFrame directly from the \"RAW\" data. Instead, we will first create an RDD from RAW data, produce a new, clean RDD, then transform it to a DataFrame and work on it. The RDD `cleaned_data` is an RDD[String]. We need to transform it to RDD[(TypeOfColumn1, TypeOfColumn2,.., TypeOfColumn29)] then call a function to create a DataFrame from the new RDD.\n"
   ]
  },
  {
   "cell_type": "markdown",
   "metadata": {},
   "source": [
    "<div class=\"alert alert-success\">\n",
    "IDEA! Check the airport size.\n",
    "</div>"
   ]
  },
  {
   "cell_type": "markdown",
   "metadata": {},
   "source": [
    "## 3.2 Data cleaning\n",
    "Let's prepare for the cleaning step: Loading the data into an RDD.\n",
    "\n",
    "First, we need to import some useful python modules for this notebook."
   ]
  },
  {
   "cell_type": "code",
   "execution_count": 129,
   "metadata": {
    "collapsed": false
   },
   "outputs": [],
   "source": [
    "import os\n",
    "import sys\n",
    "import re\n",
    "from pyspark import SparkContext\n",
    "from pyspark import SparkContext\n",
    "from pyspark.sql import SQLContext\n",
    "from pyspark.sql.types import *\n",
    "from pyspark.sql import Row\n",
    "from pyspark.sql.functions import *\n",
    "%matplotlib inline\n",
    "import matplotlib.pyplot as plt\n",
    "import matplotlib as mpl\n",
    "import pandas as pd\n",
    "import numpy as np\n",
    "import pyspark.sql.functions as func\n",
    "import matplotlib.patches as mpatches\n",
    "import warnings\n",
    "warnings.filterwarnings(\"ignore\")\n",
    "\n",
    "# to start testing, we can focus on a single year\n",
    "input_path = \"/datasets/airline/1994.csv\"\n",
    "raw_data = sc.textFile(input_path)\n",
    "\n",
    "from matplotlib.colors import ListedColormap\n",
    "\n",
    "dark2_colors = [(0.10588235294117647, 0.6196078431372549, 0.4666666666666667),\n",
    "                (0.8509803921568627, 0.37254901960784315, 0.00784313725490196),\n",
    "                (0.4588235294117647, 0.4392156862745098, 0.7019607843137254),\n",
    "                (0.9058823529411765, 0.1607843137254902, 0.5411764705882353),\n",
    "                (0.4, 0.6509803921568628, 0.11764705882352941),\n",
    "                (0.9019607843137255, 0.6705882352941176, 0.00784313725490196),\n",
    "                (0.6509803921568628, 0.4627450980392157, 0.11372549019607843),\n",
    "                (0.10588235294117647, 0.6196078431372549, 0.4666666666666667),\n",
    "                (0.8509803921568627, 0.37254901960784315, 0.00784313725490196),\n",
    "                (0.4588235294117647, 0.4392156862745098, 0.7019607843137254),\n",
    "                (0.9058823529411765, 0.1607843137254902, 0.5411764705882353),\n",
    "                (0.4, 0.6509803921568628, 0.11764705882352941),\n",
    "                (0.9019607843137255, 0.6705882352941176, 0.00784313725490196),\n",
    "                (0.6509803921568628, 0.4627450980392157, 0.11372549019607843)]\n",
    "\n",
    "cmap_set1 = ListedColormap(['#4daf4a', '#377eb8', '#e41a1c' ])\n",
    "dark2_cmap=ListedColormap(dark2_colors)"
   ]
  },
  {
   "cell_type": "markdown",
   "metadata": {},
   "source": [
    "<div class=\"alert alert-warning\">\n",
    "<b>COMMENT</b><br/>\n",
    "Data from 1994 wilprobably be biased compared to those from other years. A better solution could be to uniformly sample the different years, and then use that data.\n",
    "</div>"
   ]
  },
  {
   "cell_type": "markdown",
   "metadata": {},
   "source": [
    "### Question 1 \n",
    "Remove the header and replace the invalid values in our input dataset.\n",
    "\n",
    "#### Question 1.1\n",
    "\n",
    "<div class=\"alert alert-info\">\n",
    "\n",
    "How many records (rows) in the RAW data?\n",
    "\n",
    "</div>"
   ]
  },
  {
   "cell_type": "code",
   "execution_count": 130,
   "metadata": {
    "collapsed": false
   },
   "outputs": [
    {
     "name": "stdout",
     "output_type": "stream",
     "text": [
      "number of rows before cleaning: 5180049\n"
     ]
    }
   ],
   "source": [
    "print(\"number of rows before cleaning:\", raw_data.count())"
   ]
  },
  {
   "cell_type": "markdown",
   "metadata": {},
   "source": [
    "#### Question 1.2\n",
    "\n",
    "\n",
    "<div class=\"alert alert-info\">\n",
    "Except for the first column, the others might contain missing values, which are denoted by `NA`.  \n",
    "\n",
    "Remove the header and replace NA by an empty character. How many records are left after cleaning the RAW dataset?  \n",
    "\n",
    "<div class=\"label label-danger\">**NOTE**:</div> be careful with the valid values that can contain string `NA` inside.\n",
    "</div>"
   ]
  },
  {
   "cell_type": "code",
   "execution_count": 131,
   "metadata": {
    "collapsed": false
   },
   "outputs": [
    {
     "name": "stdout",
     "output_type": "stream",
     "text": [
      "number of rows after cleaning: 5180048\n"
     ]
    }
   ],
   "source": [
    "# extract the header\n",
    "header = raw_data.first() # take(1) returns a list while first gives string\n",
    "\n",
    "# replace invalid data with NULL and remove header\n",
    "cleaned_data = (raw_data\\\n",
    "        # filter out the header\n",
    "        .filter(lambda x: x != header)\n",
    "        # replace the missing values with empty characters\n",
    "        .map(lambda x: x.replace('NA', ''))\n",
    "        )\n",
    "        \n",
    "print(\"number of rows after cleaning:\", cleaned_data.count())"
   ]
  },
  {
   "cell_type": "markdown",
   "metadata": {},
   "source": [
    "## 3.3 Transforming our data to a DataFrame\n",
    "\n",
    "Now the data is clean, valid and can be used to create DataFrame. First, we will declare the data schema for the DataFrame. By doing that, we can specify the name and data type of each column."
   ]
  },
  {
   "cell_type": "code",
   "execution_count": 132,
   "metadata": {
    "collapsed": true
   },
   "outputs": [],
   "source": [
    "sqlContext = SQLContext(sc)\n",
    "\n",
    "\n",
    "# Declare the data schema\n",
    "# see http://stat-computing.org/dataexpo/2009/the-data.html\n",
    "# for more information\n",
    "airline_data_schema = StructType([ \\\n",
    "    #StructField( name, dataType, nullable)\n",
    "    StructField(\"year\",                     IntegerType(), True), \\\n",
    "    StructField(\"month\",                    IntegerType(), True), \\\n",
    "    StructField(\"day_of_month\",             IntegerType(), True), \\\n",
    "    StructField(\"day_of_week\",              IntegerType(), True), \\\n",
    "    StructField(\"departure_time\",           IntegerType(), True), \\\n",
    "    StructField(\"scheduled_departure_time\", IntegerType(), True), \\\n",
    "    StructField(\"arrival_time\",             IntegerType(), True), \\\n",
    "    StructField(\"scheduled_arrival_time\",   IntegerType(), True), \\\n",
    "    StructField(\"carrier\",                  StringType(),  True), \\\n",
    "    StructField(\"flight_number\",            StringType(),  True), \\\n",
    "    StructField(\"tail_number\",              StringType(), True), \\\n",
    "    StructField(\"actual_elapsed_time\",      IntegerType(), True), \\\n",
    "    StructField(\"scheduled_elapsed_time\",   IntegerType(), True), \\\n",
    "    StructField(\"air_time\",                 IntegerType(), True), \\\n",
    "    StructField(\"arrival_delay\",            IntegerType(), True), \\\n",
    "    StructField(\"departure_delay\",          IntegerType(), True), \\\n",
    "    StructField(\"src_airport\",              StringType(),  True), \\\n",
    "    StructField(\"dest_airport\",             StringType(),  True), \\\n",
    "    StructField(\"distance\",                 IntegerType(), True), \\\n",
    "    StructField(\"taxi_in_time\",             IntegerType(), True), \\\n",
    "    StructField(\"taxi_out_time\",            IntegerType(), True), \\\n",
    "    StructField(\"cancelled\",                StringType(),  True), \\\n",
    "    StructField(\"cancellation_code\",        StringType(),  True), \\\n",
    "    StructField(\"diverted\",                 StringType(),  True), \\\n",
    "    StructField(\"carrier_delay\",            IntegerType(), True), \\\n",
    "    StructField(\"weather_delay\",            IntegerType(), True), \\\n",
    "    StructField(\"nas_delay\",                IntegerType(), True), \\\n",
    "    StructField(\"security_delay\",           IntegerType(), True), \\\n",
    "    StructField(\"late_aircraft_delay\",      IntegerType(), True)\\\n",
    "])"
   ]
  },
  {
   "cell_type": "markdown",
   "metadata": {},
   "source": [
    "To \"convert\" an RDD to DataFrame, each element in the RDD must be a list of column values that match the data schema."
   ]
  },
  {
   "cell_type": "code",
   "execution_count": 133,
   "metadata": {
    "collapsed": false
   },
   "outputs": [],
   "source": [
    "# convert each line into a tuple of features (columns)\n",
    "cleaned_data_to_columns = cleaned_data.map(lambda l: l.split(\",\"))\\\n",
    "    .map(lambda cols: \n",
    "         (\n",
    "            int(cols[0])  if cols[0] else None,\n",
    "            int(cols[1])  if cols[1] else None,\n",
    "            int(cols[2])  if cols[2] else None,\n",
    "            int(cols[3])  if cols[3] else None,\n",
    "            int(cols[4])  if cols[4] else None,\n",
    "            int(cols[5])  if cols[5] else None,\n",
    "            int(cols[6])  if cols[6] else None,\n",
    "            int(cols[7])  if cols[7] else None,\n",
    "            cols[8]       if cols[8] else None,\n",
    "            cols[9]       if cols[9] else None,\n",
    "            cols[10]      if cols[10] else None,\n",
    "            int(cols[11]) if cols[11] else None,\n",
    "            int(cols[12]) if cols[12] else None,\n",
    "            int(cols[13]) if cols[13] else None,\n",
    "            int(cols[14]) if cols[14] else None,\n",
    "            int(cols[15]) if cols[15] else None,\n",
    "            cols[16]      if cols[16] else None,\n",
    "            cols[17]      if cols[17] else None,\n",
    "            int(cols[18]) if cols[18] else None,\n",
    "            int(cols[19]) if cols[19] else None,\n",
    "            int(cols[20]) if cols[20] else None,\n",
    "            cols[21]      if cols[21] else None,\n",
    "            cols[22]      if cols[22] else None,\n",
    "            cols[23]      if cols[23] else None,\n",
    "            int(cols[24]) if cols[24] else None,\n",
    "            int(cols[25]) if cols[25] else None,\n",
    "            int(cols[26]) if cols[26] else None,\n",
    "            int(cols[27]) if cols[27] else None,\n",
    "            int(cols[28]) if cols[28] else None\n",
    "         ))"
   ]
  },
  {
   "cell_type": "markdown",
   "metadata": {},
   "source": [
    "To train our model, we use the following features: `year`, `month`, `day_of_month`, `day_of_week`, `scheduled_departure_time`, `scheduled_arrival_time`, `arrival_delay`, `distance`, `src_airport`, `dest_airport`."
   ]
  },
  {
   "cell_type": "markdown",
   "metadata": {},
   "source": [
    "### Question 2\n",
    "\n",
    "<div class=\"alert alert-info\">\n",
    "From RDD `cleaned_data_to_columns` and the schema `airline_data_schema` which are declared before, create a new DataFrame **`df`**.  \n",
    "\n",
    "Note that, we should only select the necessary features defined above:  \n",
    "\n",
    "[ `year`, `month`, `day_of_month`, `day_of_week`, `scheduled_departure_time`, `scheduled_arrival_time`, `arrival_delay`, `distance`, `src_airport`, `dest_airport`].  \n",
    "\n",
    "Finally, the data should be cached.\n",
    "</div>"
   ]
  },
  {
   "cell_type": "code",
   "execution_count": 134,
   "metadata": {
    "collapsed": true
   },
   "outputs": [],
   "source": [
    "# create dataframe df\n",
    "df = (sqlContext.createDataFrame(data=cleaned_data_to_columns, schema=airline_data_schema)\n",
    "        .select(\n",
    "        ['year', 'month', 'day_of_month', 'day_of_week', 'scheduled_departure_time',\n",
    "         'scheduled_arrival_time', 'arrival_delay', 'distance', 'src_airport', 'dest_airport', 'carrier'\n",
    "        ])\n",
    "        .cache()\n",
    "    )"
   ]
  },
  {
   "cell_type": "markdown",
   "metadata": {
    "collapsed": true
   },
   "source": [
    "## 3.4 Descriptive statistics\n",
    "Next, we will go over a series of simple queries on our data, to explore it and compute statistics. These queries directly map to the questions you need to answer. \n",
    "\n",
    "**NOTE:** finding the right question to ask is difficult! Don't be afraid to complement the questions below, with your own questions that, in your opinion, are valuable ways to inspect data. This can give you extra points!\n",
    "\n",
    "- Basic queries:\n",
    "  - How many unique origin airports?\n",
    "  - How many unique destination airports?\n",
    "  - How many carriers?\n",
    "  - How many flights that have a scheduled departure time later than 18h00?\n",
    "  \n",
    "- Statistic on flight volume: this kind of statistics are helpful to reason about delays. Indeed, it is plausible to assume that \"*the more flights in an airport, the higher the probability of delay*\".\n",
    "  - How many flights in each month of the year?\n",
    "  - Is there any relationship between the number of flights and the days of week?\n",
    "  - How many flights in different days of months and in different hours of days?\n",
    "  - Which are the top 20 busiest airports (this depends on inbound and outbound traffic)?\n",
    "  - Which are the top 20 busiest carriers?\n",
    "  \n",
    "- Statistic on the fraction of delayed flights\n",
    "  - What is the percentage of delayed flights (over total flights) for different hours of the day?\n",
    "  - Which hours of the day are characterized by the longest flight delay?\n",
    "  - What are the fluctuation of the percentage of delayed flights over different time granularities?\n",
    "  - What is the percentage of delayed flights which depart from one of the top 20 busiest airports?\n",
    "  - What is the percentage of delayed flights which belong to one of the top 20 busiest carriers?"
   ]
  },
  {
   "cell_type": "markdown",
   "metadata": {},
   "source": [
    "### Question 3: Basic queries\n",
    "\n",
    "#### Question 3.1 \n",
    "<div class=\"alert alert-info\">\n",
    "How many origin airports? How many destination airports?\n",
    "</div>"
   ]
  },
  {
   "cell_type": "code",
   "execution_count": 135,
   "metadata": {
    "collapsed": false
   },
   "outputs": [
    {
     "name": "stdout",
     "output_type": "stream",
     "text": [
      "number of origin airports: 224\n",
      "number of destination airports: 224\n"
     ]
    }
   ],
   "source": [
    "num_src_airport = df.select('src_airport').distinct().count()\n",
    "num_dest_airport = df.select('dest_airport').distinct().count()\n",
    "print(\"number of origin airports:\", num_src_airport)\n",
    "print(\"number of destination airports:\", num_src_airport)"
   ]
  },
  {
   "cell_type": "markdown",
   "metadata": {},
   "source": [
    "#### Question 3.2\n",
    "<div class=\"alert alert-info\">\n",
    "How many carriers?\n",
    "</div>"
   ]
  },
  {
   "cell_type": "code",
   "execution_count": 136,
   "metadata": {
    "collapsed": false
   },
   "outputs": [
    {
     "name": "stdout",
     "output_type": "stream",
     "text": [
      "the number distinct carriers: 10\n"
     ]
    }
   ],
   "source": [
    "num_carrier = df.select('carrier').distinct().count()\n",
    "print(\"the number distinct carriers:\", num_carrier)"
   ]
  },
  {
   "cell_type": "markdown",
   "metadata": {},
   "source": [
    "#### Question 3.3\n",
    "\n",
    "<div class=\"alert alert-info\">\n",
    "How many night flights (that is, flights departing later than 6pm)?\n",
    "</div>"
   ]
  },
  {
   "cell_type": "code",
   "execution_count": 137,
   "metadata": {
    "collapsed": false
   },
   "outputs": [
    {
     "name": "stdout",
     "output_type": "stream",
     "text": [
      "the number of night flights: 1078203\n"
     ]
    }
   ],
   "source": [
    "print(\"the number of night flights:\", df[df.scheduled_departure_time > 1800].count())"
   ]
  },
  {
   "cell_type": "markdown",
   "metadata": {},
   "source": [
    "### Question 4: Flight volume statistics\n",
    "\n",
    "#### Question 4.1: \n",
    "\n",
    "<div class=\"alert alert-info\">\n",
    "How many flights in each month of the year? Plot the changes over months by a line chart and comment the figure.\n",
    "From the result, we can learn the dynamics of flight volume over months. For example, if we only consider flights in 1994 (to start, it's always better to focus on smaller amount of data), we can discuss about which months are most likely to have flights experiencing delays.\n",
    "</div>\n"
   ]
  },
  {
   "cell_type": "code",
   "execution_count": 138,
   "metadata": {
    "collapsed": false
   },
   "outputs": [
    {
     "data": {
      "text/html": [
       "<div>\n",
       "<table border=\"1\" class=\"dataframe\">\n",
       "  <thead>\n",
       "    <tr style=\"text-align: right;\">\n",
       "      <th></th>\n",
       "      <th>MonthName</th>\n",
       "      <th>num_flights</th>\n",
       "    </tr>\n",
       "  </thead>\n",
       "  <tbody>\n",
       "    <tr>\n",
       "      <th>1</th>\n",
       "      <td>Jan</td>\n",
       "      <td>423861</td>\n",
       "    </tr>\n",
       "    <tr>\n",
       "      <th>11</th>\n",
       "      <td>Feb</td>\n",
       "      <td>386954</td>\n",
       "    </tr>\n",
       "    <tr>\n",
       "      <th>3</th>\n",
       "      <td>Mar</td>\n",
       "      <td>435516</td>\n",
       "    </tr>\n",
       "    <tr>\n",
       "      <th>6</th>\n",
       "      <td>Apr</td>\n",
       "      <td>420995</td>\n",
       "    </tr>\n",
       "    <tr>\n",
       "      <th>4</th>\n",
       "      <td>May</td>\n",
       "      <td>436432</td>\n",
       "    </tr>\n",
       "    <tr>\n",
       "      <th>2</th>\n",
       "      <td>Jun</td>\n",
       "      <td>426490</td>\n",
       "    </tr>\n",
       "    <tr>\n",
       "      <th>8</th>\n",
       "      <td>Jul</td>\n",
       "      <td>443736</td>\n",
       "    </tr>\n",
       "    <tr>\n",
       "      <th>7</th>\n",
       "      <td>Aug</td>\n",
       "      <td>451086</td>\n",
       "    </tr>\n",
       "    <tr>\n",
       "      <th>5</th>\n",
       "      <td>Sep</td>\n",
       "      <td>430861</td>\n",
       "    </tr>\n",
       "    <tr>\n",
       "      <th>9</th>\n",
       "      <td>Oct</td>\n",
       "      <td>449369</td>\n",
       "    </tr>\n",
       "    <tr>\n",
       "      <th>10</th>\n",
       "      <td>Nov</td>\n",
       "      <td>428227</td>\n",
       "    </tr>\n",
       "    <tr>\n",
       "      <th>0</th>\n",
       "      <td>Dec</td>\n",
       "      <td>446521</td>\n",
       "    </tr>\n",
       "  </tbody>\n",
       "</table>\n",
       "</div>"
      ],
      "text/plain": [
       "   MonthName  num_flights\n",
       "1        Jan       423861\n",
       "11       Feb       386954\n",
       "3        Mar       435516\n",
       "6        Apr       420995\n",
       "4        May       436432\n",
       "2        Jun       426490\n",
       "8        Jul       443736\n",
       "7        Aug       451086\n",
       "5        Sep       430861\n",
       "9        Oct       449369\n",
       "10       Nov       428227\n",
       "0        Dec       446521"
      ]
     },
     "metadata": {},
     "output_type": "display_data"
    },
    {
     "data": {
      "image/png": "[encoded data removed]",
      "text/plain": [
       "<matplotlib.figure.Figure at 0x7fc304341f98>"
      ]
     },
     "metadata": {},
     "output_type": "display_data"
    },
    {
     "data": {
      "text/plain": [
       "12"
      ]
     },
     "execution_count": 138,
     "metadata": {},
     "output_type": "execute_result"
    }
   ],
   "source": [
    "from IPython.display import display\n",
    "statistic_month = df.groupBy('month').count().collect()\n",
    "\n",
    "#statistic_day_of_week.show()\n",
    "pdf = pd.DataFrame(data=statistic_month, columns=['month', 'num_flights'])\n",
    "pdf = pdf.sort_values(['month'])\n",
    "str_month = ['Jan','Feb','Mar','Apr','May','Jun',\n",
    "                             'Jul','Aug','Sep', 'Oct', 'Nov','Dec']\n",
    "pdf['MonthName']=pd.Series(str_month, pdf.index)\n",
    "display(pdf[['MonthName', 'num_flights']])\n",
    "\n",
    "#map_into_month = {1: 'Jan', 2: 'Feb', 3: 'Mar', 4: 'Apr',  5: 'May', 6: 'Jun',\n",
    "                   #7: 'Jul', 8: 'Aug', 9: 'Sep', 10: 'Oct', 11: 'Nov', 12: 'Dec'}\n",
    "#month_label = pdf['month'].map(lambda m: map_into_month[m])\n",
    "\n",
    "#print(pdf.to_html())\n",
    "plt.figure(figsize=(15, 9))\n",
    "plt.xlabel(\"Months\", fontsize=16, fontstyle='oblique')\n",
    "plt.ylabel(\"Number of flights\", fontsize=16, fontstyle='oblique')\n",
    "plt.title('Figure 1: The change of number flights over months', fontsize=20, fontweight='semibold')\n",
    "plt.grid(True,which=\"both\",ls=\"-\")\n",
    "\n",
    "#plt.xticks(pdf['month'], month_label)\n",
    "plt.tight_layout()\n",
    "plt.plot(pdf['month'], pdf['num_flights'], color=dark2_colors[7], linewidth=5)\n",
    "plt.fill_between(pdf['month'], pdf['num_flights'], 340000, color=dark2_colors[7], alpha=0.3)\n",
    "plt.xticks(pdf['month'], str_month, fontsize=18)\n",
    "plt.show()\n",
    "len(pdf['month'])"
   ]
  },
  {
   "cell_type": "markdown",
   "metadata": {},
   "source": [
    "<div class=\"alert alert-warning\"> \n",
    "<b>COMMENT<br/></b>\n",
    "We have found two key details from the graph: <br />\n",
    "- Natural decrease in february due to less number of days<br />\n",
    "- Could the gradual increase releate to vacations (summer), thanksgiving and christmas?<br />\n",
    "\n",
    "</div>"
   ]
  },
  {
   "cell_type": "markdown",
   "metadata": {},
   "source": [
    "#### Question 4.2: \n",
    "<div class=\"alert alert-info\">\n",
    "Is there any relationship between the number of flights and the days of the week?  \n",
    "\n",
    "Plot a bar chart and interpret the figure.  \n",
    "\n",
    "By answering this question, we could learn about the importance of the weekend/weekday feature for our predictive task.\n",
    "</div>"
   ]
  },
  {
   "cell_type": "code",
   "execution_count": 139,
   "metadata": {
    "collapsed": false
   },
   "outputs": [
    {
     "data": {
      "text/html": [
       "<div>\n",
       "<table border=\"1\" class=\"dataframe\">\n",
       "  <thead>\n",
       "    <tr style=\"text-align: right;\">\n",
       "      <th></th>\n",
       "      <th>DayName</th>\n",
       "      <th>num_flights</th>\n",
       "    </tr>\n",
       "  </thead>\n",
       "  <tbody>\n",
       "    <tr>\n",
       "      <th>0</th>\n",
       "      <td>Mon</td>\n",
       "      <td>754636</td>\n",
       "    </tr>\n",
       "    <tr>\n",
       "      <th>1</th>\n",
       "      <td>Sat</td>\n",
       "      <td>695245</td>\n",
       "    </tr>\n",
       "    <tr>\n",
       "      <th>2</th>\n",
       "      <td>Wed</td>\n",
       "      <td>756864</td>\n",
       "    </tr>\n",
       "    <tr>\n",
       "      <th>3</th>\n",
       "      <td>Fri</td>\n",
       "      <td>751531</td>\n",
       "    </tr>\n",
       "    <tr>\n",
       "      <th>4</th>\n",
       "      <td>Thu</td>\n",
       "      <td>751537</td>\n",
       "    </tr>\n",
       "    <tr>\n",
       "      <th>5</th>\n",
       "      <td>Sun</td>\n",
       "      <td>713703</td>\n",
       "    </tr>\n",
       "    <tr>\n",
       "      <th>6</th>\n",
       "      <td>Tue</td>\n",
       "      <td>756532</td>\n",
       "    </tr>\n",
       "  </tbody>\n",
       "</table>\n",
       "</div>"
      ],
      "text/plain": [
       "  DayName  num_flights\n",
       "0     Mon       754636\n",
       "1     Sat       695245\n",
       "2     Wed       756864\n",
       "3     Fri       751531\n",
       "4     Thu       751537\n",
       "5     Sun       713703\n",
       "6     Tue       756532"
      ]
     },
     "metadata": {},
     "output_type": "display_data"
    },
    {
     "data": {
      "image/png": "[encoded data removed]",
      "text/plain": [
       "<matplotlib.figure.Figure at 0x7fc304a07710>"
      ]
     },
     "metadata": {},
     "output_type": "display_data"
    }
   ],
   "source": [
    "statistic_day_of_week = df.groupBy('day_of_week').count().collect()\n",
    "#statistic_day_of_week.show()\n",
    "pdf = pd.DataFrame(data=statistic_day_of_week, columns=['day_of_week', 'num_flights'])\n",
    "#pdf = pdf.sort_values(['day_of_week'])\n",
    "map_int_into_day = { 1:\"Mon\", 2:\"Tue\", 3:\"Wed\", 4:\"Thu\", 5:\"Fri\", 6:\"Sat\", 7:\"Sun\" }\n",
    "day_of_week_label = pdf['day_of_week'].map(lambda i: map_int_into_day[i])\n",
    "pdf['DayName']=pd.Series(day_of_week_label, pdf.index)\n",
    "display(pdf[['DayName', 'num_flights']])\n",
    "\n",
    "plt.figure(figsize=(15, 9))\n",
    "plt.xlabel(\"Days of week\", fontsize=16, fontstyle='oblique')\n",
    "plt.ylabel(\"Number of flights\", fontsize=16, fontstyle='oblique')\n",
    "plt.title('Figure 2: The change of number flights over days of week', fontsize=22, fontweight='bold')\n",
    "plt.grid(True, axis='y',ls=\":\")\n",
    "\n",
    "\n",
    "# plot bar chart\n",
    "plt.bar(pdf['day_of_week'], pdf['num_flights'], color=dark2_colors[0], align='center')\n",
    "\n",
    "plt.xticks(pdf['day_of_week'], day_of_week_label, fontsize=18)\n",
    "plt.show()"
   ]
  },
  {
   "cell_type": "markdown",
   "metadata": {},
   "source": [
    "<div class=\"alert alert-warning\"> \n",
    "\n",
    "<b>COMMENT<br/></b>\n",
    "- Decrease during the week-end, possibly due to less workers taking flights <br />\n",
    "- Mon-Fri values are stable and almost the same<br />\n",
    "\n",
    "</div>"
   ]
  },
  {
   "cell_type": "markdown",
   "metadata": {},
   "source": [
    "#### Question 4.3\n",
    "<div class=\"alert alert-info\">\n",
    "How many flights in different days of months and in different hours of days?  \n",
    "\n",
    "Plot  bar charts, and interpret your figures.\n",
    "</div>"
   ]
  },
  {
   "cell_type": "code",
   "execution_count": 140,
   "metadata": {
    "collapsed": false
   },
   "outputs": [
    {
     "data": {
      "text/html": [
       "<div>\n",
       "<table border=\"1\" class=\"dataframe\">\n",
       "  <thead>\n",
       "    <tr style=\"text-align: right;\">\n",
       "      <th></th>\n",
       "      <th>day_of_month</th>\n",
       "      <th>num_flights</th>\n",
       "    </tr>\n",
       "  </thead>\n",
       "  <tbody>\n",
       "    <tr>\n",
       "      <th>6</th>\n",
       "      <td>1</td>\n",
       "      <td>169674</td>\n",
       "    </tr>\n",
       "    <tr>\n",
       "      <th>28</th>\n",
       "      <td>2</td>\n",
       "      <td>169829</td>\n",
       "    </tr>\n",
       "    <tr>\n",
       "      <th>10</th>\n",
       "      <td>3</td>\n",
       "      <td>168678</td>\n",
       "    </tr>\n",
       "    <tr>\n",
       "      <th>17</th>\n",
       "      <td>4</td>\n",
       "      <td>169399</td>\n",
       "    </tr>\n",
       "    <tr>\n",
       "      <th>12</th>\n",
       "      <td>5</td>\n",
       "      <td>168423</td>\n",
       "    </tr>\n",
       "    <tr>\n",
       "      <th>8</th>\n",
       "      <td>6</td>\n",
       "      <td>170650</td>\n",
       "    </tr>\n",
       "    <tr>\n",
       "      <th>20</th>\n",
       "      <td>7</td>\n",
       "      <td>172210</td>\n",
       "    </tr>\n",
       "    <tr>\n",
       "      <th>18</th>\n",
       "      <td>8</td>\n",
       "      <td>170674</td>\n",
       "    </tr>\n",
       "    <tr>\n",
       "      <th>16</th>\n",
       "      <td>9</td>\n",
       "      <td>170077</td>\n",
       "    </tr>\n",
       "    <tr>\n",
       "      <th>21</th>\n",
       "      <td>10</td>\n",
       "      <td>170252</td>\n",
       "    </tr>\n",
       "    <tr>\n",
       "      <th>26</th>\n",
       "      <td>11</td>\n",
       "      <td>172362</td>\n",
       "    </tr>\n",
       "    <tr>\n",
       "      <th>4</th>\n",
       "      <td>12</td>\n",
       "      <td>169542</td>\n",
       "    </tr>\n",
       "    <tr>\n",
       "      <th>7</th>\n",
       "      <td>13</td>\n",
       "      <td>171230</td>\n",
       "    </tr>\n",
       "    <tr>\n",
       "      <th>27</th>\n",
       "      <td>14</td>\n",
       "      <td>172081</td>\n",
       "    </tr>\n",
       "    <tr>\n",
       "      <th>14</th>\n",
       "      <td>15</td>\n",
       "      <td>170737</td>\n",
       "    </tr>\n",
       "    <tr>\n",
       "      <th>9</th>\n",
       "      <td>16</td>\n",
       "      <td>169985</td>\n",
       "    </tr>\n",
       "    <tr>\n",
       "      <th>15</th>\n",
       "      <td>17</td>\n",
       "      <td>170132</td>\n",
       "    </tr>\n",
       "    <tr>\n",
       "      <th>30</th>\n",
       "      <td>18</td>\n",
       "      <td>171868</td>\n",
       "    </tr>\n",
       "    <tr>\n",
       "      <th>13</th>\n",
       "      <td>19</td>\n",
       "      <td>169483</td>\n",
       "    </tr>\n",
       "    <tr>\n",
       "      <th>11</th>\n",
       "      <td>20</td>\n",
       "      <td>171142</td>\n",
       "    </tr>\n",
       "    <tr>\n",
       "      <th>25</th>\n",
       "      <td>21</td>\n",
       "      <td>172283</td>\n",
       "    </tr>\n",
       "    <tr>\n",
       "      <th>5</th>\n",
       "      <td>22</td>\n",
       "      <td>171305</td>\n",
       "    </tr>\n",
       "    <tr>\n",
       "      <th>19</th>\n",
       "      <td>23</td>\n",
       "      <td>170695</td>\n",
       "    </tr>\n",
       "    <tr>\n",
       "      <th>23</th>\n",
       "      <td>24</td>\n",
       "      <td>166379</td>\n",
       "    </tr>\n",
       "    <tr>\n",
       "      <th>22</th>\n",
       "      <td>25</td>\n",
       "      <td>167435</td>\n",
       "    </tr>\n",
       "    <tr>\n",
       "      <th>2</th>\n",
       "      <td>26</td>\n",
       "      <td>168767</td>\n",
       "    </tr>\n",
       "    <tr>\n",
       "      <th>3</th>\n",
       "      <td>27</td>\n",
       "      <td>171222</td>\n",
       "    </tr>\n",
       "    <tr>\n",
       "      <th>1</th>\n",
       "      <td>28</td>\n",
       "      <td>171760</td>\n",
       "    </tr>\n",
       "    <tr>\n",
       "      <th>24</th>\n",
       "      <td>29</td>\n",
       "      <td>155695</td>\n",
       "    </tr>\n",
       "    <tr>\n",
       "      <th>29</th>\n",
       "      <td>30</td>\n",
       "      <td>155915</td>\n",
       "    </tr>\n",
       "    <tr>\n",
       "      <th>0</th>\n",
       "      <td>31</td>\n",
       "      <td>100164</td>\n",
       "    </tr>\n",
       "  </tbody>\n",
       "</table>\n",
       "</div>"
      ],
      "text/plain": [
       "    day_of_month  num_flights\n",
       "6              1       169674\n",
       "28             2       169829\n",
       "10             3       168678\n",
       "17             4       169399\n",
       "12             5       168423\n",
       "8              6       170650\n",
       "20             7       172210\n",
       "18             8       170674\n",
       "16             9       170077\n",
       "21            10       170252\n",
       "26            11       172362\n",
       "4             12       169542\n",
       "7             13       171230\n",
       "27            14       172081\n",
       "14            15       170737\n",
       "9             16       169985\n",
       "15            17       170132\n",
       "30            18       171868\n",
       "13            19       169483\n",
       "11            20       171142\n",
       "25            21       172283\n",
       "5             22       171305\n",
       "19            23       170695\n",
       "23            24       166379\n",
       "22            25       167435\n",
       "2             26       168767\n",
       "3             27       171222\n",
       "1             28       171760\n",
       "24            29       155695\n",
       "29            30       155915\n",
       "0             31       100164"
      ]
     },
     "metadata": {},
     "output_type": "display_data"
    },
    {
     "data": {
      "image/png": "[encoded data removed]",
      "text/plain": [
       "<matplotlib.figure.Figure at 0x7fc2d3aade10>"
      ]
     },
     "metadata": {},
     "output_type": "display_data"
    }
   ],
   "source": [
    "statistic_day_of_month = df.groupBy('day_of_month').count().collect()\n",
    "\n",
    "pdf = pd.DataFrame(data=statistic_day_of_month, columns=['day_of_month', 'num_flights'])\n",
    "pdf = pdf.sort_values(['day_of_month'])\n",
    "display(pdf)\n",
    "\n",
    "# plot\n",
    "plt.figure(figsize=(16, 8))\n",
    "plt.xlabel(\"Day of month\", fontsize=16, fontstyle='oblique')\n",
    "plt.ylabel(\"Number of flights\", fontsize=16, fontstyle='oblique')\n",
    "plt.title(\"Figure 3: The change of number of flights over days of month\", fontsize=22, fontweight='bold')\n",
    "plt.grid(True, axis='y', ls=':')\n",
    "\n",
    "plt.bar(pdf['day_of_month'], pdf['num_flights'], color=dark2_colors[8])\n",
    "plt.xticks(pdf['day_of_month'], fontsize=18)\n",
    "plt.show()"
   ]
  },
  {
   "cell_type": "markdown",
   "metadata": {},
   "source": [
    "<div class=\"alert alert-warning\"> \n",
    "\n",
    "<b>COMMENT<br/></b>\n",
    "- Natural decrease on the last three days (29, 30, 31) due to variations in number of days in a month<br />\n",
    "\n",
    "</div>"
   ]
  },
  {
   "cell_type": "code",
   "execution_count": 141,
   "metadata": {
    "collapsed": false
   },
   "outputs": [
    {
     "data": {
      "text/html": [
       "<div>\n",
       "<table border=\"1\" class=\"dataframe\">\n",
       "  <thead>\n",
       "    <tr style=\"text-align: right;\">\n",
       "      <th></th>\n",
       "      <th>dep_time</th>\n",
       "      <th>num_flights</th>\n",
       "    </tr>\n",
       "  </thead>\n",
       "  <tbody>\n",
       "    <tr>\n",
       "      <th>count</th>\n",
       "      <td>1162.000000</td>\n",
       "      <td>1162.000000</td>\n",
       "    </tr>\n",
       "    <tr>\n",
       "      <th>mean</th>\n",
       "      <td>1327.987091</td>\n",
       "      <td>4457.872633</td>\n",
       "    </tr>\n",
       "    <tr>\n",
       "      <th>std</th>\n",
       "      <td>608.839024</td>\n",
       "      <td>8878.256034</td>\n",
       "    </tr>\n",
       "    <tr>\n",
       "      <th>min</th>\n",
       "      <td>1.000000</td>\n",
       "      <td>1.000000</td>\n",
       "    </tr>\n",
       "    <tr>\n",
       "      <th>25%</th>\n",
       "      <td>852.250000</td>\n",
       "      <td>629.000000</td>\n",
       "    </tr>\n",
       "    <tr>\n",
       "      <th>50%</th>\n",
       "      <td>1342.500000</td>\n",
       "      <td>1133.000000</td>\n",
       "    </tr>\n",
       "    <tr>\n",
       "      <th>75%</th>\n",
       "      <td>1832.750000</td>\n",
       "      <td>2051.750000</td>\n",
       "    </tr>\n",
       "    <tr>\n",
       "      <th>max</th>\n",
       "      <td>2400.000000</td>\n",
       "      <td>115656.000000</td>\n",
       "    </tr>\n",
       "  </tbody>\n",
       "</table>\n",
       "</div>"
      ],
      "text/plain": [
       "          dep_time    num_flights\n",
       "count  1162.000000    1162.000000\n",
       "mean   1327.987091    4457.872633\n",
       "std     608.839024    8878.256034\n",
       "min       1.000000       1.000000\n",
       "25%     852.250000     629.000000\n",
       "50%    1342.500000    1133.000000\n",
       "75%    1832.750000    2051.750000\n",
       "max    2400.000000  115656.000000"
      ]
     },
     "metadata": {},
     "output_type": "display_data"
    },
    {
     "name": "stdout",
     "output_type": "stream",
     "text": [
      "None\n"
     ]
    },
    {
     "data": {
      "image/png": "[encoded data removed]",
      "text/plain": [
       "<matplotlib.figure.Figure at 0x7fc304a00eb8>"
      ]
     },
     "metadata": {},
     "output_type": "display_data"
    }
   ],
   "source": [
    "statistic_hour_of_day = df.groupBy('scheduled_departure_time').count().collect()\n",
    "#statistic_hour_of_day.show()\n",
    "pdf = pd.DataFrame(data=statistic_hour_of_day, columns=['dep_time', 'num_flights'])\n",
    "pdf = pdf.sort_values(['dep_time'])\n",
    "print(display(pdf.describe()))\n",
    "\n",
    "#plot char chart\n",
    "plt.figure(figsize=(16, 8))\n",
    "plt.xlabel('Departure time', fontsize=16, fontstyle='oblique')\n",
    "plt.ylabel('Number of flights', fontsize=16, fontstyle='oblique')\n",
    "plt.title('Figure 4: The change of number flights over hours of day', fontsize=22, fontweight='bold')\n",
    "plt.grid(True, which='both', ls='-')\n",
    "plt.bar(pdf['dep_time'], pdf['num_flights'])\n",
    "plt.show()"
   ]
  },
  {
   "cell_type": "markdown",
   "metadata": {},
   "source": [
    "<div class=\"alert alert-warning\">\n",
    "<b>COMMENT<br/></b>\n",
    "Night airplane traffic is considerably reduced in comparison to the rest of the traffic.\n",
    "<br/>\n",
    "Traffic starts at 6AM and drops drastically at 10PM.<br/>\n",
    "Biggest peaks are at 7AM (early morning flights, beginning of work shift) and 5PM (probably fue to daily flights returning home)</div>"
   ]
  },
  {
   "cell_type": "markdown",
   "metadata": {},
   "source": [
    "#### Question 4.4\n",
    "<div class=\"alert alert-info\">\n",
    "Which are the **top 20** busiest airports: compute this in terms of aggregate inbound and outbound number of flights?\n",
    "</div>"
   ]
  },
  {
   "cell_type": "code",
   "execution_count": 142,
   "metadata": {
    "collapsed": false
   },
   "outputs": [
    {
     "data": {
      "image/png": "[encoded data removed]",
      "text/plain": [
       "<matplotlib.figure.Figure at 0x7fc304055828>"
      ]
     },
     "metadata": {},
     "output_type": "display_data"
    }
   ],
   "source": [
    "# consider outbound flights\n",
    "stat_src = (df\n",
    "            .groupBy(df.src_airport)\n",
    "            .agg(func.count('*').alias('count1'))\n",
    "            )\n",
    "    \n",
    "# consider inbound flights\n",
    "stat_dest = (df\n",
    "             .groupBy(df.dest_airport)\n",
    "             .agg(func.count('*').alias('count2'))\n",
    "            )\n",
    "\n",
    "#print(stat_src.take(10))\n",
    "#print(stat_dest.take(10))\n",
    "# full join the statistic of inbound flights and outbound flights\n",
    "stat_airports = stat_src.join(stat_dest, stat_src.src_airport == stat_dest.dest_airport, how='inner')\n",
    "\n",
    "# TOP 20 BUSIEST AIRPORTS\n",
    "stat_airport_traffic = (stat_airports\n",
    "                            # define the new column `total` \n",
    "                            # which has values are equal to the sum of `count1` and `count2`\n",
    "                            .withColumn('total', stat_airports['count1'] + stat_airports['count2'])\n",
    "                            # select top airpoint in termns of number of flights\n",
    "                            .select(['dest_airport', 'total']).orderBy(desc('total'))\n",
    "                        )\n",
    "#display(stat_airport_traffic.show())\n",
    "\n",
    "pdf = pd.DataFrame(data=stat_airport_traffic.take(20), columns=['dest_airport', 'total'])\n",
    "bins = range(0, len(pdf['total']))\n",
    "plt.figure(figsize=(15, 9))\n",
    "plt.xlabel('Airport', fontsize=16, fontstyle='oblique')\n",
    "plt.ylabel('Number of flights', fontsize=16, fontstyle='oblique')\n",
    "plt.title('Figure 5: Number of flights per airport', fontsize=22, fontweight='bold')\n",
    "plt.grid(True, which='both')\n",
    "plt.bar(bins, pdf['total'], align='center', color=dark2_colors[11])\n",
    "plt.xticks(bins, pdf['dest_airport'])\n",
    "plt.show()"
   ]
  },
  {
   "cell_type": "markdown",
   "metadata": {},
   "source": [
    "#### Question 4.5\n",
    "<div class=\"alert alert-info\">\n",
    "Which are the **top 20** busiest carriers: compute this in terms of number of flights? \n",
    "</div>\n"
   ]
  },
  {
   "cell_type": "code",
   "execution_count": 143,
   "metadata": {
    "collapsed": false
   },
   "outputs": [
    {
     "data": {
      "text/html": [
       "<div>\n",
       "<table border=\"1\" class=\"dataframe\">\n",
       "  <thead>\n",
       "    <tr style=\"text-align: right;\">\n",
       "      <th></th>\n",
       "      <th>carrier</th>\n",
       "      <th>count</th>\n",
       "    </tr>\n",
       "  </thead>\n",
       "  <tbody>\n",
       "    <tr>\n",
       "      <th>0</th>\n",
       "      <td>DL</td>\n",
       "      <td>874526</td>\n",
       "    </tr>\n",
       "    <tr>\n",
       "      <th>1</th>\n",
       "      <td>US</td>\n",
       "      <td>857906</td>\n",
       "    </tr>\n",
       "    <tr>\n",
       "      <th>2</th>\n",
       "      <td>AA</td>\n",
       "      <td>722277</td>\n",
       "    </tr>\n",
       "    <tr>\n",
       "      <th>3</th>\n",
       "      <td>UA</td>\n",
       "      <td>638750</td>\n",
       "    </tr>\n",
       "    <tr>\n",
       "      <th>4</th>\n",
       "      <td>WN</td>\n",
       "      <td>565426</td>\n",
       "    </tr>\n",
       "    <tr>\n",
       "      <th>5</th>\n",
       "      <td>CO</td>\n",
       "      <td>484834</td>\n",
       "    </tr>\n",
       "    <tr>\n",
       "      <th>6</th>\n",
       "      <td>NW</td>\n",
       "      <td>482798</td>\n",
       "    </tr>\n",
       "    <tr>\n",
       "      <th>7</th>\n",
       "      <td>TW</td>\n",
       "      <td>258205</td>\n",
       "    </tr>\n",
       "    <tr>\n",
       "      <th>8</th>\n",
       "      <td>HP</td>\n",
       "      <td>177851</td>\n",
       "    </tr>\n",
       "    <tr>\n",
       "      <th>9</th>\n",
       "      <td>AS</td>\n",
       "      <td>117475</td>\n",
       "    </tr>\n",
       "  </tbody>\n",
       "</table>\n",
       "</div>"
      ],
      "text/plain": [
       "  carrier   count\n",
       "0      DL  874526\n",
       "1      US  857906\n",
       "2      AA  722277\n",
       "3      UA  638750\n",
       "4      WN  565426\n",
       "5      CO  484834\n",
       "6      NW  482798\n",
       "7      TW  258205\n",
       "8      HP  177851\n",
       "9      AS  117475"
      ]
     },
     "metadata": {},
     "output_type": "display_data"
    }
   ],
   "source": [
    "stat_carrier = (df\n",
    "                .groupBy(df.carrier)\n",
    "                .agg(func.count('*').alias('count'))\n",
    "                .orderBy(desc('count'))\n",
    "                )\n",
    "\n",
    "display(pd.DataFrame(stat_carrier.take(20), columns=['carrier', 'count']))"
   ]
  },
  {
   "cell_type": "markdown",
   "metadata": {},
   "source": [
    "### Question 5 \n",
    "Statistics on the percentage of delayed flights\n",
    "\n",
    "#### Question 5.1\n",
    "<div class=\"alert alert-info\">\n",
    "What is the percentage of delayed flights for different hours of the day?  \n",
    "\n",
    "Plot a bar chart and interpret the figure.  \n",
    "\n",
    "\n",
    "<div class=\"label label-success\">Remember</div> a flight is considered as delayed if it's actual arrival time is more than 15 minutes late than the scheduled arrival time.\n",
    "</div>"
   ]
  },
  {
   "cell_type": "code",
   "execution_count": 144,
   "metadata": {
    "collapsed": true
   },
   "outputs": [],
   "source": [
    "# 'year', 'month', 'day_of_month', 'day_of_week', 'scheduled_departure_time',\n",
    "# 'scheduled_arrival_time', 'arrival_delay', 'distance', 'src_airport', 'dest_airport', 'carrier'\n",
    "\n",
    "# create new column that marks whether the flights are delay\n",
    "df_with_delay = df.withColumn('is_delay', when(df['arrival_delay'] >= 15, 1).otherwise(0))\n",
    "\n",
    "# create a new column that indicates the scheduled departure time in hour \n",
    "# (ignore the part of minute)\n",
    "delay_per_hour = df_with_delay.withColumn('hour', round(df.scheduled_departure_time/100, 0))\n",
    "\n",
    "# group by year and hour\n",
    "statistic_delay_hour = delay_per_hour.groupBy(['year', 'hour'])\n",
    "\n",
    "# calculate the delay ratio and create a new column\n",
    "delay_ratio_per_hour = statistic_delay_hour.agg(\n",
    "    (func.sum('is_delay')/func.count('*')).alias('delay_ratio')\n",
    ")\n",
    "\n",
    "    \n",
    "# order the result by hour\n",
    "delay_ratio_per_hour = (\n",
    "            delay_ratio_per_hour\n",
    "                .orderBy('hour')\n",
    "                .select(['hour', 'delay_ratio'])\n",
    "    )\n",
    "\n",
    "pdf_delay_ratio_per_hour = pd.DataFrame(data=delay_ratio_per_hour.collect(), columns=['hour', 'delay_ratio'])"
   ]
  },
  {
   "cell_type": "code",
   "execution_count": 145,
   "metadata": {
    "collapsed": false
   },
   "outputs": [
    {
     "data": {
      "image/png": "[encoded data removed]",
      "text/plain": [
       "<matplotlib.figure.Figure at 0x7fc2e04301d0>"
      ]
     },
     "metadata": {},
     "output_type": "display_data"
    }
   ],
   "source": [
    "\n",
    "# plot a bar chart\n",
    "\n",
    "plt.figure(figsize=(13, 7))\n",
    "plt.grid(True, which='both', ls='-')\n",
    "plt.xlabel('Hour of day', fontsize=16, fontstyle='oblique')\n",
    "plt.ylabel('Delay ratio', fontsize=16, fontstyle='oblique')\n",
    "\n",
    "plt.title('Figure 4: The ratio of delay over hours in day', fontsize=22, fontweight='bold')\n",
    "plt.bar(pdf_delay_ratio_per_hour['hour'], pdf_delay_ratio_per_hour['delay_ratio'], color=dark2_colors[13])\n",
    "plt.show()"
   ]
  },
  {
   "cell_type": "markdown",
   "metadata": {},
   "source": [
    "\n",
    "<div class=\"alert alert-warning\">\n",
    "<b>COMMENT<br/></b>\n",
    "There is celarly a valley period during the night where the delays decrease considerably. <br/>\n",
    "Starting from 5AM (which is the hour when the number of flights starts increasing, from section 4.3) \n",
    " the ratio increases constantly, to peak in the late afternoon, between 18h and 20h</div>"
   ]
  },
  {
   "cell_type": "markdown",
   "metadata": {},
   "source": [
    "#### Question 5.2\n",
    "<div class=\"alert alert-info\">\n",
    "You will realize that saying *\"at 4 A.M. there is a very low chance of a flight being delayed\"* is not giving you a full picture of the situation. Indeed, it might be true that there is very little probability for an early flight to be delayed, but if it does, the delay might be huge, like 6 hours!  \n",
    "\n",
    "<ul></ul>\n",
    "\n",
    "Then, the question is: **which hours of the day are characterized by the largest delay?**  \n",
    "\n",
    "Plot a Bar chart and explain it.  \n",
    "\n",
    "</div>"
   ]
  },
  {
   "cell_type": "code",
   "execution_count": 146,
   "metadata": {
    "collapsed": false
   },
   "outputs": [
    {
     "data": {
      "image/png": "[encoded data removed]",
      "text/plain": [
       "<matplotlib.figure.Figure at 0x7fc2df9eef28>"
      ]
     },
     "metadata": {},
     "output_type": "display_data"
    }
   ],
   "source": [
    "mean_delay_per_hour = statistic_delay_hour.agg(\n",
    "    (func.mean('arrival_delay')).alias('mean_delay')\n",
    ")\n",
    "    \n",
    "mean_delay_per_hour = (\n",
    "    mean_delay_per_hour\n",
    "        .orderBy('hour')\n",
    "        .select(['hour','mean_delay'])\n",
    "    )\n",
    "    \n",
    "pdf_mean_delay_per_hour = pd.DataFrame(data=mean_delay_per_hour.collect(), columns=['hour', 'mean_delay'])\n",
    "\n",
    "plt.figure(figsize=(13, 7))\n",
    "plt.grid(True, which='both', ls='-')\n",
    "plt.xlabel('Hour', fontsize=16, fontstyle='oblique')\n",
    "plt.ylabel('Mean delay', fontsize=16, fontstyle='oblique')\n",
    "plt.title('Figure 5: The delay over hours in day', fontsize=22, fontweight='bold')\n",
    "plt.bar(pdf_mean_delay_per_hour['hour'], pdf_mean_delay_per_hour['mean_delay'], color=dark2_colors[3])\n",
    "plt.show()"
   ]
  },
  {
   "cell_type": "markdown",
   "metadata": {},
   "source": [
    "<div class=\"alert alert-warning\">\n",
    "<b>COMMENT<br/></b>\n",
    "It remains highly correlated to the figure above.<br/>\n",
    "Between 3AM and 4AM there is a period when flights tend to be early on arrival.</div>"
   ]
  },
  {
   "cell_type": "markdown",
   "metadata": {},
   "source": [
    "With data of year 1994, the flight from 3AM to 4AM often depart earlier than in their schedule. The flights in the morning have less delay then in the afternoon and evening.\n",
    "\n",
    "So, an attentive student should notice here that we have somehow a problem with the definition of delay! Next, we will improve how to represent and visualize data to overcome this problem."
   ]
  },
  {
   "cell_type": "code",
   "execution_count": 147,
   "metadata": {
    "collapsed": false
   },
   "outputs": [
    {
     "data": {
      "image/png": "[encoded data removed]",
      "text/plain": [
       "<matplotlib.figure.Figure at 0x7fc2dfa15f60>"
      ]
     },
     "metadata": {},
     "output_type": "display_data"
    }
   ],
   "source": [
    "#pdf2 = pd.DataFrame(data=mean_delay_per_hour.collect())\n",
    "\n",
    "plt.figure(figsize=(13, 7))\n",
    "plt.xlabel(\"Hours\", fontsize=16, fontstyle='oblique')\n",
    "plt.ylabel(\"Ratio of delay\", fontsize=16, fontstyle='oblique')\n",
    "plt.title('Figure 6: The ratio of delay over hours in day', fontsize=22, fontweight='bold')\n",
    "plt.grid(True,which=\"both\",ls=\"-\")\n",
    "bars = plt.bar(pdf_delay_ratio_per_hour['hour'], pdf_delay_ratio_per_hour['delay_ratio'], align='center', edgecolor = \"black\")\n",
    "for i in range(0, len(bars)):\n",
    "    color = 'red'\n",
    "    if pdf_mean_delay_per_hour['mean_delay'][i] < 0:\n",
    "        color = 'lightgreen'\n",
    "    elif pdf_mean_delay_per_hour['mean_delay'][i] < 2:\n",
    "        color = 'green'\n",
    "    elif pdf_mean_delay_per_hour['mean_delay'][i] < 4:\n",
    "        color = 'yellow'\n",
    "    elif pdf_mean_delay_per_hour['mean_delay'][i] < 8:\n",
    "        color = 'orange'\n",
    "\n",
    "    bars[i].set_color(color)\n",
    "        \n",
    "patch1 = mpatches.Patch(color='lightgreen', label='Depart earlier')\n",
    "patch2 = mpatches.Patch(color='green', label='delay < 2 minutes')\n",
    "patch3 = mpatches.Patch(color='yellow', label='delay < 4 minutes')\n",
    "patch4 = mpatches.Patch(color='orange', label='delay < 8 minutes')\n",
    "patch5 = mpatches.Patch(color='red', label='delay >= 8 minutes')\n",
    "\n",
    "plt.legend(handles=[patch1, patch2, patch3, patch4, patch5],  loc='left',\n",
    "           borderaxespad=0.)\n",
    "\n",
    "plt.show()"
   ]
  },
  {
   "cell_type": "markdown",
   "metadata": {},
   "source": [
    "<div class=\"alert alert-warning\">\n",
    "<b>COMMENT</b><br/>\n",
    "This figure directly corrrelates with the previous figures: the hours of the highest delay ratio are also the hours with the biggest delay period.<br />\n",
    "Here we can perfectly separate all the hours into several ranges of delays: <br />\n",
    "<ul>\n",
    "    <li><b>Green:</b> Is present during night hours from 2am to 7am</li>\n",
    "    <li><b>Yellow:</b> Late night at 1am and early morning from 8am to 10am</li>\n",
    "    <li><b>Orange:</b> Around mid day 11am to 3pm and around early night from 9pm to 12pm </li>\n",
    "    <li><b>Red:</b> Late afternoon between 4pm and 8 pm.</li>\n",
    "</ul>\n",
    "</div>"
   ]
  },
  {
   "cell_type": "markdown",
   "metadata": {},
   "source": [
    "In the new figure (Figure 6), we have more information in a single plot. The flights in 3AM to 4AM have very low probability of being delayed, and actually depart earlier than their schedule. In contrast, the flights in the 4PM to 8PM range have higher chances of being delayed: in more than 50% of the cases, the delay is 8 minutes or more.\n",
    "\n",
    "This example shows us that the way representing results are also important.\n"
   ]
  },
  {
   "cell_type": "markdown",
   "metadata": {},
   "source": [
    "<div class='alert alert-warning'>\n",
    "<h4>Flight delay distribution:</h4>\n",
    "We would also like to see how the distribution of delayed flights are over all. How many delays are short, and how many are long?\n",
    "</div>"
   ]
  },
  {
   "cell_type": "code",
   "execution_count": 148,
   "metadata": {
    "collapsed": false
   },
   "outputs": [],
   "source": [
    "pdArrivDelay = pd.DataFrame(df.select(['arrival_delay', ]).collect(), columns=['Delay'])"
   ]
  },
  {
   "cell_type": "code",
   "execution_count": 149,
   "metadata": {
    "collapsed": false
   },
   "outputs": [
    {
     "data": {
      "image/png": "[encoded data removed]",
      "text/plain": [
       "<matplotlib.figure.Figure at 0x7fc3042c9cf8>"
      ]
     },
     "metadata": {},
     "output_type": "display_data"
    }
   ],
   "source": [
    "# Plot The distribution of flight delays\n",
    "plt.figure(figsize=(14, 7))\n",
    "plt.xlabel(\"Arrival delay in minutes\", fontsize=16, fontstyle='oblique')\n",
    "plt.ylabel(\"Probability\", fontsize=16, fontstyle='oblique')\n",
    "plt.title('Figure 7: Arrival Delay Distribution', fontsize=22, fontweight='bold')\n",
    "plt.grid(True, axis='y',ls=\"-\")\n",
    "plt.hist(pdArrivDelay.Delay.dropna(), bins=400, normed=1, alpha=0.75, color=dark2_colors[2])\n",
    "plt.xlim(-25,150)\n",
    "plt.show()"
   ]
  },
  {
   "cell_type": "markdown",
   "metadata": {},
   "source": [
    "<div class='alert alert-warning'>\n",
    "<b>COMENT</b><br/>\n",
    "Surprisingly enough, the distribution on the average delay follows what appears to be a <b>Poisson distribution</b>, a well known distribution from Network Modelling that describes arrival rates in Markov processes. From this apparently accidental fact we can infer that plane arrivals behave like independent stochastic processes. We think that this can only be said about the wider picture, since looking at individual plane flights would reveal a correlation with planes taking off/landing at adjacent times.<br/><br/>\n",
    "Sources: http://statistics.wikidot.com/ch6  |  https://www.netlab.tkk.fi/opetus/s383143/kalvot/E_poisson.pdf\n",
    "</div>"
   ]
  },
  {
   "cell_type": "markdown",
   "metadata": {},
   "source": [
    "#### Question 5.3\n",
    "<div class=\"alert alert-info\">\n",
    "Plot a bar chart to show the percentage of delayed flights over days in a month\n",
    "</div>"
   ]
  },
  {
   "cell_type": "code",
   "execution_count": 150,
   "metadata": {
    "collapsed": false
   },
   "outputs": [
    {
     "data": {
      "text/html": [
       "<div>\n",
       "<table border=\"1\" class=\"dataframe\">\n",
       "  <thead>\n",
       "    <tr style=\"text-align: right;\">\n",
       "      <th></th>\n",
       "      <th>day_of_month</th>\n",
       "      <th>delay_ratio</th>\n",
       "    </tr>\n",
       "  </thead>\n",
       "  <tbody>\n",
       "    <tr>\n",
       "      <th>count</th>\n",
       "      <td>31.000000</td>\n",
       "      <td>31.000000</td>\n",
       "    </tr>\n",
       "    <tr>\n",
       "      <th>mean</th>\n",
       "      <td>16.000000</td>\n",
       "      <td>0.169824</td>\n",
       "    </tr>\n",
       "    <tr>\n",
       "      <th>std</th>\n",
       "      <td>9.092121</td>\n",
       "      <td>0.017973</td>\n",
       "    </tr>\n",
       "    <tr>\n",
       "      <th>min</th>\n",
       "      <td>1.000000</td>\n",
       "      <td>0.141680</td>\n",
       "    </tr>\n",
       "    <tr>\n",
       "      <th>25%</th>\n",
       "      <td>8.500000</td>\n",
       "      <td>0.158178</td>\n",
       "    </tr>\n",
       "    <tr>\n",
       "      <th>50%</th>\n",
       "      <td>16.000000</td>\n",
       "      <td>0.169033</td>\n",
       "    </tr>\n",
       "    <tr>\n",
       "      <th>75%</th>\n",
       "      <td>23.500000</td>\n",
       "      <td>0.176646</td>\n",
       "    </tr>\n",
       "    <tr>\n",
       "      <th>max</th>\n",
       "      <td>31.000000</td>\n",
       "      <td>0.219627</td>\n",
       "    </tr>\n",
       "  </tbody>\n",
       "</table>\n",
       "</div>"
      ],
      "text/plain": [
       "       day_of_month  delay_ratio\n",
       "count     31.000000    31.000000\n",
       "mean      16.000000     0.169824\n",
       "std        9.092121     0.017973\n",
       "min        1.000000     0.141680\n",
       "25%        8.500000     0.158178\n",
       "50%       16.000000     0.169033\n",
       "75%       23.500000     0.176646\n",
       "max       31.000000     0.219627"
      ]
     },
     "metadata": {},
     "output_type": "display_data"
    },
    {
     "data": {
      "image/png": "[encoded data removed]",
      "text/plain": [
       "<matplotlib.figure.Figure at 0x7fc2db6d0eb8>"
      ]
     },
     "metadata": {},
     "output_type": "display_data"
    }
   ],
   "source": [
    "####### The changes of delay ratio over days of month ########\n",
    "# calculate the delay ratio in each day of month\n",
    "statistic_day_of_month = (\n",
    "    df_with_delay\n",
    "        .groupBy('day_of_month')\n",
    "        # is_dealy is either 0 or 1\n",
    "        .agg(func.sum('is_delay')/func.count('*')).alias('delay_ratio')\n",
    "        # order by day_of_month\n",
    "        .orderBy('day_of_month')\n",
    "    )\n",
    "    \n",
    "# collect data and plot\n",
    "pdf_day_of_month = pd.DataFrame(data=statistic_day_of_month.collect(), columns=['day_of_month', 'delay_ratio'])\n",
    "\n",
    "display(pdf_day_of_month.describe())\n",
    "\n",
    "plt.figure(figsize=(14, 7))\n",
    "plt.xlabel(\"Day of month\", fontsize=16, fontstyle='oblique')\n",
    "plt.ylabel(\"Mean delay\", fontsize=16, fontstyle='oblique')\n",
    "plt.title('Figure 8: The ratio of delay over days of month', fontsize=22, fontweight='bold')\n",
    "plt.grid(True, axis='y',ls=\":\")\n",
    "plt.bar(pdf_day_of_month['day_of_month'], pdf_day_of_month['delay_ratio'], color=dark2_colors[9])\n",
    "plt.show()\n",
    "\n"
   ]
  },
  {
   "cell_type": "markdown",
   "metadata": {},
   "source": [
    "<div class=\"alert alert-warning\"> \n",
    "<b>COMMENT</b><br/>\n",
    "From the figure we can identify 3 local minimums on the 4th, 11th and the 19th. Looking at the calendar for 1994 we see that these days were often placed on a weekday where the delay ratio is low (figure below) from saturday to tuesday. This is due to the different periodicity of the weeks with relation to the months/years. We disgard the dates after the 28th due to the different anomalies shown in <b>figure 3</b>: number of flights per day.\n",
    "</div>"
   ]
  },
  {
   "cell_type": "markdown",
   "metadata": {},
   "source": [
    "#### Question 5.4\n",
    "<div class=\"alert alert-info\">\n",
    "Plot a bar chart to show the percentage of delayed flights over days in a week\n",
    "</div>"
   ]
  },
  {
   "cell_type": "code",
   "execution_count": 151,
   "metadata": {
    "collapsed": false
   },
   "outputs": [
    {
     "data": {
      "image/png": "[encoded data removed]",
      "text/plain": [
       "<matplotlib.figure.Figure at 0x7fc304c68f60>"
      ]
     },
     "metadata": {},
     "output_type": "display_data"
    }
   ],
   "source": [
    "\n",
    "####### The changes of delay ratio over days of week ########\n",
    "# calculate the delay ratio in each day of week\n",
    "statistic_day_of_week = (\n",
    "    df_with_delay\n",
    "        .groupBy('day_of_week')\n",
    "        .agg(func.sum('is_delay')/func.count('*')).alias('delay_ratio')\n",
    "        # order by day_of_month\n",
    "        .orderBy('day_of_week')\n",
    "    )\n",
    "    \n",
    "# collect data and plot\n",
    "pdf_day_of_week = pd.DataFrame(data=statistic_day_of_week.collect(), columns=['day_of_week', 'ratio'])\n",
    "map_int_into_day = { 1:\"Mon\", 2:\"Tue\", 3:\"Wed\", 4:\"Thu\", 5:\"Fri\", 6:\"Sat\", 7:\"Sun\" }\n",
    "day_of_week_label = pdf_day_of_week['day_of_week'].map(lambda i: map_int_into_day[i])\n",
    "\n",
    "\n",
    "plt.figure(figsize=(14, 7))\n",
    "plt.xlabel(\"Day of the week\", fontsize=16, fontstyle='oblique')\n",
    "plt.ylabel(\"Ratio\", fontsize=16, fontstyle='oblique')\n",
    "plt.title('Figure 9: The ratio of delay over days of week', fontsize=22, fontweight='bold')\n",
    "plt.grid(True, axis='y',ls=\":\")\n",
    "plt.xticks(pdf_day_of_week['day_of_week'], day_of_week_label, fontsize = 20)\n",
    "plt.bar(pdf_day_of_week['day_of_week'], pdf_day_of_week['ratio'], align='center', color=dark2_colors[11])\n",
    "plt.show()\n"
   ]
  },
  {
   "cell_type": "markdown",
   "metadata": {},
   "source": [
    "<div class=\"alert alert-warning\">\n",
    "<b>COMMENT</b><br/>\n",
    "During the weekends we observe that there are less chances to get a delayed flight. This relates to the total amount of traffic during thw weekend. Since there is less traffic overall, the chances of being delayed due to unavailable runways are smaller</div>"
   ]
  },
  {
   "cell_type": "markdown",
   "metadata": {},
   "source": [
    "#### Question 5.5\n",
    "<div class=\"alert alert-info\">\n",
    "Plot a bar chart to show the percentage of delayed flights over months in a year\n",
    "</div>"
   ]
  },
  {
   "cell_type": "code",
   "execution_count": 152,
   "metadata": {
    "collapsed": false
   },
   "outputs": [
    {
     "data": {
      "image/png": "[encoded data removed]",
      "text/plain": [
       "<matplotlib.figure.Figure at 0x7fc2e7d57dd8>"
      ]
     },
     "metadata": {},
     "output_type": "display_data"
    }
   ],
   "source": [
    "\n",
    "####### The changes of delay ratio over months ########\n",
    "# calculate the delay ratio in month\n",
    "statistic_month = (\n",
    "    df_with_delay.groupBy('month').agg(func.sum('is_delay')/func.count('*').alias('delay_ratio'))\n",
    "    )\n",
    "    \n",
    "# collect data and plot\n",
    "pdf_month = pd.DataFrame(data=statistic_month.collect(), columns=['month', 'ratio'])\n",
    "map_into_month = {1: 'Jan', 2: 'Feb', 3: 'Mar', 4: 'Apr',  5: 'May', 6: 'Jun',\n",
    "                  7: 'Jul', 8: 'Aug', 9: 'Sep', 10: 'Oct', 11: 'Nov', 12: 'Dec'}\n",
    "month_label = pdf_month['month'].map(lambda m: map_into_month[m])\n",
    "\n",
    "\n",
    "plt.figure(figsize=(14, 7))\n",
    "plt.xlabel(\"Month\", fontsize=16, fontstyle='oblique')\n",
    "plt.ylabel(\"Ratio\", fontsize=16, fontstyle='oblique')\n",
    "plt.title('Figure 10: The ratio of delay over months', fontsize=22, fontweight='bold')\n",
    "plt.grid(True, axis='y',ls=\":\")\n",
    "plt.xticks(pdf_month['month'], month_label, fontsize=18)\n",
    "plt.bar(pdf_month['month'], pdf_month['ratio'], align='center', color=dark2_colors[12])\n",
    "plt.show()\n"
   ]
  },
  {
   "cell_type": "markdown",
   "metadata": {},
   "source": [
    "<div class=\"alert alert-warning\">\n",
    "<b>COMMENT</b><br/>\n",
    "The plot shows certain seasonality, with local maximum in January (Christmas) and July (Summer vacations).<br/>\n",
    "One possible explanation to the peak arround January could be the weather. Bad weather conditions during winter do generally affect netagively to the plane delays, which is why January doubles the ratio from May.</div>"
   ]
  },
  {
   "cell_type": "markdown",
   "metadata": {},
   "source": [
    "We are ready now to draw some observations from our data, even if we have only looked at data coming from a year worth of flights:\n",
    "\n",
    "- The probability for a flight to be delayed is low at the beginning or at the very end of a given months\n",
    "- Flights on two first weekdays and on the weekend, are less likely to be delayed\n",
    "- May and September are very good months for travelling, as the probability of delay is low (remember we're working on US data. Do you think this is also true in France?)\n",
    "\n",
    "Putting things together, we can have a global picture of the whole year!"
   ]
  },
  {
   "cell_type": "code",
   "execution_count": 153,
   "metadata": {
    "collapsed": false
   },
   "outputs": [
    {
     "data": {
      "text/html": [
       "<div>\n",
       "<table border=\"1\" class=\"dataframe\">\n",
       "  <thead>\n",
       "    <tr style=\"text-align: right;\">\n",
       "      <th></th>\n",
       "      <th>year</th>\n",
       "      <th>month</th>\n",
       "      <th>day_of_month</th>\n",
       "      <th>day_of_week</th>\n",
       "      <th>delayRatio</th>\n",
       "    </tr>\n",
       "  </thead>\n",
       "  <tbody>\n",
       "    <tr>\n",
       "      <th>count</th>\n",
       "      <td>365</td>\n",
       "      <td>365.000000</td>\n",
       "      <td>365.000000</td>\n",
       "      <td>365.000000</td>\n",
       "      <td>365.000000</td>\n",
       "    </tr>\n",
       "    <tr>\n",
       "      <th>mean</th>\n",
       "      <td>1994</td>\n",
       "      <td>6.526027</td>\n",
       "      <td>15.720548</td>\n",
       "      <td>4.005479</td>\n",
       "      <td>0.169894</td>\n",
       "    </tr>\n",
       "    <tr>\n",
       "      <th>std</th>\n",
       "      <td>0</td>\n",
       "      <td>3.452584</td>\n",
       "      <td>8.808321</td>\n",
       "      <td>2.002738</td>\n",
       "      <td>0.075968</td>\n",
       "    </tr>\n",
       "    <tr>\n",
       "      <th>min</th>\n",
       "      <td>1994</td>\n",
       "      <td>1.000000</td>\n",
       "      <td>1.000000</td>\n",
       "      <td>1.000000</td>\n",
       "      <td>0.029605</td>\n",
       "    </tr>\n",
       "    <tr>\n",
       "      <th>25%</th>\n",
       "      <td>1994</td>\n",
       "      <td>4.000000</td>\n",
       "      <td>8.000000</td>\n",
       "      <td>2.000000</td>\n",
       "      <td>0.108375</td>\n",
       "    </tr>\n",
       "    <tr>\n",
       "      <th>50%</th>\n",
       "      <td>1994</td>\n",
       "      <td>7.000000</td>\n",
       "      <td>16.000000</td>\n",
       "      <td>4.000000</td>\n",
       "      <td>0.155041</td>\n",
       "    </tr>\n",
       "    <tr>\n",
       "      <th>75%</th>\n",
       "      <td>1994</td>\n",
       "      <td>10.000000</td>\n",
       "      <td>23.000000</td>\n",
       "      <td>6.000000</td>\n",
       "      <td>0.216959</td>\n",
       "    </tr>\n",
       "    <tr>\n",
       "      <th>max</th>\n",
       "      <td>1994</td>\n",
       "      <td>12.000000</td>\n",
       "      <td>31.000000</td>\n",
       "      <td>7.000000</td>\n",
       "      <td>0.430963</td>\n",
       "    </tr>\n",
       "  </tbody>\n",
       "</table>\n",
       "</div>"
      ],
      "text/plain": [
       "       year       month  day_of_month  day_of_week  delayRatio\n",
       "count   365  365.000000    365.000000   365.000000  365.000000\n",
       "mean   1994    6.526027     15.720548     4.005479    0.169894\n",
       "std       0    3.452584      8.808321     2.002738    0.075968\n",
       "min    1994    1.000000      1.000000     1.000000    0.029605\n",
       "25%    1994    4.000000      8.000000     2.000000    0.108375\n",
       "50%    1994    7.000000     16.000000     4.000000    0.155041\n",
       "75%    1994   10.000000     23.000000     6.000000    0.216959\n",
       "max    1994   12.000000     31.000000     7.000000    0.430963"
      ]
     },
     "execution_count": 153,
     "metadata": {},
     "output_type": "execute_result"
    }
   ],
   "source": [
    "df_with_delay = df.withColumn('is_delay', when(df[\"arrival_delay\"] >= 15, 1).otherwise(0))\n",
    "statistic_day = df_with_delay.groupBy(['year','month', 'day_of_month', 'day_of_week'])\\\n",
    "    .agg((func.sum('is_delay')/func.count('*')).alias('delay_ratio'))\n",
    "\n",
    "# assume that we do statistic on year 1994\n",
    "statistic_day = statistic_day\\\n",
    "    .orderBy('year', 'month', 'day_of_month', 'day_of_week')\n",
    "pdf = pd.DataFrame(data=statistic_day.collect(), columns=\n",
    "                   ['year','month', 'day_of_month', 'day_of_week', 'delayRatio'])\n",
    "pdf.describe()"
   ]
  },
  {
   "cell_type": "code",
   "execution_count": 154,
   "metadata": {
    "collapsed": false
   },
   "outputs": [
    {
     "data": {
      "image/png": "[encoded data removed]",
      "text/plain": [
       "<matplotlib.figure.Figure at 0x7fc2edce6320>"
      ]
     },
     "metadata": {},
     "output_type": "display_data"
    },
    {
     "data": {
      "image/png": "[encoded data removed]",
      "text/plain": [
       "<matplotlib.figure.Figure at 0x7fc30421cba8>"
      ]
     },
     "metadata": {},
     "output_type": "display_data"
    }
   ],
   "source": [
    "fig = plt.figure(figsize=(25,14))\n",
    "\n",
    "plt.xlabel(\"Weeks/Months in year\", fontsize=16, fontstyle='oblique')\n",
    "plt.ylabel(\"Day of weeks (1:Monday -> 7 :Sunday)\", fontsize=16, fontstyle='oblique')\n",
    "plt.title('Figure 11: The change of number flights over days in year', fontsize=22, fontweight='bold')\n",
    "ax = fig.add_subplot(1,1,1)     \n",
    "  \n",
    "rec_size = 0.3\n",
    "from matplotlib.patches import Rectangle\n",
    "import datetime\n",
    "num_days = len(pdf.year)\n",
    "ax.patch.set_facecolor('gray')\n",
    "ax.set_aspect('equal', 'box')\n",
    "ax.xaxis.set_major_locator(plt.NullLocator())\n",
    "ax.yaxis.set_major_locator(plt.NullLocator())\n",
    "\n",
    "for i in range(0, num_days):\n",
    "    # extract information from the result\n",
    "    year = pdf.year[i]\n",
    "    month = pdf.month[i]\n",
    "    day_of_month = pdf.day_of_month[i]\n",
    "    day_of_week = pdf.day_of_week[i]\n",
    "    day_of_year= datetime.date(year=year, month=month, day=day_of_month).timetuple()\n",
    "    week_of_year = datetime.date(year=year, month=month, day=day_of_month).isocalendar()[1]\n",
    "    \n",
    "    # dealing with the week of the previous year\n",
    "    if week_of_year == 52 and month == 1:\n",
    "        week_of_year = 0\n",
    "        \n",
    "    # the coordinate of a day in graph\n",
    "    X = week_of_year*rec_size\n",
    "    Y = day_of_week*rec_size\n",
    "    \n",
    "    # use different colors to show the delay ratio\n",
    "    cMap = ListedColormap(['white', 'palegreen', 'greenyellow', 'yellow','gold', 'orange', 'tomato', 'brown', 'maroon'])\n",
    "    if pdf.delayRatio[i] <= 0.086802:\n",
    "        color = 'white'\n",
    "    elif pdf.delayRatio[i] <= 0.106950:\n",
    "        color = 'palegreen'\n",
    "    elif pdf.delayRatio[i] <= 0.130625:\n",
    "        color = 'greenyellow'\n",
    "    elif pdf.delayRatio[i] <= 0.152415:\n",
    "        color = 'yellow'\n",
    "    elif pdf.delayRatio[i] <= 0.180998:\n",
    "        color = 'gold'\n",
    "    elif pdf.delayRatio[i] <= 0.210556:\n",
    "        color = 'orange'\n",
    "    elif pdf.delayRatio[i] <= 0.246090:\n",
    "        color = 'tomato'\n",
    "    elif pdf.delayRatio[i] <= 0.315542:\n",
    "        color = 'brown'\n",
    "    else:\n",
    "        color = 'maroon'\n",
    "    rect = plt.Rectangle((X - rec_size/2.0, Y - rec_size/2.0), rec_size, rec_size,\n",
    "                      alpha=1, facecolor=color, edgecolor='whitesmoke')\n",
    "\n",
    "    ax.add_patch(rect)\n",
    "    \n",
    "    # drawing boders to separate months\n",
    "    if day_of_month <= 7:\n",
    "        rect2 = plt.Rectangle((X -rec_size/2.0, Y - rec_size/2.0), 0.01, rec_size,\n",
    "                      alpha=1, facecolor='black')\n",
    "        ax.add_patch(rect2)\n",
    "    if day_of_month == 1:\n",
    "        rect2 = plt.Rectangle((X - rec_size/2.0, Y - rec_size/2.0), rec_size, 0.01,\n",
    "                      alpha=1, facecolor='black')\n",
    "        ax.add_patch(rect2)\n",
    "ax.autoscale_view()\n",
    "\n",
    "plt.show()\n",
    "\n",
    "fig = plt.figure(figsize=(15, 1))\n",
    "ax1 = fig.add_axes([0.05, 0.80, 0.9, 0.1])\n",
    "norm = mpl.colors.Normalize(vmin=0, vmax=43.0963)\n",
    "plt.title('% of delay ratio')\n",
    "cb1 = mpl.colorbar.ColorbarBase(ax1, cmap=cMap,\n",
    "                                norm=norm,\n",
    "                                orientation='horizontal')"
   ]
  },
  {
   "cell_type": "markdown",
   "metadata": {},
   "source": [
    "#### Question 5.6\n",
    "<div class=\"alert alert-info\">\n",
    "Explain figure 10.\n",
    "</div>"
   ]
  },
  {
   "cell_type": "markdown",
   "metadata": {},
   "source": [
    "<div class=\"alert alert-warning\"> <b>COMMENT</b><br/>\n",
    "The figure summarizes and supports several earlier plots. With a single plot we are able to categorize each day in the year by the % of delay ratio, shown in different colours in a scale. From this we can identify peaks of delay, related to high7low seasons. Mid-winter and mid-summer are the two densest periods in the year, while May and September are very low. \n",
    "We can already state that bad weather during winter season does affect negatively to the airplane delays. It turns out that also <a href='http://www.businessinsider.com/why-planes-cant-fly-in-extreme-heat-2013-7?IR=T'>hot weather during summer season increases delay chances</a>\n",
    "</div>"
   ]
  },
  {
   "cell_type": "markdown",
   "metadata": {
    "collapsed": true
   },
   "source": [
    "#### Question 5.7\n",
    "<div class=\"alert alert-info\">\n",
    "\n",
    "What is the delay probability for the top 20 busiest airports?  \n",
    "\n",
    "\n",
    "By drawing the flight volume of each airport and the associated delay probability in a single plot, we can observe the relationship between airports, number of flights and the delay.  \n",
    "\n",
    "<div class=\"label label-success\">HINT </div>  Function `<df_colum>.isin(<list>)` helps checking whether a value in column belongs to a list.\n",
    "</div>"
   ]
  },
  {
   "cell_type": "code",
   "execution_count": 155,
   "metadata": {
    "collapsed": false
   },
   "outputs": [
    {
     "data": {
      "text/html": [
       "<div>\n",
       "<table border=\"1\" class=\"dataframe\">\n",
       "  <thead>\n",
       "    <tr style=\"text-align: right;\">\n",
       "      <th></th>\n",
       "      <th>iata</th>\n",
       "      <th>airport</th>\n",
       "      <th>city</th>\n",
       "      <th>state</th>\n",
       "      <th>country</th>\n",
       "      <th>lat</th>\n",
       "      <th>long</th>\n",
       "    </tr>\n",
       "  </thead>\n",
       "  <tbody>\n",
       "    <tr>\n",
       "      <th>0</th>\n",
       "      <td>00M</td>\n",
       "      <td>Thigpen</td>\n",
       "      <td>Bay Springs</td>\n",
       "      <td>MS</td>\n",
       "      <td>USA</td>\n",
       "      <td>31.953765</td>\n",
       "      <td>-89.234505</td>\n",
       "    </tr>\n",
       "    <tr>\n",
       "      <th>1</th>\n",
       "      <td>00R</td>\n",
       "      <td>Livingston Municipal</td>\n",
       "      <td>Livingston</td>\n",
       "      <td>TX</td>\n",
       "      <td>USA</td>\n",
       "      <td>30.685861</td>\n",
       "      <td>-95.017928</td>\n",
       "    </tr>\n",
       "    <tr>\n",
       "      <th>2</th>\n",
       "      <td>00V</td>\n",
       "      <td>Meadow Lake</td>\n",
       "      <td>Colorado Springs</td>\n",
       "      <td>CO</td>\n",
       "      <td>USA</td>\n",
       "      <td>38.945749</td>\n",
       "      <td>-104.569893</td>\n",
       "    </tr>\n",
       "    <tr>\n",
       "      <th>3</th>\n",
       "      <td>01G</td>\n",
       "      <td>Perry-Warsaw</td>\n",
       "      <td>Perry</td>\n",
       "      <td>NY</td>\n",
       "      <td>USA</td>\n",
       "      <td>42.741347</td>\n",
       "      <td>-78.052081</td>\n",
       "    </tr>\n",
       "    <tr>\n",
       "      <th>4</th>\n",
       "      <td>01J</td>\n",
       "      <td>Hilliard Airpark</td>\n",
       "      <td>Hilliard</td>\n",
       "      <td>FL</td>\n",
       "      <td>USA</td>\n",
       "      <td>30.688012</td>\n",
       "      <td>-81.905944</td>\n",
       "    </tr>\n",
       "    <tr>\n",
       "      <th>5</th>\n",
       "      <td>01M</td>\n",
       "      <td>Tishomingo County</td>\n",
       "      <td>Belmont</td>\n",
       "      <td>MS</td>\n",
       "      <td>USA</td>\n",
       "      <td>34.491667</td>\n",
       "      <td>-88.201111</td>\n",
       "    </tr>\n",
       "    <tr>\n",
       "      <th>6</th>\n",
       "      <td>02A</td>\n",
       "      <td>Gragg-Wade</td>\n",
       "      <td>Clanton</td>\n",
       "      <td>AL</td>\n",
       "      <td>USA</td>\n",
       "      <td>32.850487</td>\n",
       "      <td>-86.611453</td>\n",
       "    </tr>\n",
       "    <tr>\n",
       "      <th>7</th>\n",
       "      <td>02C</td>\n",
       "      <td>Capitol</td>\n",
       "      <td>Brookfield</td>\n",
       "      <td>WI</td>\n",
       "      <td>USA</td>\n",
       "      <td>43.087510</td>\n",
       "      <td>-88.177869</td>\n",
       "    </tr>\n",
       "    <tr>\n",
       "      <th>8</th>\n",
       "      <td>02G</td>\n",
       "      <td>Columbiana County</td>\n",
       "      <td>East Liverpool</td>\n",
       "      <td>OH</td>\n",
       "      <td>USA</td>\n",
       "      <td>40.673313</td>\n",
       "      <td>-80.641406</td>\n",
       "    </tr>\n",
       "    <tr>\n",
       "      <th>9</th>\n",
       "      <td>03D</td>\n",
       "      <td>Memphis Memorial</td>\n",
       "      <td>Memphis</td>\n",
       "      <td>MO</td>\n",
       "      <td>USA</td>\n",
       "      <td>40.447259</td>\n",
       "      <td>-92.226961</td>\n",
       "    </tr>\n",
       "  </tbody>\n",
       "</table>\n",
       "</div>"
      ],
      "text/plain": [
       "  iata               airport              city state country        lat  \\\n",
       "0  00M              Thigpen        Bay Springs    MS     USA  31.953765   \n",
       "1  00R  Livingston Municipal        Livingston    TX     USA  30.685861   \n",
       "2  00V           Meadow Lake  Colorado Springs    CO     USA  38.945749   \n",
       "3  01G          Perry-Warsaw             Perry    NY     USA  42.741347   \n",
       "4  01J      Hilliard Airpark          Hilliard    FL     USA  30.688012   \n",
       "5  01M     Tishomingo County           Belmont    MS     USA  34.491667   \n",
       "6  02A           Gragg-Wade            Clanton    AL     USA  32.850487   \n",
       "7  02C               Capitol        Brookfield    WI     USA  43.087510   \n",
       "8  02G     Columbiana County    East Liverpool    OH     USA  40.673313   \n",
       "9  03D      Memphis Memorial           Memphis    MO     USA  40.447259   \n",
       "\n",
       "         long  \n",
       "0  -89.234505  \n",
       "1  -95.017928  \n",
       "2 -104.569893  \n",
       "3  -78.052081  \n",
       "4  -81.905944  \n",
       "5  -88.201111  \n",
       "6  -86.611453  \n",
       "7  -88.177869  \n",
       "8  -80.641406  \n",
       "9  -92.226961  "
      ]
     },
     "metadata": {},
     "output_type": "display_data"
    },
    {
     "data": {
      "text/html": [
       "<div>\n",
       "<table border=\"1\" class=\"dataframe\">\n",
       "  <thead>\n",
       "    <tr style=\"text-align: right;\">\n",
       "      <th></th>\n",
       "      <th>iata</th>\n",
       "      <th>city</th>\n",
       "    </tr>\n",
       "  </thead>\n",
       "  <tbody>\n",
       "    <tr>\n",
       "      <th>0</th>\n",
       "      <td>00M</td>\n",
       "      <td>Bay Springs</td>\n",
       "    </tr>\n",
       "    <tr>\n",
       "      <th>1</th>\n",
       "      <td>00R</td>\n",
       "      <td>Livingston</td>\n",
       "    </tr>\n",
       "    <tr>\n",
       "      <th>2</th>\n",
       "      <td>00V</td>\n",
       "      <td>Colorado Springs</td>\n",
       "    </tr>\n",
       "    <tr>\n",
       "      <th>3</th>\n",
       "      <td>01G</td>\n",
       "      <td>Perry</td>\n",
       "    </tr>\n",
       "    <tr>\n",
       "      <th>4</th>\n",
       "      <td>01J</td>\n",
       "      <td>Hilliard</td>\n",
       "    </tr>\n",
       "    <tr>\n",
       "      <th>5</th>\n",
       "      <td>01M</td>\n",
       "      <td>Belmont</td>\n",
       "    </tr>\n",
       "    <tr>\n",
       "      <th>6</th>\n",
       "      <td>02A</td>\n",
       "      <td>Clanton</td>\n",
       "    </tr>\n",
       "    <tr>\n",
       "      <th>7</th>\n",
       "      <td>02C</td>\n",
       "      <td>Brookfield</td>\n",
       "    </tr>\n",
       "    <tr>\n",
       "      <th>8</th>\n",
       "      <td>02G</td>\n",
       "      <td>East Liverpool</td>\n",
       "    </tr>\n",
       "    <tr>\n",
       "      <th>9</th>\n",
       "      <td>03D</td>\n",
       "      <td>Memphis</td>\n",
       "    </tr>\n",
       "  </tbody>\n",
       "</table>\n",
       "</div>"
      ],
      "text/plain": [
       "  iata              city\n",
       "0  00M       Bay Springs\n",
       "1  00R        Livingston\n",
       "2  00V  Colorado Springs\n",
       "3  01G             Perry\n",
       "4  01J          Hilliard\n",
       "5  01M           Belmont\n",
       "6  02A           Clanton\n",
       "7  02C        Brookfield\n",
       "8  02G    East Liverpool\n",
       "9  03D           Memphis"
      ]
     },
     "metadata": {},
     "output_type": "display_data"
    }
   ],
   "source": [
    "# Importing Airport names\n",
    "airportInfo = pd.read_csv(\"support/airports.csv\")\n",
    "display(airportInfo[:10])\n",
    "airportNames = airportInfo.drop(['lat', 'long', 'country', 'state', 'airport'],1)\n",
    "display(airportNames[:10])"
   ]
  },
  {
   "cell_type": "code",
   "execution_count": 156,
   "metadata": {
    "collapsed": false
   },
   "outputs": [
    {
     "data": {
      "text/html": [
       "<div>\n",
       "<table border=\"1\" class=\"dataframe\">\n",
       "  <thead>\n",
       "    <tr style=\"text-align: right;\">\n",
       "      <th></th>\n",
       "      <th>src_airport</th>\n",
       "      <th>delay_ratio</th>\n",
       "      <th>city</th>\n",
       "    </tr>\n",
       "  </thead>\n",
       "  <tbody>\n",
       "    <tr>\n",
       "      <th>0</th>\n",
       "      <td>ATL</td>\n",
       "      <td>0.212054</td>\n",
       "      <td>Atlanta</td>\n",
       "    </tr>\n",
       "    <tr>\n",
       "      <th>1</th>\n",
       "      <td>BOS</td>\n",
       "      <td>0.203378</td>\n",
       "      <td>Boston</td>\n",
       "    </tr>\n",
       "    <tr>\n",
       "      <th>2</th>\n",
       "      <td>CLT</td>\n",
       "      <td>0.222512</td>\n",
       "      <td>Charlotte</td>\n",
       "    </tr>\n",
       "    <tr>\n",
       "      <th>3</th>\n",
       "      <td>DCA</td>\n",
       "      <td>0.159986</td>\n",
       "      <td>Arlington</td>\n",
       "    </tr>\n",
       "    <tr>\n",
       "      <th>4</th>\n",
       "      <td>DEN</td>\n",
       "      <td>0.203547</td>\n",
       "      <td>Denver</td>\n",
       "    </tr>\n",
       "    <tr>\n",
       "      <th>5</th>\n",
       "      <td>DFW</td>\n",
       "      <td>0.225247</td>\n",
       "      <td>Dallas-Fort Worth</td>\n",
       "    </tr>\n",
       "    <tr>\n",
       "      <th>6</th>\n",
       "      <td>DTW</td>\n",
       "      <td>0.170692</td>\n",
       "      <td>Detroit</td>\n",
       "    </tr>\n",
       "    <tr>\n",
       "      <th>7</th>\n",
       "      <td>EWR</td>\n",
       "      <td>0.264396</td>\n",
       "      <td>Newark</td>\n",
       "    </tr>\n",
       "    <tr>\n",
       "      <th>8</th>\n",
       "      <td>IAH</td>\n",
       "      <td>0.166017</td>\n",
       "      <td>Houston</td>\n",
       "    </tr>\n",
       "    <tr>\n",
       "      <th>9</th>\n",
       "      <td>LAS</td>\n",
       "      <td>0.172188</td>\n",
       "      <td>Las Vegas</td>\n",
       "    </tr>\n",
       "    <tr>\n",
       "      <th>10</th>\n",
       "      <td>LAX</td>\n",
       "      <td>0.169961</td>\n",
       "      <td>Los Angeles</td>\n",
       "    </tr>\n",
       "    <tr>\n",
       "      <th>11</th>\n",
       "      <td>LGA</td>\n",
       "      <td>0.190283</td>\n",
       "      <td>New York</td>\n",
       "    </tr>\n",
       "    <tr>\n",
       "      <th>12</th>\n",
       "      <td>MCO</td>\n",
       "      <td>0.167726</td>\n",
       "      <td>Orlando</td>\n",
       "    </tr>\n",
       "    <tr>\n",
       "      <th>13</th>\n",
       "      <td>MSP</td>\n",
       "      <td>0.155857</td>\n",
       "      <td>Minneapolis</td>\n",
       "    </tr>\n",
       "    <tr>\n",
       "      <th>14</th>\n",
       "      <td>ORD</td>\n",
       "      <td>0.167883</td>\n",
       "      <td>Chicago</td>\n",
       "    </tr>\n",
       "    <tr>\n",
       "      <th>15</th>\n",
       "      <td>PHL</td>\n",
       "      <td>0.215056</td>\n",
       "      <td>Philadelphia</td>\n",
       "    </tr>\n",
       "    <tr>\n",
       "      <th>16</th>\n",
       "      <td>PHX</td>\n",
       "      <td>0.171943</td>\n",
       "      <td>Phoenix</td>\n",
       "    </tr>\n",
       "    <tr>\n",
       "      <th>17</th>\n",
       "      <td>PIT</td>\n",
       "      <td>0.218840</td>\n",
       "      <td>Pittsburgh</td>\n",
       "    </tr>\n",
       "    <tr>\n",
       "      <th>18</th>\n",
       "      <td>SFO</td>\n",
       "      <td>0.166349</td>\n",
       "      <td>San Francisco</td>\n",
       "    </tr>\n",
       "    <tr>\n",
       "      <th>19</th>\n",
       "      <td>STL</td>\n",
       "      <td>0.188775</td>\n",
       "      <td>St Louis</td>\n",
       "    </tr>\n",
       "  </tbody>\n",
       "</table>\n",
       "</div>"
      ],
      "text/plain": [
       "   src_airport  delay_ratio               city\n",
       "0          ATL     0.212054            Atlanta\n",
       "1          BOS     0.203378             Boston\n",
       "2          CLT     0.222512          Charlotte\n",
       "3          DCA     0.159986          Arlington\n",
       "4          DEN     0.203547             Denver\n",
       "5          DFW     0.225247  Dallas-Fort Worth\n",
       "6          DTW     0.170692            Detroit\n",
       "7          EWR     0.264396             Newark\n",
       "8          IAH     0.166017            Houston\n",
       "9          LAS     0.172188          Las Vegas\n",
       "10         LAX     0.169961        Los Angeles\n",
       "11         LGA     0.190283           New York\n",
       "12         MCO     0.167726            Orlando\n",
       "13         MSP     0.155857        Minneapolis\n",
       "14         ORD     0.167883            Chicago\n",
       "15         PHL     0.215056       Philadelphia\n",
       "16         PHX     0.171943            Phoenix\n",
       "17         PIT     0.218840         Pittsburgh\n",
       "18         SFO     0.166349      San Francisco\n",
       "19         STL     0.188775           St Louis"
      ]
     },
     "metadata": {},
     "output_type": "display_data"
    }
   ],
   "source": [
    "####### The delay ratio of the top 20 busiest airports ########\n",
    "K = 20\n",
    "\n",
    "# extract top_20_airports from stat_airport_traffic\n",
    "top_20_airports = [item[0] for item in stat_airport_traffic.take(K)]\n",
    "\n",
    "# select the statistic of source airports\n",
    "statistic_ratio_delay_airport = (\n",
    "    df_with_delay\n",
    "        # select only flights that depart from one of top 20 ariports\n",
    "        .filter(df_with_delay.src_airport.isin(top_20_airports))\n",
    "        # group by source airport\n",
    "        .groupBy('src_airport')\n",
    "        #  calculate the delay ratio\n",
    "        .agg(func.sum('is_delay')/func.count('*').alias('delay_ratio'))\n",
    "        # sort by name of airport\n",
    "        .orderBy(['src_airport'])\n",
    "    )\n",
    "\n",
    "top_20_airportsPD = pd.DataFrame(statistic_ratio_delay_airport.take(20), columns=['src_airport', 'delay_ratio'])\n",
    "top_20_airportsRenamed = pd.merge(top_20_airportsPD, airportNames, left_on='src_airport', right_on='iata', how='inner')\n",
    "\n",
    "display(top_20_airportsRenamed.drop('iata', 1))"
   ]
  },
  {
   "cell_type": "code",
   "execution_count": 157,
   "metadata": {
    "collapsed": false
   },
   "outputs": [
    {
     "data": {
      "image/png": "[encoded data removed]",
      "text/plain": [
       "<matplotlib.figure.Figure at 0x7fc2d75fe940>"
      ]
     },
     "metadata": {},
     "output_type": "display_data"
    }
   ],
   "source": [
    "# collect data and plot\n",
    "pdf_ratio_delay_airport = pd.DataFrame(data=statistic_ratio_delay_airport.collect())\n",
    "pdf_top_20_airport_volume = pd.DataFrame(data=stat_airport_traffic.take(K), columns=['src_airport', 'total'])\n",
    "pdf_top_20_airport_volume = pdf_top_20_airport_volume.sort_values(by='src_airport')\n",
    "#print(pdf_top_20_airport_volume)\n",
    "index = np.arange(len(top_20_airports))\n",
    "bar_width = 0.35\n",
    "opacity = 0.4\n",
    "\n",
    "\n",
    "fig = plt.figure(figsize=(20,10))                                                             \n",
    "ax = fig.add_subplot(1,1,1)\n",
    "\n",
    "ax2 = ax.twinx()\n",
    "plt.axis('normal')\n",
    "ax.set_xlabel(\"Airport\", fontsize=22, fontstyle='oblique')\n",
    "ax.set_ylabel(\"Flight volume\", fontsize=22, fontstyle='oblique')\n",
    "ax2.set_ylabel(\"Ratio of delay\", fontsize=22, fontstyle='oblique')\n",
    "plt.xticks(index + bar_width, top_20_airportsRenamed.city)\n",
    "plt.setp(ax.get_xticklabels(), rotation=40, fontsize=22, ha='right')\n",
    "\n",
    "plt.title('Figure 12: Flight volume & Delay ratio for Airports', fontsize=26, fontweight='bold')\n",
    "plt.grid(True, axis='y',ls=\":\")\n",
    "bar = ax.bar(index, pdf_top_20_airport_volume['total'], \n",
    "        bar_width, color=dark2_colors[1], \n",
    "        label='flight volume')\n",
    "bar2 = ax2.bar(index + 1.5*bar_width, pdf_ratio_delay_airport[1], bar_width, \n",
    "       align='center', color=dark2_colors[7], \n",
    "       label='Delay ratio')\n",
    "\n",
    "lines, labels = ax.get_legend_handles_labels()\n",
    "lines2, labels2 = ax2.get_legend_handles_labels()\n",
    "ax2.legend(lines + lines2, labels + labels2, loc=0, prop={'size':25})\n",
    "\n",
    "plt.tight_layout()\n",
    "plt.show()"
   ]
  },
  {
   "cell_type": "markdown",
   "metadata": {},
   "source": [
    "<div class=\"alert alert-warning\">\n",
    "<b>COMMENT</b><br/>\n",
    "There is no visible correlation between the flight volumne in an airport and the delay ratio.\n",
    "</div>"
   ]
  },
  {
   "cell_type": "markdown",
   "metadata": {},
   "source": [
    "#### Question 5.8\n",
    "<div class=\"alert alert-info\">\n",
    "What is the percentage of delayed flights which belong to one of the top 20 busiest carriers?  \n",
    "Comment the figure!\n",
    "</div>"
   ]
  },
  {
   "cell_type": "code",
   "execution_count": 158,
   "metadata": {
    "collapsed": false
   },
   "outputs": [
    {
     "data": {
      "text/html": [
       "<div>\n",
       "<table border=\"1\" class=\"dataframe\">\n",
       "  <thead>\n",
       "    <tr style=\"text-align: right;\">\n",
       "      <th></th>\n",
       "      <th>carrier</th>\n",
       "      <th>delay_ratio</th>\n",
       "    </tr>\n",
       "  </thead>\n",
       "  <tbody>\n",
       "    <tr>\n",
       "      <th>0</th>\n",
       "      <td>AA</td>\n",
       "      <td>0.175244</td>\n",
       "    </tr>\n",
       "    <tr>\n",
       "      <th>1</th>\n",
       "      <td>AS</td>\n",
       "      <td>0.159642</td>\n",
       "    </tr>\n",
       "    <tr>\n",
       "      <th>2</th>\n",
       "      <td>CO</td>\n",
       "      <td>0.195558</td>\n",
       "    </tr>\n",
       "    <tr>\n",
       "      <th>3</th>\n",
       "      <td>DL</td>\n",
       "      <td>0.183284</td>\n",
       "    </tr>\n",
       "    <tr>\n",
       "      <th>4</th>\n",
       "      <td>HP</td>\n",
       "      <td>0.186251</td>\n",
       "    </tr>\n",
       "    <tr>\n",
       "      <th>5</th>\n",
       "      <td>NW</td>\n",
       "      <td>0.129481</td>\n",
       "    </tr>\n",
       "    <tr>\n",
       "      <th>6</th>\n",
       "      <td>TW</td>\n",
       "      <td>0.182123</td>\n",
       "    </tr>\n",
       "    <tr>\n",
       "      <th>7</th>\n",
       "      <td>UA</td>\n",
       "      <td>0.168653</td>\n",
       "    </tr>\n",
       "    <tr>\n",
       "      <th>8</th>\n",
       "      <td>US</td>\n",
       "      <td>0.184223</td>\n",
       "    </tr>\n",
       "    <tr>\n",
       "      <th>9</th>\n",
       "      <td>WN</td>\n",
       "      <td>0.128298</td>\n",
       "    </tr>\n",
       "  </tbody>\n",
       "</table>\n",
       "</div>"
      ],
      "text/plain": [
       "  carrier  delay_ratio\n",
       "0      AA     0.175244\n",
       "1      AS     0.159642\n",
       "2      CO     0.195558\n",
       "3      DL     0.183284\n",
       "4      HP     0.186251\n",
       "5      NW     0.129481\n",
       "6      TW     0.182123\n",
       "7      UA     0.168653\n",
       "8      US     0.184223\n",
       "9      WN     0.128298"
      ]
     },
     "metadata": {},
     "output_type": "display_data"
    }
   ],
   "source": [
    "K = 20\n",
    "\n",
    "# extract top_20_carriers from stat_carrier\n",
    "top_20_carriers = [item[0] for item in stat_carrier.take(K)]\n",
    "\n",
    "statistic_ratio_delay_carrier = (\n",
    "    df_with_delay\n",
    "        # select only flights that belong from one of top 20 carriers\n",
    "        .filter(df_with_delay.carrier.isin(top_20_carriers))\n",
    "        # group by carriers\n",
    "        .groupBy('carrier')\n",
    "        #  calculate the delay ratio\n",
    "        .agg(func.sum('is_delay')/func.count('*').alias('delay_ratio'))\n",
    "        # sort by name of airport\n",
    "        .orderBy(['carrier'])\n",
    "    )\n",
    "\n",
    "top_20_carriers_delay = pd.DataFrame(statistic_ratio_delay_carrier.take(20), columns=['carrier', 'delay_ratio'])\n",
    "display(top_20_carriers_delay)"
   ]
  },
  {
   "cell_type": "code",
   "execution_count": 159,
   "metadata": {
    "collapsed": false
   },
   "outputs": [
    {
     "data": {
      "text/html": [
       "<div>\n",
       "<table border=\"1\" class=\"dataframe\">\n",
       "  <thead>\n",
       "    <tr style=\"text-align: right;\">\n",
       "      <th></th>\n",
       "      <th>Code</th>\n",
       "      <th>Description</th>\n",
       "    </tr>\n",
       "  </thead>\n",
       "  <tbody>\n",
       "    <tr>\n",
       "      <th>0</th>\n",
       "      <td>02Q</td>\n",
       "      <td>Titan Airways</td>\n",
       "    </tr>\n",
       "    <tr>\n",
       "      <th>1</th>\n",
       "      <td>04Q</td>\n",
       "      <td>Tradewind Aviation</td>\n",
       "    </tr>\n",
       "    <tr>\n",
       "      <th>2</th>\n",
       "      <td>05Q</td>\n",
       "      <td>Comlux Aviation</td>\n",
       "    </tr>\n",
       "    <tr>\n",
       "      <th>3</th>\n",
       "      <td>06Q</td>\n",
       "      <td>Master Top Linhas Aereas Ltd</td>\n",
       "    </tr>\n",
       "    <tr>\n",
       "      <th>4</th>\n",
       "      <td>07Q</td>\n",
       "      <td>Flair Airlines Ltd</td>\n",
       "    </tr>\n",
       "    <tr>\n",
       "      <th>5</th>\n",
       "      <td>09Q</td>\n",
       "      <td>Swift Air</td>\n",
       "    </tr>\n",
       "    <tr>\n",
       "      <th>6</th>\n",
       "      <td>0BQ</td>\n",
       "      <td>DCA</td>\n",
       "    </tr>\n",
       "    <tr>\n",
       "      <th>7</th>\n",
       "      <td>0CQ</td>\n",
       "      <td>ACM AIR CHARTER GmbH</td>\n",
       "    </tr>\n",
       "    <tr>\n",
       "      <th>8</th>\n",
       "      <td>0FQ</td>\n",
       "      <td>Maine Aviation Aircraft Charter</td>\n",
       "    </tr>\n",
       "    <tr>\n",
       "      <th>9</th>\n",
       "      <td>0GQ</td>\n",
       "      <td>Inter Island Airways</td>\n",
       "    </tr>\n",
       "  </tbody>\n",
       "</table>\n",
       "</div>"
      ],
      "text/plain": [
       "  Code                      Description\n",
       "0  02Q                    Titan Airways\n",
       "1  04Q               Tradewind Aviation\n",
       "2  05Q                  Comlux Aviation\n",
       "3  06Q     Master Top Linhas Aereas Ltd\n",
       "4  07Q               Flair Airlines Ltd\n",
       "5  09Q                        Swift Air\n",
       "6  0BQ                              DCA\n",
       "7  0CQ             ACM AIR CHARTER GmbH\n",
       "8  0FQ  Maine Aviation Aircraft Charter\n",
       "9  0GQ             Inter Island Airways"
      ]
     },
     "metadata": {},
     "output_type": "display_data"
    }
   ],
   "source": [
    "# Importing Carrier names\n",
    "carrierInfo = pd.read_csv(\"support/carriers.csv\")\n",
    "\n",
    "carrierInfo.Description = carrierInfo.Description.map(lambda x:x.split(',')[0])\n",
    "carrierInfo.Description = carrierInfo.Description.map(lambda x:x.split('.')[0])\n",
    "display(carrierInfo[:10])"
   ]
  },
  {
   "cell_type": "code",
   "execution_count": 160,
   "metadata": {
    "collapsed": false
   },
   "outputs": [
    {
     "data": {
      "text/html": [
       "<div>\n",
       "<table border=\"1\" class=\"dataframe\">\n",
       "  <thead>\n",
       "    <tr style=\"text-align: right;\">\n",
       "      <th></th>\n",
       "      <th>carrier</th>\n",
       "      <th>count</th>\n",
       "      <th>Description</th>\n",
       "    </tr>\n",
       "  </thead>\n",
       "  <tbody>\n",
       "    <tr>\n",
       "      <th>0</th>\n",
       "      <td>AA</td>\n",
       "      <td>722277</td>\n",
       "      <td>American Airlines Inc</td>\n",
       "    </tr>\n",
       "    <tr>\n",
       "      <th>1</th>\n",
       "      <td>AS</td>\n",
       "      <td>117475</td>\n",
       "      <td>Alaska Airlines Inc</td>\n",
       "    </tr>\n",
       "    <tr>\n",
       "      <th>2</th>\n",
       "      <td>CO</td>\n",
       "      <td>484834</td>\n",
       "      <td>Continental Air Lines Inc</td>\n",
       "    </tr>\n",
       "    <tr>\n",
       "      <th>3</th>\n",
       "      <td>DL</td>\n",
       "      <td>874526</td>\n",
       "      <td>Delta Air Lines Inc</td>\n",
       "    </tr>\n",
       "    <tr>\n",
       "      <th>4</th>\n",
       "      <td>HP</td>\n",
       "      <td>177851</td>\n",
       "      <td>America West Airlines Inc</td>\n",
       "    </tr>\n",
       "    <tr>\n",
       "      <th>5</th>\n",
       "      <td>NW</td>\n",
       "      <td>482798</td>\n",
       "      <td>Northwest Airlines Inc</td>\n",
       "    </tr>\n",
       "    <tr>\n",
       "      <th>6</th>\n",
       "      <td>TW</td>\n",
       "      <td>258205</td>\n",
       "      <td>Trans World Airways LLC</td>\n",
       "    </tr>\n",
       "    <tr>\n",
       "      <th>7</th>\n",
       "      <td>UA</td>\n",
       "      <td>638750</td>\n",
       "      <td>United Air Lines Inc</td>\n",
       "    </tr>\n",
       "    <tr>\n",
       "      <th>8</th>\n",
       "      <td>US</td>\n",
       "      <td>857906</td>\n",
       "      <td>US Airways Inc</td>\n",
       "    </tr>\n",
       "    <tr>\n",
       "      <th>9</th>\n",
       "      <td>WN</td>\n",
       "      <td>565426</td>\n",
       "      <td>Southwest Airlines Co</td>\n",
       "    </tr>\n",
       "  </tbody>\n",
       "</table>\n",
       "</div>"
      ],
      "text/plain": [
       "  carrier   count                Description\n",
       "0      AA  722277      American Airlines Inc\n",
       "1      AS  117475        Alaska Airlines Inc\n",
       "2      CO  484834  Continental Air Lines Inc\n",
       "3      DL  874526        Delta Air Lines Inc\n",
       "4      HP  177851  America West Airlines Inc\n",
       "5      NW  482798     Northwest Airlines Inc\n",
       "6      TW  258205    Trans World Airways LLC\n",
       "7      UA  638750       United Air Lines Inc\n",
       "8      US  857906             US Airways Inc\n",
       "9      WN  565426      Southwest Airlines Co"
      ]
     },
     "metadata": {},
     "output_type": "display_data"
    }
   ],
   "source": [
    "# collect data and translate names\n",
    "pdf_ratio_delay_carrier = pd.DataFrame(data=statistic_ratio_delay_carrier.collect())\n",
    "pdf_top_20_carrier_volume = pd.DataFrame(data=stat_carrier.take(20), columns=['carrier', 'count'])\n",
    "pdf_top_20_carrier_volume = pdf_top_20_carrier_volume.sort_values(by='carrier')\n",
    "pdf_top_20_carrier_volume = pd.merge(pdf_top_20_carrier_volume, carrierInfo, left_on='carrier', right_on='Code')\n",
    "pdf_top_20_carrier_volume = pdf_top_20_carrier_volume.drop(['Code'],1)\n",
    "display(pdf_top_20_carrier_volume)"
   ]
  },
  {
   "cell_type": "code",
   "execution_count": 161,
   "metadata": {
    "collapsed": false
   },
   "outputs": [
    {
     "data": {
      "image/png": "[encoded data removed]",
      "text/plain": [
       "<matplotlib.figure.Figure at 0x7fc2d75db7b8>"
      ]
     },
     "metadata": {},
     "output_type": "display_data"
    }
   ],
   "source": [
    "# Plot top 20 carriers\n",
    "top_20_carriers.sort()\n",
    "index = np.arange(len(top_20_carriers))\n",
    "bar_width = 0.35\n",
    "opacity = 0.4\n",
    "\n",
    "\n",
    "fig = plt.figure(figsize=(20,12))                                                             \n",
    "ax = fig.add_subplot(1,1,1)\n",
    "\n",
    "ax2 = ax.twinx()\n",
    "plt.axis('normal')\n",
    "ax.set_xlabel(\"Carrier\", fontsize=22, fontstyle='oblique')\n",
    "ax.set_ylabel(\"Flight volume\", fontsize=22, fontstyle='oblique')\n",
    "ax2.set_ylabel(\"Ratio of delay\", fontsize=22, fontstyle='oblique')\n",
    "plt.xticks(index + bar_width, pdf_top_20_carrier_volume.Description)\n",
    "plt.setp(ax.get_xticklabels(), rotation=40, fontsize=22, ha='right')\n",
    "\n",
    "plt.title('Figure 13: Delay ratio and flight volume of Carriers', fontsize=26, fontweight='bold')\n",
    "plt.grid(True,which=\"both\",ls=\":\")\n",
    "bar = ax.bar(index, pdf_top_20_carrier_volume['count'], \n",
    "        bar_width, color=dark2_colors[6], \n",
    "        label='flight volume')\n",
    "bar2 = ax2.bar(index + 1.5*bar_width, pdf_ratio_delay_carrier[1], bar_width, \n",
    "       align='center', color=dark2_colors[7], \n",
    "       label='Delay ratio')\n",
    "\n",
    "lines, labels = ax.get_legend_handles_labels()\n",
    "lines2, labels2 = ax2.get_legend_handles_labels()\n",
    "ax2.legend(lines + lines2, labels + labels2, loc=0)\n",
    "\n",
    "plt.tight_layout()\n",
    "plt.show()"
   ]
  },
  {
   "cell_type": "markdown",
   "metadata": {},
   "source": [
    "<div class=\"alert alert-warning\">\n",
    "<b>COMMENT</b><br/>\n",
    "Once again, there is no visible correlation. The flight volume doesn't impact the delay ratio for Carriers.\n",
    "<br/><i>In summary, it's safe to assume that the delay ratio is neither affected by Carrier nor by Airport.</i>\n",
    "</div>"
   ]
  },
  {
   "cell_type": "markdown",
   "metadata": {},
   "source": [
    "# 4. Building a model of our data\n",
    "Now that we have a good grasp on our data and its features, we will focus on how build a statistic model. Note that the features we can decide to use, to train our model, can be put in two groups:\n",
    "\n",
    "- **Explicit features**: these are features that are present in the original data, or that can be built using additional data sources such as `weather` (for example querying a public API)\n",
    "- **Implicit features**: these are the features that are inferred from other features such as `is_weekend`, `is_holiday`, `season`, `in_winter`,...\n",
    "\n",
    "In this notebook, we will focus on the following predictors: `year`, `month`, `day_of_month`, `day_of_week`, `scheduled_departure_time`, `scheduled_arrival_time`, `carrier`, `is_weekend`, `distance`, `src_airport`, `dest_airport`. Among them, `is_weekend` is an implicit feature. The rest are explicit features.\n",
    "\n",
    "The target feature is `arrival_delay`. \n",
    "\n",
    "Currently, MLLIB only supports building models from RDDs. It is important to read well the documentation and the MLLib API, to make sure to use the algorithms in an appropriate manner:\n",
    "\n",
    "- MLLIB supports both categorical and numerical features. However, for each categorical feature, we have to indicate how many distinct values they can take\n",
    "- Each training record must be a ```LabelledPoint```. This data structure has 2 components: ```label``` and ```predictor vector```. ```label``` is the value of target feature in the current record. ```predictor vector``` is a vector of values of type ```Double```. As such, we need to map each value of each categorical feature to a number. In this project, we choose a naïve approach: map each value to a unique index. \n",
    "- MLLIB uses a binning technique to find the split point (the predicate in each tree node). In particular, it divides the domain of numerical features into ```maxBins``` bins (32 by default). With categorical features, each distinct value fits in its own bin. **IMPORTANT:** MLLIB requires that no categorical feature have more than `maxBins` distinct values.\n",
    "- We fill up the missing values in each **categorical** feature with its most common value. The missing values of a **numerical** feature are also replaced by the most common value (however, in some cases, a more sensible approach would be to use the median of this kind of feature).\n"
   ]
  },
  {
   "cell_type": "markdown",
   "metadata": {},
   "source": [
    "## 4.1 Mapping values of each categorical feature to indices"
   ]
  },
  {
   "cell_type": "markdown",
   "metadata": {},
   "source": [
    "### Question 6 \n",
    "\n",
    "Among the selected features, `src_aiport`, `dest_airport`, `carrier` and `distance` have missing values. Besides, the first three of them are categorical features. That means, in order to use them as input features of MLLIB, the values of these features must be numerical. We can use a naïve approach: map each value of each feature to a unique index.\n",
    "\n",
    "#### Question 6.1\n",
    "<div class=\"alert alert-info\">\n",
    "Calculate the frequency of each source airport in the data and build a dictionary that maps each of them to a unique index.  \n",
    "\n",
    "**Note:** we sort the airports by their frequency in descending order, so that we can easily take the most common airport(s) by taking the first element(s) in the result.\n",
    "</div>"
   ]
  },
  {
   "cell_type": "code",
   "execution_count": 162,
   "metadata": {
    "collapsed": false
   },
   "outputs": [
    {
     "name": "stdout",
     "output_type": "stream",
     "text": [
      "Index of most popular SOURCE airport (ORD, matches data from figure 5):  0\n",
      "Index of 3rd most SOURCE popular irport (ATL):  2\n"
     ]
    }
   ],
   "source": [
    "# select distinct source airports and map values to index\n",
    "# sort the airport by their frequency descending\n",
    "# so the most common aiport will be on the top\n",
    "stat_src = (\n",
    "    df\n",
    "        .groupBy('src_airport')\n",
    "        .agg(func.count('*').alias('count'))\n",
    "        .orderBy(desc('count'))\n",
    "    )\n",
    "\n",
    "# extract the airport names from stat_src\n",
    "src_airports = [item[0] for item in stat_src.collect()]\n",
    "\n",
    "num_src_airports = len(src_airports)\n",
    "src_airports_idx = range(0, num_src_airports)\n",
    "map_src_airport_to_index = dict(zip(src_airports, src_airports_idx))\n",
    "\n",
    "# test the dictionary\n",
    "print('Index of most popular SOURCE airport (ORD, matches data from figure 5): ', map_src_airport_to_index['ORD'])\n",
    "print('Index of 3rd most SOURCE popular irport (ATL): ', map_src_airport_to_index['ATL'])\n",
    "#print(map_src_airport_to_index)\n"
   ]
  },
  {
   "cell_type": "markdown",
   "metadata": {},
   "source": [
    "#### Question 6.2\n",
    "<div class=\"alert alert-info\">\n",
    "Calculate the frequency of each destination airport in the data and build a dictionary that maps each of them to a unique index.\n",
    "</div>"
   ]
  },
  {
   "cell_type": "code",
   "execution_count": 163,
   "metadata": {
    "collapsed": false
   },
   "outputs": [
    {
     "name": "stdout",
     "output_type": "stream",
     "text": [
      "Index of most popular DESTINATION airport (ORD, matches data from figure 5):  0\n",
      "Index of 3rd most DESTINATION popular irport (ATL):  2\n"
     ]
    }
   ],
   "source": [
    "# select distinct destination airports and map values to index\n",
    "# sort the airport by their frequency descending\n",
    "# so the most common aiport will be on the top\n",
    "stat_dest = (\n",
    "    df\n",
    "        .groupBy('dest_airport')\n",
    "        .agg(func.count('*').alias('count'))\n",
    "        .orderBy(desc('count'))\n",
    "    )\n",
    "\n",
    "dest_airports = [item[0] for item in stat_dest.collect()]\n",
    "num_dest_airports = len(dest_airports)\n",
    "num_dest_airports_idx = range(0, num_dest_airport)\n",
    "map_dest_airports_to_index = dict(zip(dest_airports, num_dest_airports_idx))\n",
    "\n",
    "# test the dictionary\n",
    "print('Index of most popular DESTINATION airport (ORD, matches data from figure 5): ', map_dest_airports_to_index['ORD'])\n",
    "print('Index of 3rd most DESTINATION popular irport (ATL): ', map_dest_airports_to_index['ATL'])\n",
    "#print(map_dest_airports_to_index)"
   ]
  },
  {
   "cell_type": "markdown",
   "metadata": {},
   "source": [
    "#### Question 6.3\n",
    "<div class=\"alert alert-info\">\n",
    "Calculate the frequency of each carrier in the data and build a dictionary that maps each of them to a unique index.\n",
    "</div>"
   ]
  },
  {
   "cell_type": "code",
   "execution_count": 164,
   "metadata": {
    "collapsed": false
   },
   "outputs": [
    {
     "name": "stdout",
     "output_type": "stream",
     "text": [
      "{'US': 1, 'NW': 6, 'CO': 5, 'AS': 9, 'DL': 0, 'HP': 8, 'AA': 2, 'TW': 7, 'UA': 3, 'WN': 4}\n"
     ]
    }
   ],
   "source": [
    "\n",
    "stat_carrier = (\n",
    "    df\n",
    "        .groupBy('carrier')\n",
    "        .agg(func.count('*').alias('count'))\n",
    "        .orderBy(desc('count'))\n",
    "    \n",
    ")\n",
    "\n",
    "# select distinct carriers and map values to index\n",
    "# sort carriers by their frequency descending\n",
    "# so the most common aiport will be on the top\n",
    "carriers = [item[0] for item in stat_carrier.collect()]\n",
    "num_carriers = len(carriers)\n",
    "map_carriers_to_index = dict(zip(carriers, range(0, num_carrier)))\n",
    "\n",
    "print(map_carriers_to_index)\n"
   ]
  },
  {
   "cell_type": "markdown",
   "metadata": {},
   "source": [
    "## 4.2 Calculating the most common value of each feature\n",
    "We use a simple strategy for filling in the missing values: replacing them with the most common value of the corresponding feature.\n",
    "\n",
    "<div class=\"alert alert-danger\">\n",
    "**IMPORTANT NOTE:** features like ```month```, ```day_of_month```, etc... can be treated as numerical features in general. However, when it comes to build the model, it is much easier considering them as categorical features. In this case, to compute the most common value for such categorical features, we simply use the frequency of occurrence of each `label`, and chose the most frequent.\n",
    "</div>"
   ]
  },
  {
   "cell_type": "markdown",
   "metadata": {},
   "source": [
    "### Question 7\n",
    "In the previous question, when constructing the dictionary for categorical features, we also sort their statistical information in a such way that the most common value of each feature are placed on the top.\n",
    "\n",
    "Note that, feature `is_weekend` has the most common value set to `0` (that is, `no` the day is not a weekend)."
   ]
  },
  {
   "cell_type": "markdown",
   "metadata": {},
   "source": [
    "#### Question 7.1\n",
    "<div class=\"alert alert-info\">\n",
    "Find the most common value of feature `month` in data.\n",
    "</div>\n",
    "\n"
   ]
  },
  {
   "cell_type": "code",
   "execution_count": 165,
   "metadata": {
    "collapsed": false
   },
   "outputs": [
    {
     "name": "stdout",
     "output_type": "stream",
     "text": [
      "The most common month: 8\n"
     ]
    }
   ],
   "source": [
    "def most_common(groupBy):\n",
    "    return (df\n",
    "            .groupBy(groupBy)\n",
    "            .agg(func.count('*').alias('count'))\n",
    "            .orderBy(desc('count'))\n",
    "           ).first()[0]\n",
    "\n",
    "\n",
    "the_most_common_month = most_common('month')\n",
    "\n",
    "print(\"The most common month:\", the_most_common_month)\n"
   ]
  },
  {
   "cell_type": "markdown",
   "metadata": {},
   "source": [
    "#### Question 7.2\n",
    "<div class=\"alert alert-info\">\n",
    "Find the most common value of features `day_of_month` and `day_of_week`.\n",
    "</div>"
   ]
  },
  {
   "cell_type": "code",
   "execution_count": 166,
   "metadata": {
    "collapsed": false
   },
   "outputs": [
    {
     "name": "stdout",
     "output_type": "stream",
     "text": [
      "The most common day of month: 11\n",
      "The most common day of week: 3\n"
     ]
    }
   ],
   "source": [
    "the_most_common_day_of_month = most_common('day_of_month')\n",
    "the_most_common_day_of_week = most_common('day_of_week')\n",
    "\n",
    "print(\"The most common day of month:\", the_most_common_day_of_month)\n",
    "print(\"The most common day of week:\", the_most_common_day_of_week)"
   ]
  },
  {
   "cell_type": "markdown",
   "metadata": {},
   "source": [
    "#### Question 7.3\n",
    "<div class=\"alert alert-info\">\n",
    "Find the most common value of features `scheduled_departure_time` and `scheduled_arrival_time`.\n",
    "</div>"
   ]
  },
  {
   "cell_type": "code",
   "execution_count": 167,
   "metadata": {
    "collapsed": false
   },
   "outputs": [
    {
     "name": "stdout",
     "output_type": "stream",
     "text": [
      "The most common scheduled departure time: 700\n",
      "The most common scheduled arrival time: 1915\n"
     ]
    }
   ],
   "source": [
    "the_most_common_s_departure_time = most_common('scheduled_departure_time')\n",
    "the_most_common_s_arrival_time = most_common('scheduled_arrival_time')\n",
    "\n",
    "print(\"The most common scheduled departure time:\", the_most_common_s_departure_time)\n",
    "print(\"The most common scheduled arrival time:\", the_most_common_s_arrival_time)"
   ]
  },
  {
   "cell_type": "markdown",
   "metadata": {},
   "source": [
    "#### Question 7.4\n",
    "<div class=\"alert alert-info\">\n",
    "Calculate the mean of distance in the data. This value will be used to fill in the missing values of feature `distance` later.\n",
    "</div>"
   ]
  },
  {
   "cell_type": "code",
   "execution_count": 168,
   "metadata": {
    "collapsed": false
   },
   "outputs": [
    {
     "name": "stdout",
     "output_type": "stream",
     "text": [
      "mean distance: 670.7402911985982\n"
     ]
    }
   ],
   "source": [
    "\n",
    "# calculate mean distance\n",
    "mean_distance = df.agg(func.mean('distance')).first()[0]\n",
    "print(\"mean distance:\", mean_distance)"
   ]
  },
  {
   "cell_type": "markdown",
   "metadata": {},
   "source": [
    "#### Question 7.5\n",
    "<div class=\"alert alert-info\">\n",
    "Calculate the mean of arrival delay.\n",
    "</div>"
   ]
  },
  {
   "cell_type": "code",
   "execution_count": 169,
   "metadata": {
    "collapsed": false
   },
   "outputs": [
    {
     "name": "stdout",
     "output_type": "stream",
     "text": [
      "mean arrival delay: 5.662489742613603\n"
     ]
    }
   ],
   "source": [
    "# calculate mean arrival delay\n",
    "mean_arrival_delay = df.agg(func.mean('arrival_delay')).first()[0]\n",
    "print(\"mean arrival delay:\", mean_arrival_delay)"
   ]
  },
  {
   "cell_type": "markdown",
   "metadata": {},
   "source": [
    "As known from section 3.4, there are 225 different origin airports and 225 different destination airports, more than the number of bins in default configuration. So, we must set `maxBins` >= 225."
   ]
  },
  {
   "cell_type": "markdown",
   "metadata": {},
   "source": [
    "## 4.3 Preparing training data and testing data\n",
    "Recall, in this project we focus on decision trees. One way to think about our task is that we want to predict the unknown `arrival_delay` as a function combining several features, that is:\n",
    "\n",
    "`arrival_delay = f(year, month, day_of_month, day_of_week, scheduled_departure_time, scheduled_arrival_time, carrier, src_airport, dest_airport, distance, is_weekend)`\n",
    "\n",
    "When categorical features contain corrupt data (e.g., missing values), we proceed by replacing corrupt information with the most common value for the feature. For numerical features, in general, we use the same approach as for categorical features; in some cases, we repair corrupt data using the mean value of the distribution for numerical features (e.g., we found the mean for `delay` and `distance`, by answering questions above).\n",
    "\n",
    "The original data is split randomly into two parts with ratios 70% for **training** and 30% for **testing**."
   ]
  },
  {
   "cell_type": "markdown",
   "metadata": {},
   "source": [
    "### Question 8\n",
    "<div class=\"alert alert-info\">\n",
    "  o  Replace the missing values of each feature in our data by the corresponding most common value or mean.  \n",
    "\n",
    "  o  Divide data into two parts: 70% for **training** and 30% for **testing**\n",
    "\n",
    "</div>"
   ]
  },
  {
   "cell_type": "code",
   "execution_count": 57,
   "metadata": {
    "collapsed": false
   },
   "outputs": [],
   "source": [
    "from pyspark.mllib.tree import DecisionTree, DecisionTreeModel\n",
    "from pyspark.mllib.util import MLUtils\n",
    "from pyspark.mllib.regression import LabeledPoint\n",
    "\n",
    "def is_valid(value):\n",
    "    return value != \"NA\" and len(value) > 0\n",
    "\n",
    "data = cleaned_data\\\n",
    "    .map(lambda line: line.split(','))\\\n",
    "    .map(lambda values: \n",
    "        LabeledPoint( \n",
    "            int(values[14]) if is_valid(values[14]) else mean_arrival_delay, # arrival delay\n",
    "            [\n",
    "                int(values[0]), # year\n",
    "                int(values[1]) if is_valid(values[1]) else the_most_common_month, # month\n",
    "                int(values[2]) if is_valid(values[2]) else the_most_common_day_of_month, # day of month\n",
    "                int(values[3]) if is_valid(values[3]) else the_most_common_day_of_week, # day of week\n",
    "                int(values[5]) if is_valid(values[5]) else the_most_common_s_departure_time, # scheduled departure time\n",
    "                int(values[7]) if is_valid(values[7]) else the_most_common_s_arrival_time, # scheduled arrival time\n",
    "                # if the value is valid, map it to the corresponding index\n",
    "                # otherwise, use the most common value\n",
    "                map_carriers_to_index[values[8]] if is_valid(values[8]) \\\n",
    "                    else map_carriers_to_index[carriers[0]], # carrier\n",
    "                                      \n",
    "                map_src_airport_to_index[values[16]] if is_valid(values[16]) \\\n",
    "                    else map_src_airport_to_index[src_airports[0]], # src_airport\n",
    "                                                  \n",
    "                map_dest_airports_to_index[values[17]] if is_valid(values[17]) \\\n",
    "                    else map_dest_airports_to_index[dest_airports[0]], # destination_airport\n",
    "                                      \n",
    "                int(values[18]) if is_valid(values[18]) else mean_distance, # distance\n",
    "                1 if is_valid(values[3]) and int(values[3]) >= 6 else 0, # is_weekend\n",
    "            ]\n",
    "        )\n",
    "    )\n",
    "\n",
    "# Split the data into training and test sets (30% held out for testing)\n",
    "(trainingData, testData) = data.randomSplit([0.7, 0.3])\n",
    "\n",
    "trainingData = trainingData.cache()\n",
    "testData = testData.cache()\n"
   ]
  },
  {
   "cell_type": "code",
   "execution_count": 58,
   "metadata": {
    "collapsed": false
   },
   "outputs": [
    {
     "data": {
      "text/plain": [
       "[LabeledPoint(-9.0, [1994.0,1.0,7.0,5.0,900.0,1003.0,1.0,9.0,55.0,290.0,0.0]),\n",
       " LabeledPoint(20.0, [1994.0,1.0,10.0,1.0,900.0,1003.0,1.0,9.0,55.0,290.0,0.0]),\n",
       " LabeledPoint(88.0, [1994.0,1.0,11.0,2.0,900.0,1003.0,1.0,9.0,55.0,290.0,0.0]),\n",
       " LabeledPoint(21.0, [1994.0,1.0,12.0,3.0,900.0,1003.0,1.0,9.0,55.0,290.0,0.0]),\n",
       " LabeledPoint(2.0, [1994.0,1.0,14.0,5.0,900.0,1003.0,1.0,9.0,55.0,290.0,0.0]),\n",
       " LabeledPoint(1.0, [1994.0,1.0,15.0,6.0,900.0,1003.0,1.0,9.0,55.0,290.0,1.0]),\n",
       " LabeledPoint(-4.0, [1994.0,1.0,18.0,2.0,900.0,1003.0,1.0,9.0,55.0,290.0,0.0]),\n",
       " LabeledPoint(-2.0, [1994.0,1.0,22.0,6.0,900.0,1003.0,1.0,9.0,55.0,290.0,1.0]),\n",
       " LabeledPoint(-11.0, [1994.0,1.0,25.0,2.0,900.0,1003.0,1.0,9.0,55.0,290.0,0.0]),\n",
       " LabeledPoint(5.0, [1994.0,1.0,27.0,4.0,900.0,1003.0,1.0,9.0,55.0,290.0,0.0])]"
      ]
     },
     "execution_count": 58,
     "metadata": {},
     "output_type": "execute_result"
    }
   ],
   "source": [
    "trainingData.take(10)"
   ]
  },
  {
   "cell_type": "markdown",
   "metadata": {},
   "source": [
    "## 5.4 Building a decision tree model"
   ]
  },
  {
   "cell_type": "markdown",
   "metadata": {},
   "source": [
    "### Question 9\n",
    "<div class=\"alert alert-info\">\n",
    "We can train a decision model by using function\n",
    "<code>\n",
    "`DecisionTree.trainRegressor(<training_data>, categoricalFeaturesInfo=<categorical_info>, impurity=<impurity_function>,  maxDepth=<max_depth>, maxBins=<max_bins>)`.  \n",
    "</code>  \n",
    "\n",
    "Where,  \n",
    "<ul>\n",
    "\n",
    "<li> `training_data`: the data used for training  </li>\n",
    "\n",
    "<li> `categorical_info`: a dictionary that maps the index of each categorical features to its number of distinct values  </li>\n",
    "\n",
    "<li> `impurity_function`: the function that is used to calculate impurity of data in order to select the best split  </li>\n",
    "\n",
    "<li> `max_depth`: the maximum depth of the tree  </li>\n",
    "\n",
    "<li> `max_bins`: the maximum number of bins that the algorithm will divide on each feature. </li>\n",
    "\n",
    "</ul>  \n",
    "\n",
    "Note that, `max_bins` cannot smaller than the number distinct values of every categorical features.  \n",
    "\n",
    "Complete the code below to train a decision tree model.\n",
    "</div>\n"
   ]
  },
  {
   "cell_type": "code",
   "execution_count": 59,
   "metadata": {
    "collapsed": false
   },
   "outputs": [],
   "source": [
    "# declare information of categorical features\n",
    "# format:  feature_index : number_distinct_values\n",
    "categorical_info = {6 : num_carriers, 7: num_src_airports , 8: num_dest_airports, 10: 2}\n",
    "\n",
    "# Train a DecisionTree model.\n",
    "model = DecisionTree.trainRegressor(trainingData, \n",
    "                                    categoricalFeaturesInfo=categorical_info,\n",
    "                                    impurity='variance', maxDepth=12, maxBins=255)"
   ]
  },
  {
   "cell_type": "code",
   "execution_count": 61,
   "metadata": {
    "collapsed": false
   },
   "outputs": [
    {
     "name": "stdout",
     "output_type": "stream",
     "text": [
      "Model Number of Nodes:  8035\n",
      "Model Depth:  12\n"
     ]
    }
   ],
   "source": [
    "print('Model Number of Nodes: ', model.numNodes())\n",
    "print('Model Depth: ', model.depth())"
   ]
  },
  {
   "cell_type": "markdown",
   "metadata": {
    "collapsed": true
   },
   "source": [
    "## 5.5 Testing the decision tree model"
   ]
  },
  {
   "cell_type": "markdown",
   "metadata": {},
   "source": [
    "### Question 10\n",
    "#### Question 10.1\n",
    "<div class=\"alert alert-info\">\n",
    "We often use Mean Square Error as a metric to evaluate the quality of a tree model.  \n",
    "\n",
    "Complete the code below to calculate the MSE of our trained model.\n",
    "</div>"
   ]
  },
  {
   "cell_type": "code",
   "execution_count": 62,
   "metadata": {
    "collapsed": false
   },
   "outputs": [
    {
     "name": "stdout",
     "output_type": "stream",
     "text": [
      "Test Mean Squared Error = 491.455598284\n",
      "Test RMSE = 22.1687978538\n"
     ]
    }
   ],
   "source": [
    "# Evaluate model on test instances and compute test error\n",
    "predictions = model.predict(testData.map(lambda x: x.features))\n",
    "labelsAndPredictions = testData.map(lambda lp: lp.label).zip(predictions)\n",
    "\n",
    "testMSE = labelsAndPredictions.map(\n",
    "    lambda p: np.power(p[0] - p[1], 2)).mean()\n",
    "print('Test Mean Squared Error = ' + str(testMSE))\n",
    "print('Test RMSE = ' + str(np.sqrt(testMSE)))\n"
   ]
  },
  {
   "cell_type": "markdown",
   "metadata": {},
   "source": [
    "### Question 10.2\n",
    "<div class=\"alert alert-info\">\n",
    "Comment the results you have obtained. Is the MSE value you get from a decision tree indicating that our statistical model is very good in predicting airplane delays?  \n",
    "\n",
    "Use your own words to describe and interpret the value you obtained for the MSE.\n",
    "</div>"
   ]
  },
  {
   "cell_type": "markdown",
   "metadata": {},
   "source": [
    "<div class=\"alert alert-warning\">\n",
    "<b>COMMENT</b><br/>\n",
    "When computing the root of the MSE (thus obtaining the RMSE), we obtain a metric of the average error in classification. The mean error is 22 minutes, which is considerably large given the delay distribution (figure 7).<br/><br/>\n",
    "We can infer that our model is not precise enough.<br/><br/>\n",
    "The MSE is a good measurement of a model, since for unbiased models it directly relates to the variance of the model (and the RMSE would relate to the standard deviation). An error of 0 would mean perfect accuracy, and MSE errors can be used to compare different models (be it trees, neural networks or any classification algorithms). We quickly check the bias of the model in the next computation, which shows that our model is unbiased. What are we missing then? A better model! (or this model with better parameters)\n",
    "</div>"
   ]
  },
  {
   "cell_type": "code",
   "execution_count": 48,
   "metadata": {
    "collapsed": false
   },
   "outputs": [
    {
     "name": "stdout",
     "output_type": "stream",
     "text": [
      "Bias of the model:  -0.0330658624757356\n"
     ]
    }
   ],
   "source": [
    "testBias = labelsAndPredictions.map(lambda x: x[0]-x[1]).mean()\n",
    "print('Bias of the model: ', testBias)"
   ]
  },
  {
   "cell_type": "markdown",
   "metadata": {},
   "source": [
    "## 5.6 Building random decision forest model (or random forest)\n",
    "Next, we use MLLib to build a more powerful model: random forests. In what follows, use the same predictors defined and computed above to build a decision tree, but this time use them to build a random decision forest."
   ]
  },
  {
   "cell_type": "markdown",
   "metadata": {},
   "source": [
    "### Question 11\n",
    "<div class=\"alert alert-info\">\n",
    "Train a random decision forest model and evaluate its quality using MSE metric.  \n",
    "\n",
    "Compare to decision tree model and comment the results.  \n",
    "\n",
    "Similarly to question 10.2, comment with your own words the MSE value you have obtained.\n",
    "</div>"
   ]
  },
  {
   "cell_type": "code",
   "execution_count": 49,
   "metadata": {
    "collapsed": false
   },
   "outputs": [
    {
     "name": "stdout",
     "output_type": "stream",
     "text": [
      "Random Forest -> Test Mean Squared Error = 482.166758078\n",
      "Random Forest -> Test RMSE = 21.9582958828\n",
      "Random Forest -> Bias of the model:  -0.0330658624757356\n"
     ]
    }
   ],
   "source": [
    "\n",
    "from pyspark.mllib.tree import RandomForest, RandomForestModel\n",
    "\n",
    "# Train a RandomForest model.\n",
    "forest_model = RandomForest.trainRegressor(trainingData, categoricalFeaturesInfo=categorical_info,\n",
    "                                    numTrees=10, impurity='variance', maxDepth=12, maxBins=255)\n",
    "\n",
    "random_forest_predictions = forest_model.predict(testData.map(lambda x: x.features))\n",
    "forestLabelsAndPredictions = testData.map(lambda lp: lp.label).zip(random_forest_predictions)\n",
    "\n",
    "\n",
    "testMSE = forestLabelsAndPredictions.map(lambda p: np.power(p[0] - p[1], 2)).mean()\n",
    "print('Random Forest -> Test Mean Squared Error = ' + str(testMSE))\n",
    "print('Random Forest -> Test RMSE = ' + str(np.sqrt(testMSE)))\n",
    "testBias = labelsAndPredictions.map(lambda x: x[0]-x[1]).mean()\n",
    "print('Random Forest -> Bias of the model: ', testBias)"
   ]
  },
  {
   "cell_type": "markdown",
   "metadata": {},
   "source": [
    "<div class=\"alert alert-warning\"><b>COMMENT</b><br/>\n",
    "Using the MSE and RMSE as comparators, we discover almost no improvement in using a random forest. <br/>\n",
    "Once again, the model appearsto be unbiased, which means that we still need to find a better model.\n",
    "</div>"
   ]
  },
  {
   "cell_type": "markdown",
   "metadata": {},
   "source": [
    "## 5.7 Parameter tuning\n",
    "In this lecture, we used `maxDepth=12`, `maxBins=255`, `numTrees=10`. Next, we are going to explore the meta-parameter space a little bit.\n",
    "\n",
    "For more information about parameter tuning, please read the documentation of [MLLIB](http://spark.apache.org/docs/latest/mllib-decision-tree.html#tunable-parameters)"
   ]
  },
  {
   "cell_type": "markdown",
   "metadata": {},
   "source": [
    "### Question 12\n",
    "<div class=\"alert alert-info\">\n",
    "Train the random forest model using different parameters, to understand their impact on the main performance metric we have used here, that is the MSE. For example, you can try a similar approach to that presented in the Notebook on recommender systems, that is using nested for loops.\n",
    "</div>\n",
    "\n",
    "<div class=\"alert alert-danger\">\n",
    "**NOTE:** be careful when selecting parameters as some might imply very long training times, or eventually, the typical memory problems that affect Spark!\n",
    "</div>"
   ]
  },
  {
   "cell_type": "markdown",
   "metadata": {},
   "source": [
    "<div class=\"alert alert-warning\"><b>COMMENT</b><br/>\n",
    "When tuning the parameters we have to treat each of them carefully:\n",
    "<ul><li><b>numTrees</b>: An increase from 1 tree to 10 improved only in 0.2min the error of 22 min, which means that it won't have a big impact (The current values may be a bit more different due to multiple partial executions, but the original result showed this). Nevertheless, it will increase lineary the amount of calculations and the memory used, which is why we decided to leave it with a fixed value of 15.</li>\n",
    "<li><b>maxDepth</b>: A deeper tree would potentially have more accuracy on the training data, with the risk of overfitting and thus performing poorer in the test data. Despite this fact, we consider it to be the best parameter to be playing with.</li>\n",
    "\n",
    "<li><b>maxBins</b>: Similar to maxDepth, but this will have a direct effect in the memory used, in a linear fashion. Will be considered also.</li></ul>\n",
    "</div>"
   ]
  },
  {
   "cell_type": "code",
   "execution_count": 5,
   "metadata": {
    "collapsed": false
   },
   "outputs": [
    {
     "name": "stdout",
     "output_type": "stream",
     "text": [
      "Test with forest [numTrees = 15.000000, maxDepth = 14.000000, maxBins = 270.000000] MSE = 459.337310, time = 181.924894\n",
      "Test with forest [numTrees = 15.000000, maxDepth = 14.000000, maxBins = 290.000000] MSE = 460.435029, time = 190.354864 \n",
      "Test with forest [numTrees = 15.000000, maxDepth = 16.000000, maxBins = 270.000000] MSE = 442.084876, time = 338.850329 \n",
      "Test with forest [numTrees = 15.000000, maxDepth = 16.000000, maxBins = 290.000000] MSE = 441.447819, time = 377.232219 \n",
      "Test with forest [numTrees = 15.000000, maxDepth = 18.000000, maxBins = 270.000000] MSE = 430.569614, time = 1127.459314 \n",
      "Test with forest [numTrees = 15.000000, maxDepth = 16.000000, maxBins = 310.000000] MSE = 442.946078, time = 512.839938 \n",
      "Test with forest [numTrees = 15.000000, maxDepth = 16.000000, maxBins = 330.000000] MSE = 442.486470, time = 537.616005\n",
      "Test with forest [numTrees = 15.000000, maxDepth = 18.000000, maxBins = 330.000000] MSE = 430.157867, time = 1193.734904 \n",
      "Test with forest [numTrees = 15.000000, maxDepth = 20.000000, maxBins = 270.000000] -> RUNTIME ERROR \n",
      "Test with forest [numTrees = 15.000000, maxDepth = 18.000000, maxBins = 350.000000] -> RUNTIME ERROR\n"
     ]
    }
   ],
   "source": [
    "import time\n",
    "for numTrees in [15]:\n",
    "    for maxDepth in [20]: \n",
    "        for maxBins in [300]:\n",
    "            try:\n",
    "                t_start = time.time()\n",
    "                forest_model = RandomForest.trainRegressor(trainingData, categoricalFeaturesInfo=categorical_info,\n",
    "                                        numTrees=numTrees, impurity='variance', maxDepth=maxDepth, maxBins=maxBins)\n",
    "                random_forest_predictions = forest_model.predict(testData.map(lambda x: x.features))\n",
    "                forestLabelsAndPredictions = testData.map(lambda lp: lp.label).zip(random_forest_predictions)\n",
    "\n",
    "\n",
    "                testMSE = forestLabelsAndPredictions.map(lambda p: np.power(p[0] - p[1], 2)).mean()\n",
    "                t_end = time.time()\n",
    "                print('Test with forest [numTrees = %f, maxDepth = %f, maxBins = %f] MSE = %f, time = %f' % \\\n",
    "                  (num.Trees, maxDepth, maxBins, testMSE, t_end-t_start))\n",
    "            except:\n",
    "                print('Test with forest [numTrees = %f, maxDepth = %f, maxBins = %f] -> RUNTIME ERROR' % \\\n",
    "                  (num.Trees, maxDepth, maxBins)"
   ]
  },
  {
   "cell_type": "markdown",
   "metadata": {},
   "source": [
    "<div class='alert alert-warning'>\n",
    "<b>COMMENT</b><br/>\n",
    "As seen during the feature trials, when reached a certain threshold the process stops working (the exact Exception comes from Java in Spark). Other than that, We can clearly state that the maxDepth has the biggest influence in the error, since a 15% increase lowers the MSE by 10~20. In comparison, increasing maxBins a 15% does show almost no improvement (up to 1 MSE). We clearly need more depth in the data, which suggests adding more features and enlarging the dataset.\n",
    "</div>"
   ]
  },
  {
   "cell_type": "markdown",
   "metadata": {},
   "source": [
    "# 6. Addition (bonus) questions\n",
    "As you may have noticed, the performance of our statistical models is somehow questionable! What are we missing here? Why is that even using state-of-the-art approaches give poor results?\n",
    "\n",
    "In what follows, we will try to address some of the limitations of the present Notebook, and provide additional data that might help.\n",
    "\n",
    "## 6.1. Additional data\n",
    "In the HDFS file system you have used for running the Notebook, you will notice that there are several other years available (in addition to 1994), which could be used to train a statistical model with more data. In the end, we're playing with \"Big Data\", hence one might think that feeding more training data to the algorithm should help!"
   ]
  },
  {
   "cell_type": "code",
   "execution_count": null,
   "metadata": {
    "collapsed": false
   },
   "outputs": [],
   "source": [
    "raw_data =  sc.textFile(\"/datasets/airline/2000.csv\") + \\\n",
    "            sc.textFile(\"/datasets/airline/2001.csv\")\n",
    "print(\"number of rows before cleaning:\", raw_data.count())"
   ]
  },
  {
   "cell_type": "code",
   "execution_count": null,
   "metadata": {
    "collapsed": true
   },
   "outputs": [],
   "source": [
    "# extract the header\n",
    "header = raw_data.first() \n",
    "# replace invalid data with NULL and remove header\n",
    "cleaned_data = (raw_data.filter(lambda x: x != header).map(lambda x: x.replace('NA', '')))\n",
    "# create dataframe df\n",
    "df = (sqlContext.createDataFrame(data=cleaned_data_to_columns, schema=airline_data_schema)\n",
    "        .select(['year', 'month', 'day_of_month', 'day_of_week', 'scheduled_departure_time',\n",
    "         'scheduled_arrival_time', 'arrival_delay', 'distance', 'src_airport', 'dest_airport', 'carrier'])\n",
    "        .cache())"
   ]
  },
  {
   "cell_type": "code",
   "execution_count": null,
   "metadata": {
    "collapsed": true
   },
   "outputs": [],
   "source": [
    "stat_src = (df.groupBy('src_airport').agg(func.count('*').alias('count')).orderBy(desc('count')))\n",
    "# extract the airport names from stat_src\n",
    "src_airports = [item[0] for item in stat_src.collect()]\n",
    "num_src_airports = len(src_airports)\n",
    "src_airports_idx = range(0, num_src_airports)\n",
    "map_src_airport_to_index = dict(zip(src_airports, src_airports_idx))"
   ]
  },
  {
   "cell_type": "code",
   "execution_count": null,
   "metadata": {
    "collapsed": true
   },
   "outputs": [],
   "source": [
    "stat_dest = (df.groupBy('dest_airport').agg(func.count('*').alias('count')).orderBy(desc('count')))\n",
    "dest_airports = [item[0] for item in stat_dest.collect()]\n",
    "num_dest_airports = len(dest_airports)\n",
    "num_dest_airports_idx = range(0, num_dest_airport)\n",
    "map_dest_airports_to_index = dict(zip(dest_airports, num_dest_airports_idx))"
   ]
  },
  {
   "cell_type": "code",
   "execution_count": null,
   "metadata": {
    "collapsed": true
   },
   "outputs": [],
   "source": [
    "stat_carrier = (df.groupBy('carrier').agg(func.count('*').alias('count')).orderBy(desc('count')))\n",
    "carriers = [item[0] for item in stat_carrier.collect()]\n",
    "num_carriers = len(carriers)\n",
    "map_carriers_to_index = dict(zip(carriers, range(0, num_carrier)))"
   ]
  },
  {
   "cell_type": "code",
   "execution_count": null,
   "metadata": {
    "collapsed": true
   },
   "outputs": [],
   "source": [
    "def most_common(groupBy):\n",
    "    return (df.groupBy(groupBy).agg(func.count('*').alias('count')).orderBy(desc('count'))).first()[0]\n",
    "the_most_common_month = most_common('month')\n",
    "the_most_common_day_of_month = most_common('day_of_month')\n",
    "the_most_common_day_of_week = most_common('day_of_week')\n",
    "the_most_common_s_departure_time = most_common('scheduled_departure_time')\n",
    "the_most_common_s_arrival_time = most_common('scheduled_arrival_time')\n",
    "mean_distance = df.agg(func.mean('distance')).first()[0]\n",
    "mean_arrival_delay = df.agg(func.mean('arrival_delay')).first()[0]"
   ]
  },
  {
   "cell_type": "markdown",
   "metadata": {
    "collapsed": true
   },
   "source": [
    "<div class='alert alert-warning'>\n",
    "<b>COMMENT</b><br/>\n",
    "The problem of this approach is the amount of computational power and memory needed, since they are increased N-fold. We didn't achieve to group al the data, but it would simplily be a matter of reruning the NB with the aggregated data at the very beginning. Nevertheless, getting data from N years reduces bias since it helps to spread the unique effects that could happen during a year.\n",
    "\n",
    "One good example of this would be the year 2001 with the 9-11, where you would expect to see anomalies after that day.<br/> As we can see, September, October and November have a much smaller delay ratio, since many flights were cancelled after 9-11:\n",
    "</div>"
   ]
  },
  {
   "cell_type": "code",
   "execution_count": 127,
   "metadata": {
    "collapsed": false
   },
   "outputs": [
    {
     "data": {
      "image/png": "[encoded data removed]",
      "text/plain": [
       "<matplotlib.figure.Figure at 0x7fc30423d400>"
      ]
     },
     "metadata": {},
     "output_type": "display_data"
    },
    {
     "data": {
      "image/png": "[encoded data removed]",
      "text/plain": [
       "<matplotlib.figure.Figure at 0x7fc2f5ece0b8>"
      ]
     },
     "metadata": {},
     "output_type": "display_data"
    }
   ],
   "source": [
    "# Code ommited. We just rerun all the NB with the csv from 2001 and collected this image"
   ]
  },
  {
   "cell_type": "markdown",
   "metadata": {},
   "source": [
    "## 6.2. Feature selection\n",
    "\n",
    "You might think that the flight delays do not only depend on the source airport, destination airport, departure time, etc... as we assumed. They also depend on other features such as the weather, the origin country, the destination city,... To improve the prediction quality, we should consider these features too.\n",
    "\n",
    "There are some other datasets that related to this use case:\n",
    "\n",
    "- Airport IATA Codes to City names and Coordinates mapping: http://stat-computing.org/dataexpo/2009/airports.csv\n",
    "- Carrier codes to Full name mapping: http://stat-computing.org/dataexpo/2009/carriers.csv\n",
    "- Information about individual planes: http://stat-computing.org/dataexpo/2009/plane-data.csv\n",
    "- Weather information: http://www.wunderground.com/weather/api/. You can subscribe for free to the developers' API and obtain (at a limited rate) historical weather information in many different formats. Also, to get an idea of the kind of information is available, you can use this link: http://www.wunderground.com/history/\n"
   ]
  },
  {
   "cell_type": "markdown",
   "metadata": {},
   "source": [
    "### Question 13\n",
    "<div class=\"alert alert-info\">\n",
    "Using the data sources above, select additional feature and repeat the process of defining an appropriate training and test datasets, to evaluate the impact of new features on the performance of the model. Focus first on decision trees, then move to random forests.\n",
    "</div>"
   ]
  },
  {
   "cell_type": "code",
   "execution_count": 64,
   "metadata": {
    "collapsed": true
   },
   "outputs": [],
   "source": [
    "# Trying new features!\n",
    "def is_holiday(day, month):\n",
    "    if month == 12 and day >= 20 or month == 1 and day <= 10: return 1  #Christmas holiday\n",
    "    if month >= 5 and day > 20 and month <= 8 and day <= 10: return 1  #Summer holiday\n",
    "    return 0\n",
    "def is_winter(day, month):\n",
    "    if month == 12 and day >= 15 or month <= 2 and day <= 17: return 1\n",
    "    return 0"
   ]
  },
  {
   "cell_type": "code",
   "execution_count": 98,
   "metadata": {
    "collapsed": false
   },
   "outputs": [],
   "source": [
    "airportTrafficPD = pd.DataFrame(stat_airport_traffic.collect(), columns=['airport', 'n_flights'])\n",
    "mean_n_flights = airportTrafficPD.n_flights.mean()\n",
    "map_nflights_to_airport = dict(zip(airportTrafficPD.airport, airportTrafficPD.n_flights))"
   ]
  },
  {
   "cell_type": "code",
   "execution_count": 94,
   "metadata": {
    "collapsed": false
   },
   "outputs": [],
   "source": [
    "# Recreate the data with the new features\n",
    "data_extended = cleaned_data\\\n",
    "    .map(lambda line: line.split(','))\\\n",
    "    .map(lambda values: \n",
    "        LabeledPoint( \n",
    "            int(values[14]) if is_valid(values[14]) else mean_arrival_delay, # arrival delay\n",
    "            [\n",
    "                int(values[0]), # year\n",
    "                int(values[1]) if is_valid(values[1]) else the_most_common_month, # month\n",
    "                int(values[2]) if is_valid(values[2]) else the_most_common_day_of_month, # day of month\n",
    "                int(values[3]) if is_valid(values[3]) else the_most_common_day_of_week, # day of week\n",
    "                int(values[5]) if is_valid(values[5]) else the_most_common_s_departure_time, # scheduled departure time\n",
    "                int(values[7]) if is_valid(values[7]) else the_most_common_s_arrival_time, # scheduled arrival time\n",
    "                # if the value is valid, map it to the corresponding index\n",
    "                # otherwise, use the most common value\n",
    "                map_carriers_to_index[values[8]] if is_valid(values[8]) \\\n",
    "                    else map_carriers_to_index[carriers[0]], # carrier\n",
    "                                      \n",
    "                map_src_airport_to_index[values[16]] if is_valid(values[16]) \\\n",
    "                    else map_src_airport_to_index[src_airports[0]], # src_airport\n",
    "                                                  \n",
    "                map_dest_airports_to_index[values[17]] if is_valid(values[17]) \\\n",
    "                    else map_dest_airports_to_index[dest_airports[0]], # destination_airport\n",
    "                                      \n",
    "                int(values[18]) if is_valid(values[18]) else mean_distance, # distance\n",
    "                1 if is_valid(values[3]) and int(values[3]) >= 6 else 0, # is_weekend\n",
    "                \n",
    "                #--------------------------- NEW FEATURES ----------------------------\n",
    "                is_holiday(int(values[2]), int(values[1])), # is holiday\n",
    "                \n",
    "                is_winter(int(values[2]), int(values[1])), # is winter\n",
    "                \n",
    "                int(map_nflights_to_airport[values[16]]) if values[16] in map_nflights_to_airport\\\n",
    "                    else int(mean_n_flights),\n",
    "                #---------------------------------------------------------------------\n",
    "                \n",
    "            ]\n",
    "        )\n",
    "    )\n",
    "\n",
    "# Split the data into training and test sets (30% held out for testing)\n",
    "(trainingData_ext, testData_ext) = data_extended.randomSplit([0.7, 0.3])\n",
    "\n",
    "trainingData_ext = trainingData_ext.cache()\n",
    "testData_ext = testData_ext.cache()"
   ]
  },
  {
   "cell_type": "code",
   "execution_count": 95,
   "metadata": {
    "collapsed": false
   },
   "outputs": [
    {
     "data": {
      "text/plain": [
       "[LabeledPoint(-9.0, [1994.0,1.0,7.0,5.0,900.0,1003.0,1.0,9.0,55.0,290.0,0.0,1.0,1.0,259712.0]),\n",
       " LabeledPoint(20.0, [1994.0,1.0,10.0,1.0,900.0,1003.0,1.0,9.0,55.0,290.0,0.0,1.0,1.0,259712.0]),\n",
       " LabeledPoint(88.0, [1994.0,1.0,11.0,2.0,900.0,1003.0,1.0,9.0,55.0,290.0,0.0,0.0,1.0,259712.0]),\n",
       " LabeledPoint(21.0, [1994.0,1.0,12.0,3.0,900.0,1003.0,1.0,9.0,55.0,290.0,0.0,0.0,1.0,259712.0]),\n",
       " LabeledPoint(2.0, [1994.0,1.0,14.0,5.0,900.0,1003.0,1.0,9.0,55.0,290.0,0.0,0.0,1.0,259712.0]),\n",
       " LabeledPoint(1.0, [1994.0,1.0,15.0,6.0,900.0,1003.0,1.0,9.0,55.0,290.0,1.0,0.0,1.0,259712.0]),\n",
       " LabeledPoint(-4.0, [1994.0,1.0,18.0,2.0,900.0,1003.0,1.0,9.0,55.0,290.0,0.0,0.0,0.0,259712.0]),\n",
       " LabeledPoint(-16.0, [1994.0,1.0,19.0,3.0,900.0,1003.0,1.0,9.0,55.0,290.0,0.0,0.0,0.0,259712.0]),\n",
       " LabeledPoint(5.662489742613603, [1994.0,1.0,21.0,5.0,900.0,1003.0,1.0,9.0,55.0,290.0,0.0,0.0,0.0,259712.0]),\n",
       " LabeledPoint(-2.0, [1994.0,1.0,22.0,6.0,900.0,1003.0,1.0,9.0,55.0,290.0,1.0,0.0,0.0,259712.0])]"
      ]
     },
     "execution_count": 95,
     "metadata": {},
     "output_type": "execute_result"
    }
   ],
   "source": [
    "trainingData_ext.take(10)"
   ]
  },
  {
   "cell_type": "code",
   "execution_count": 96,
   "metadata": {
    "collapsed": false
   },
   "outputs": [
    {
     "name": "stdout",
     "output_type": "stream",
     "text": [
      "Model Number of Nodes:  8073\n",
      "Model Depth:  12\n"
     ]
    }
   ],
   "source": [
    "# Model with added implicit features\n",
    "model_extended = DecisionTree.trainRegressor(trainingData_ext, \n",
    "                                    categoricalFeaturesInfo=categorical_info,\n",
    "                                    impurity='variance', maxDepth=12, maxBins=255)\n",
    "print('Model Number of Nodes: ', model_extended.numNodes())\n",
    "print('Model Depth: ', model_extended.depth())"
   ]
  },
  {
   "cell_type": "code",
   "execution_count": 97,
   "metadata": {
    "collapsed": false
   },
   "outputs": [
    {
     "name": "stdout",
     "output_type": "stream",
     "text": [
      "Test Mean Squared Error = 488.193096493\n",
      "Test RMSE = 22.0950921359\n"
     ]
    }
   ],
   "source": [
    "# Evaluate model on test instances and compute test error \n",
    "predictions_ext = model_extended.predict(testData_ext.map(lambda x: x.features))\n",
    "labelsAndPredictions_ext = testData_ext.map(lambda lp: lp.label).zip(predictions_ext)\n",
    "\n",
    "testMSE_ext = labelsAndPredictions_ext.map(\n",
    "    lambda p: np.power(p[0] - p[1], 2)).mean()\n",
    "print('Test Mean Squared Error = ' + str(testMSE_ext))\n",
    "print('Test RMSE = ' + str(np.sqrt(testMSE_ext)))"
   ]
  },
  {
   "cell_type": "markdown",
   "metadata": {},
   "source": [
    "<div class='alert alert-warning'>\n",
    "<b>COMMENT</b><br/>\n",
    "We tried with 3 different new features, all of them implicit: isHoliday (during christmass or summer), isWinter(from 15th Dec to mid february) and airport flight volume. <br/>\n",
    "We won only a marginal accuracy when including the Extended version, but it seems like including the number of Flights per airport does indeed increase the accuracy, although it doesn't affect substantially (-3 to MSE in oroginal data).\n",
    "<table class = 'table table-responsive'>\n",
    "<thead><tr>\n",
    "    <th>Model</th><th>Nº Nodes</th><th>Test MSE</th><th>Test RMSE</th>\n",
    "</tr></thead>\n",
    "<tbody>\n",
    "    <tr><td>Original</td><td>8045</td><td>491.455598284</td><td>22.1687978538</td></tr>\n",
    "    <tr><td>Extended (Original + isWinter + isHoliday)</td><td>8067</td><td>491.15063135</td><td>22.1619184943</td></tr>\n",
    "    <tr><td>Extended2 (Extended + airport_nFlights)</td><td>8073</td><td>488.193096493</td><td>22.0950921359</td></tr>\n",
    "</tbody>\n",
    "</table>\n",
    "Some further features that we wuld like to investigate are:\n",
    "<ul>\n",
    "<li>Local weather both on source and destination airports.</li>\n",
    "<li>Number of flights from source and destination airports on that day.</li>\n",
    "<li>Delays on planes arriving on that same airport on that same day</li>\n",
    "</ul>\n",
    "</div>"
   ]
  },
  {
   "cell_type": "markdown",
   "metadata": {
    "collapsed": true
   },
   "source": [
    "# Summary\n",
    "> The important thing is to not stop questioning.\n",
    "\n",
    "Curiosity has its own reason for existence. (Albert Einstein)\n",
    "In this nNotebook, we've had an overview about Decision Trees, Random Forests and how to use them. We also insisted on a simple methodology to adopt when dealing with a Data Science problem. \n",
    "The main take home messages should be:\n",
    "\n",
    "* Feature selection is a difficult, delicate and important task. In this project, the student was heavily guided. However, we invite to exercise with additional features, for example external ones related to weather conditions.\n",
    "\n",
    "* Parameter tuning requires a deep understanding of the algorithm used to build a statistical model. In general, to reduce computational cost, several techniques introduce parameters that, if tuned properly, can lead to tremendous time savings."
   ]
  },
  {
   "cell_type": "markdown",
   "metadata": {},
   "source": [
    "# References\n",
    "\n",
    "Flight delays project: http://ddowey.github.io/cs109-Final-Project/FlightDelay-ProjectFinal.html"
   ]
  }
 ],
 "metadata": {
  "kernelspec": {
   "display_name": "Python 3",
   "language": "python",
   "name": "python3"
  },
  "language_info": {
   "codemirror_mode": {
    "name": "ipython",
    "version": 3
   },
   "file_extension": ".py",
   "mimetype": "text/x-python",
   "name": "python",
   "nbconvert_exporter": "python",
   "pygments_lexer": "ipython3",
   "version": "3.5.2"
  }
 },
 "nbformat": 4,
 "nbformat_minor": 0
}
