{
 "cells": [
  {
   "cell_type": "code",
   "execution_count": 160,
   "metadata": {
    "collapsed": false
   },
   "outputs": [
    {
     "data": {
      "text/html": [
       "<link rel=\"stylesheet\" href=\"./custom_two.css\">"
      ],
      "text/plain": [
       "<IPython.core.display.HTML object>"
      ]
     },
     "execution_count": 160,
     "metadata": {},
     "output_type": "execute_result"
    }
   ],
   "source": [
    "# CSS formatting for the Notebook. Run to apply format\n",
    "from IPython.core.display import HTML;      \n",
    "HTML(\"\"\"<link rel=\"stylesheet\" href=\"./custom_two.css\">\"\"\")"
   ]
  },
  {
   "cell_type": "markdown",
   "metadata": {},
   "source": [
    "<div id=headerNotebook>\n",
    "<h1 class=headtitle><b>Recommender Algorithm for Music</b><br/>2017 WIP Edition</h1>\n",
    "<div class=date>18/03/2017</div>\n",
    "<div class=authors><b>Authors</b>     Ole Andreas Hansen |\n",
    "                            Alberto Ibarrondo Luis</div>\n",
    "                            </div>"
   ]
  },
  {
   "cell_type": "markdown",
   "metadata": {},
   "source": [
    "<div id=summary>\n",
    "A recommender system is a tool that helps predicting what a user may or may not like among a list of given items. In some sense, you can view this as an alternative to content search, as recommendation engines help users discover products or content that they may not come across otherwise. For example, Facebook suggests friends and pages to users. Youtube recommends videos which users may be interested in. Amazon suggests the products which users may need... Recommendation engines engage users to services, can be seen as a revenue optimization process, and in general help maintaining interest in a service.\n",
    "\n",
    "In this notebook, we study how to build a simple recommender system: we focus on music recommendations, and we use a simple algorithm to predict which items users might like, that is called ALS, alternating least squares.\n",
    "</div>\n",
    "<h2> Goals </h2>\n",
    "\n",
    "In this lecture, we expect students to:\n",
    "\n",
    "- Revisit (or learn) recommender algorithms\n",
    "\n",
    "- Understand the idea of Matrix Factorization and the ALS algorithm (serial and parallel versions)\n",
    "\n",
    "- Build a simple model for a real usecase: music recommender system\n",
    "\n",
    "- Understand how to validate the results\n",
    "\n",
    "<h2> Steps </h2>\n",
    "\n",
    "We assume students to work outside lab hours on the learning material. These are the steps by which we guide students, during labs, to build a good basis for the end-to-end development of a recommender system:\n",
    "\n",
    "* Inspect the data using Spark SQL, and build some basic, but very valuable knowledge about the information we have at hand\n",
    "* Formally define what is a sensible algorithm to achieve our goal: given the \"history\" of user taste for music, recommend new music to discover. Essentialy, we want to build a statistical model of user preferences such that we can use it to \"predict\" which additional music the user could like\n",
    "* With our formal definition at hand, we will learn different ways to implement such an algorithm. Our goal here is to illustrate what are the difficulties to overcome when implementing a (parallel) algorithm\n",
    "* Finally, we will focus on an existing implementation, available in the Apache Spark MLLib, which we will use out of the box to build a reliable statistical model\n",
    "\n",
    "Now, you may think at this point we will be done!\n",
    "\n",
    "Well, you'd better think twice: one important topic we will cover in all our Notebooks is **how to validate the results we obtain**, and **how to choose good parameters to train models** especially when using an \"opaque\" library for doing the job. As a consequence, we will focus on the statistical validation of our recommender system.\n",
    "\n",
    "# Important note for grading\n",
    "This notebook displays a series of questions, that we use to grade the work done. Since the following questions are rather basic, and do not change much from year to year, they only allow reaching the grade 10/20. Additional points can be gained by showing originality, depth, algorithmic design and implementations beyond that used in the notebook. Remember that this should become your own notebook: there is ample room for creativity!"
   ]
  },
  {
   "cell_type": "markdown",
   "metadata": {},
   "source": [
    "# 1. Data\n",
    "\n",
    "Understanding data is one of the most important part when designing any machine learning algorithm. In this notebook, we will use a data set published by Audioscrobbler - a music recommendation system for last.fm. Audioscrobbler is also one of the first internet streaming radio sites, founded in 2002. It provided an open API for “scrobbling”, or recording listeners’ plays of artists’ songs. last.fm used this information to build a powerful music recommender engine.\n",
    "\n",
    "## 1.1. Data schema\n",
    "\n",
    "Unlike a rating dataset which contains information about users' preference for products (one star, 3 stars, and so on), the datasets from Audioscrobbler only has information about events: specifically, it keeps track of how many times a user played songs of a given artist and the names of artists. That means it carries less information than a rating: in the literature, this is called explicit vs. implicit ratings.\n",
    "\n",
    "### Reading material\n",
    "\n",
    "- [Implicit Feedback for Inferring User Preference: A Bibliography](http://people.csail.mit.edu/teevan/work/publications/papers/sigir-forum03.pdf)\n",
    "- [Comparing explicit and implicit feedback techniques for web retrieval: TREC-10 interactive track report](http://trec.nist.gov/pubs/trec10/papers/glasgow.pdf)\n",
    "- [Probabilistic Models for Data Combination in Recommender Systems](http://mlg.eng.cam.ac.uk/pub/pdf/WilGha08.pdf)\n",
    "\n",
    "The data we use in this Notebook is available in 3 files (these files are stored in our HDFS layer, in the directory  ```/datasets/lastfm```):\n",
    "\n",
    "- **`user_artist_data.txt`**: It contains about 140,000+ unique users, and 1.6 million unique artists. About 24.2 million users’ plays of artists’ are recorded, along with their count. It has 3 columns separated by spaces: \n",
    "\n",
    "| UserID | ArtistID | PlayCount |\n",
    "|----|----|----|\n",
    "| ...|...|...|\n",
    "\n",
    "\n",
    "- **`artist_data.txt`** : It prodives the names of each artist by their IDs. It has 2 columns separated by tab characters (`\\t`).\n",
    "\n",
    "| ArtistID | Name |\n",
    "|---|---|\n",
    "|...|...|\n",
    "\n",
    "- **`artist_alias.txt`**: Note that when plays are scrobbled, the client application submits the name of the artist being played. This name could be misspelled or nonstandard. For example, \"The Smiths\", \"Smiths, The\", and \"the smiths\" may appear as distinct artist IDs in the data set, even though they are plainly the same. `artist_alias.txt` maps artist IDs that are known misspellings or variants to the canonical ID of that artist. The data in this file has 2 columns separated by tab characters (`\\t`).\n",
    "\n",
    "| MisspelledArtistID | StandardArtistID |\n",
    "|---|---|\n",
    "|...|...|\n",
    "\n"
   ]
  },
  {
   "cell_type": "markdown",
   "metadata": {},
   "source": [
    "## 1.2. Understanding data: simple descriptive statistic\n",
    "\n",
    "In order to choose or design a suitable algorithm for achieving our goals, given the data we have, we should first understand data characteristics. To start, we import the necessary packages to work with regular expressions, Data Frames, and other nice features of our programming environment."
   ]
  },
  {
   "cell_type": "code",
   "execution_count": 33,
   "metadata": {
    "collapsed": false
   },
   "outputs": [],
   "source": [
    "import os, sys, re, random\n",
    "from pyspark import SparkContext\n",
    "from pyspark.sql import SQLContext\n",
    "from pyspark.sql.types import *\n",
    "from pyspark.sql import Row\n",
    "from pyspark.sql.functions import *\n",
    "\n",
    "from IPython.display import display\n",
    "\n",
    "%matplotlib inline\n",
    "import matplotlib.pyplot as plt\n",
    "import pandas as pd\n",
    "import numpy as np\n",
    "from time import time\n",
    "\n",
    "sqlContext = SQLContext(sc)\n",
    "base = \"/datasets/lastfm/\""
   ]
  },
  {
   "cell_type": "markdown",
   "metadata": {},
   "source": [
    "### Question 1\n",
    "\n",
    "#### Question 1.0 (Non-grading)\n",
    "\n",
    "Using SPARK SQL, load data from `/datasets/lastfm/user_artist_data.txt` and show the first 20 entries (via function `show()`).\n",
    "\n",
    "For this Notebook, from a programming point of view, we are given the schema for the data we use, which is as follows:\n",
    "\n",
    "```\n",
    "userID: long int\n",
    "artistID: long int\n",
    "playCount: int\n",
    "```\n",
    "\n",
    "Each line of the dataset contains the above three fields, separated by a \"white space\"."
   ]
  },
  {
   "cell_type": "code",
   "execution_count": 34,
   "metadata": {
    "collapsed": false
   },
   "outputs": [
    {
     "data": {
      "text/html": [
       "<div>\n",
       "<table border=\"1\" class=\"dataframe\">\n",
       "  <thead>\n",
       "    <tr style=\"text-align: right;\">\n",
       "      <th></th>\n",
       "      <th>userID</th>\n",
       "      <th>artistID</th>\n",
       "      <th>playCount</th>\n",
       "    </tr>\n",
       "  </thead>\n",
       "  <tbody>\n",
       "    <tr>\n",
       "      <th>0</th>\n",
       "      <td>1000002</td>\n",
       "      <td>1</td>\n",
       "      <td>55</td>\n",
       "    </tr>\n",
       "    <tr>\n",
       "      <th>1</th>\n",
       "      <td>1000002</td>\n",
       "      <td>1000006</td>\n",
       "      <td>33</td>\n",
       "    </tr>\n",
       "    <tr>\n",
       "      <th>2</th>\n",
       "      <td>1000002</td>\n",
       "      <td>1000007</td>\n",
       "      <td>8</td>\n",
       "    </tr>\n",
       "    <tr>\n",
       "      <th>3</th>\n",
       "      <td>1000002</td>\n",
       "      <td>1000009</td>\n",
       "      <td>144</td>\n",
       "    </tr>\n",
       "    <tr>\n",
       "      <th>4</th>\n",
       "      <td>1000002</td>\n",
       "      <td>1000010</td>\n",
       "      <td>314</td>\n",
       "    </tr>\n",
       "    <tr>\n",
       "      <th>5</th>\n",
       "      <td>1000002</td>\n",
       "      <td>1000013</td>\n",
       "      <td>8</td>\n",
       "    </tr>\n",
       "    <tr>\n",
       "      <th>6</th>\n",
       "      <td>1000002</td>\n",
       "      <td>1000014</td>\n",
       "      <td>42</td>\n",
       "    </tr>\n",
       "    <tr>\n",
       "      <th>7</th>\n",
       "      <td>1000002</td>\n",
       "      <td>1000017</td>\n",
       "      <td>69</td>\n",
       "    </tr>\n",
       "    <tr>\n",
       "      <th>8</th>\n",
       "      <td>1000002</td>\n",
       "      <td>1000024</td>\n",
       "      <td>329</td>\n",
       "    </tr>\n",
       "    <tr>\n",
       "      <th>9</th>\n",
       "      <td>1000002</td>\n",
       "      <td>1000025</td>\n",
       "      <td>1</td>\n",
       "    </tr>\n",
       "    <tr>\n",
       "      <th>10</th>\n",
       "      <td>1000002</td>\n",
       "      <td>1000028</td>\n",
       "      <td>17</td>\n",
       "    </tr>\n",
       "    <tr>\n",
       "      <th>11</th>\n",
       "      <td>1000002</td>\n",
       "      <td>1000031</td>\n",
       "      <td>47</td>\n",
       "    </tr>\n",
       "    <tr>\n",
       "      <th>12</th>\n",
       "      <td>1000002</td>\n",
       "      <td>1000033</td>\n",
       "      <td>15</td>\n",
       "    </tr>\n",
       "    <tr>\n",
       "      <th>13</th>\n",
       "      <td>1000002</td>\n",
       "      <td>1000042</td>\n",
       "      <td>1</td>\n",
       "    </tr>\n",
       "    <tr>\n",
       "      <th>14</th>\n",
       "      <td>1000002</td>\n",
       "      <td>1000045</td>\n",
       "      <td>1</td>\n",
       "    </tr>\n",
       "    <tr>\n",
       "      <th>15</th>\n",
       "      <td>1000002</td>\n",
       "      <td>1000054</td>\n",
       "      <td>2</td>\n",
       "    </tr>\n",
       "    <tr>\n",
       "      <th>16</th>\n",
       "      <td>1000002</td>\n",
       "      <td>1000055</td>\n",
       "      <td>25</td>\n",
       "    </tr>\n",
       "    <tr>\n",
       "      <th>17</th>\n",
       "      <td>1000002</td>\n",
       "      <td>1000056</td>\n",
       "      <td>4</td>\n",
       "    </tr>\n",
       "    <tr>\n",
       "      <th>18</th>\n",
       "      <td>1000002</td>\n",
       "      <td>1000059</td>\n",
       "      <td>2</td>\n",
       "    </tr>\n",
       "    <tr>\n",
       "      <th>19</th>\n",
       "      <td>1000002</td>\n",
       "      <td>1000062</td>\n",
       "      <td>71</td>\n",
       "    </tr>\n",
       "  </tbody>\n",
       "</table>\n",
       "</div>"
      ],
      "text/plain": [
       "     userID  artistID  playCount\n",
       "0   1000002         1         55\n",
       "1   1000002   1000006         33\n",
       "2   1000002   1000007          8\n",
       "3   1000002   1000009        144\n",
       "4   1000002   1000010        314\n",
       "5   1000002   1000013          8\n",
       "6   1000002   1000014         42\n",
       "7   1000002   1000017         69\n",
       "8   1000002   1000024        329\n",
       "9   1000002   1000025          1\n",
       "10  1000002   1000028         17\n",
       "11  1000002   1000031         47\n",
       "12  1000002   1000033         15\n",
       "13  1000002   1000042          1\n",
       "14  1000002   1000045          1\n",
       "15  1000002   1000054          2\n",
       "16  1000002   1000055         25\n",
       "17  1000002   1000056          4\n",
       "18  1000002   1000059          2\n",
       "19  1000002   1000062         71"
      ]
     },
     "execution_count": 34,
     "metadata": {},
     "output_type": "execute_result"
    }
   ],
   "source": [
    "userArtistDataSchema = StructType([ \\\n",
    "    StructField(\"userID\", LongType(), True), \\\n",
    "    StructField(\"artistID\", LongType(), True), \\\n",
    "    StructField(\"playCount\", IntegerType(), True)])\n",
    "\n",
    "userArtistDF = sqlContext.read \\\n",
    "    .format('com.databricks.spark.csv') \\\n",
    "    .options(header='false', delimiter=' ') \\\n",
    "    .load(base + \"user_artist_data.txt\", schema = userArtistDataSchema) \\\n",
    "    .cache()\n",
    "# we can cache an Dataframe to avoid computing it from the beginning everytime it is accessed.\n",
    "\n",
    "display(pd.DataFrame(userArtistDF.take(20), columns=(['userID', 'artistID', 'playCount'])))"
   ]
  },
  {
   "cell_type": "markdown",
   "metadata": {},
   "source": [
    "#### Question 1.1: \n",
    "How many distinct users do we have in our data? "
   ]
  },
  {
   "cell_type": "code",
   "execution_count": 4,
   "metadata": {
    "collapsed": false
   },
   "outputs": [
    {
     "data": {
      "text/html": [
       "<div>\n",
       "<table border=\"1\" class=\"dataframe\">\n",
       "  <thead>\n",
       "    <tr style=\"text-align: right;\">\n",
       "      <th></th>\n",
       "      <th>summary</th>\n",
       "      <th>userID</th>\n",
       "      <th>artistID</th>\n",
       "      <th>playcount</th>\n",
       "    </tr>\n",
       "  </thead>\n",
       "  <tbody>\n",
       "    <tr>\n",
       "      <th>0</th>\n",
       "      <td>count</td>\n",
       "      <td>24296858</td>\n",
       "      <td>24296858</td>\n",
       "      <td>24296858</td>\n",
       "    </tr>\n",
       "    <tr>\n",
       "      <th>1</th>\n",
       "      <td>mean</td>\n",
       "      <td>1947573.2653533637</td>\n",
       "      <td>1718704.0937568964</td>\n",
       "      <td>15.29576248089362</td>\n",
       "    </tr>\n",
       "    <tr>\n",
       "      <th>2</th>\n",
       "      <td>stddev</td>\n",
       "      <td>496000.5551818908</td>\n",
       "      <td>2539389.092428367</td>\n",
       "      <td>153.9153244698001</td>\n",
       "    </tr>\n",
       "    <tr>\n",
       "      <th>3</th>\n",
       "      <td>min</td>\n",
       "      <td>90</td>\n",
       "      <td>1</td>\n",
       "      <td>1</td>\n",
       "    </tr>\n",
       "    <tr>\n",
       "      <th>4</th>\n",
       "      <td>max</td>\n",
       "      <td>2443548</td>\n",
       "      <td>10794401</td>\n",
       "      <td>439771</td>\n",
       "    </tr>\n",
       "  </tbody>\n",
       "</table>\n",
       "</div>"
      ],
      "text/plain": [
       "  summary              userID            artistID          playcount\n",
       "0   count            24296858            24296858           24296858\n",
       "1    mean  1947573.2653533637  1718704.0937568964  15.29576248089362\n",
       "2  stddev   496000.5551818908   2539389.092428367  153.9153244698001\n",
       "3     min                  90                   1                  1\n",
       "4     max             2443548            10794401             439771"
      ]
     },
     "metadata": {},
     "output_type": "display_data"
    },
    {
     "name": "stdout",
     "output_type": "stream",
     "text": [
      "Total n. of users:  148111\n"
     ]
    },
    {
     "data": {
      "text/html": [
       "<div>\n",
       "<table border=\"1\" class=\"dataframe\">\n",
       "  <thead>\n",
       "    <tr style=\"text-align: right;\">\n",
       "      <th></th>\n",
       "      <th>userID</th>\n",
       "      <th>nArtists</th>\n",
       "    </tr>\n",
       "  </thead>\n",
       "  <tbody>\n",
       "    <tr>\n",
       "      <th>0</th>\n",
       "      <td>1000061</td>\n",
       "      <td>113</td>\n",
       "    </tr>\n",
       "    <tr>\n",
       "      <th>1</th>\n",
       "      <td>1001372</td>\n",
       "      <td>230</td>\n",
       "    </tr>\n",
       "    <tr>\n",
       "      <th>2</th>\n",
       "      <td>1001409</td>\n",
       "      <td>318</td>\n",
       "    </tr>\n",
       "    <tr>\n",
       "      <th>3</th>\n",
       "      <td>1001530</td>\n",
       "      <td>707</td>\n",
       "    </tr>\n",
       "    <tr>\n",
       "      <th>4</th>\n",
       "      <td>1001731</td>\n",
       "      <td>832</td>\n",
       "    </tr>\n",
       "  </tbody>\n",
       "</table>\n",
       "</div>"
      ],
      "text/plain": [
       "    userID  nArtists\n",
       "0  1000061       113\n",
       "1  1001372       230\n",
       "2  1001409       318\n",
       "3  1001530       707\n",
       "4  1001731       832"
      ]
     },
     "execution_count": 4,
     "metadata": {},
     "output_type": "execute_result"
    }
   ],
   "source": [
    "uniqueUsers = userArtistDF.select('userID').distinct().count()\n",
    "display(pd.DataFrame(userArtistDF.describe().take(5), columns=(['summary', 'userID', 'artistID', 'playcount'])))\n",
    "print(\"Total n. of users: \", uniqueUsers)\n",
    "\n",
    "# How many artist does a user listen to?\n",
    "userArtistCount = userArtistDF.groupBy('userID').agg(countDistinct(\"artistID\"))\n",
    "pd.DataFrame(userArtistCount.take(5), columns=(['userID', 'nArtists']))"
   ]
  },
  {
   "cell_type": "markdown",
   "metadata": {},
   "source": [
    "#### Question 1.2\n",
    "How many distinct artists do we have in our data ?"
   ]
  },
  {
   "cell_type": "code",
   "execution_count": 5,
   "metadata": {
    "collapsed": false
   },
   "outputs": [
    {
     "name": "stdout",
     "output_type": "stream",
     "text": [
      "Total n. of artists:  1631028\n"
     ]
    }
   ],
   "source": [
    "\n",
    "uniqueArtists = userArtistDF.select('artistID').distinct().count()\n",
    "print(\"Total n. of artists: \", uniqueArtists)"
   ]
  },
  {
   "cell_type": "markdown",
   "metadata": {},
   "source": [
    "#### Question 1.3\n",
    "\n",
    "One limitation of Spark MLlib's ALS implementation - which we will use later - is that it requires IDs for users and items to be nonnegative 32-bit integers. This means that IDs larger than Integer.MAX_VALUE, or 2147483647, can't be used. So we need to check whether this data set conforms to the strict requirements of our library.\n",
    "\n",
    "What are the maximum and minimum values of column `userID` ?\n",
    "\n",
    "HINT: Refer to section 4.3 of Laboratory 2."
   ]
  },
  {
   "cell_type": "code",
   "execution_count": 6,
   "metadata": {
    "collapsed": false
   },
   "outputs": [
    {
     "name": "stdout",
     "output_type": "stream",
     "text": [
      "Maximum userID:  2443548\n",
      "Minimum userID:  90\n"
     ]
    }
   ],
   "source": [
    "print(\"Maximum userID: \", userArtistDF.select(max('userID')).collect()[0].asDict()['max(userID)'])\n",
    "print(\"Minimum userID: \", userArtistDF.select(min('userID')).collect()[0].asDict()['min(userID)'])\n",
    "\n",
    "userArtistDescr= userArtistDF.describe().toPandas()"
   ]
  },
  {
   "cell_type": "markdown",
   "metadata": {},
   "source": [
    "#### Question 1.4\n",
    "What is the maximum and minimum values of column `artistID` ?"
   ]
  },
  {
   "cell_type": "code",
   "execution_count": 7,
   "metadata": {
    "collapsed": false
   },
   "outputs": [
    {
     "name": "stdout",
     "output_type": "stream",
     "text": [
      "Maximum artistID:  10794401\n",
      "Minimum artistID:  1\n"
     ]
    }
   ],
   "source": [
    "print(\"Maximum artistID: \", userArtistDF.select(max('artistID')).collect()[0].asDict()['max(artistID)'])\n",
    "print(\"Minimum artistID: \", userArtistDF.select(min('artistID')).collect()[0].asDict()['min(artistID)'])"
   ]
  },
  {
   "cell_type": "markdown",
   "metadata": {},
   "source": [
    "We just discovered that we have a total of 148,111 users in our dataset. Similarly, we have a total of 1,631,028 artists in our dataset. The maximum values of `userID` and `artistID` are still smaller than the biggest number of integer type.  No additional transformation will be necessary to use these IDs.\n",
    "\n",
    "One thing we can see here is that SPARK SQL provides very concise and powerful methods for data analytics (compared to using RDD and their low-level API). You can see more examples [here](https://databricks.com/blog/2015/06/02/statistical-and-mathematical-functions-with-dataframes-in-spark.html)."
   ]
  },
  {
   "cell_type": "code",
   "execution_count": 68,
   "metadata": {
    "collapsed": false
   },
   "outputs": [
    {
     "data": {
      "text/html": [
       "<div>\n",
       "<table border=\"1\" class=\"dataframe\">\n",
       "  <thead>\n",
       "    <tr style=\"text-align: right;\">\n",
       "      <th></th>\n",
       "      <th>userID</th>\n",
       "      <th>nPlays</th>\n",
       "      <th>nArtists</th>\n",
       "    </tr>\n",
       "  </thead>\n",
       "  <tbody>\n",
       "    <tr>\n",
       "      <th>0</th>\n",
       "      <td>1059637</td>\n",
       "      <td>674412</td>\n",
       "      <td>359</td>\n",
       "    </tr>\n",
       "    <tr>\n",
       "      <th>1</th>\n",
       "      <td>2064012</td>\n",
       "      <td>548427</td>\n",
       "      <td>58</td>\n",
       "    </tr>\n",
       "    <tr>\n",
       "      <th>2</th>\n",
       "      <td>2069337</td>\n",
       "      <td>393515</td>\n",
       "      <td>259</td>\n",
       "    </tr>\n",
       "    <tr>\n",
       "      <th>3</th>\n",
       "      <td>2023977</td>\n",
       "      <td>285978</td>\n",
       "      <td>67</td>\n",
       "    </tr>\n",
       "    <tr>\n",
       "      <th>4</th>\n",
       "      <td>1046559</td>\n",
       "      <td>183972</td>\n",
       "      <td>1069</td>\n",
       "    </tr>\n",
       "    <tr>\n",
       "      <th>5</th>\n",
       "      <td>1052461</td>\n",
       "      <td>175822</td>\n",
       "      <td>241</td>\n",
       "    </tr>\n",
       "    <tr>\n",
       "      <th>6</th>\n",
       "      <td>1070932</td>\n",
       "      <td>168977</td>\n",
       "      <td>120</td>\n",
       "    </tr>\n",
       "    <tr>\n",
       "      <th>7</th>\n",
       "      <td>1031009</td>\n",
       "      <td>167273</td>\n",
       "      <td>760</td>\n",
       "    </tr>\n",
       "    <tr>\n",
       "      <th>8</th>\n",
       "      <td>2020513</td>\n",
       "      <td>165642</td>\n",
       "      <td>124</td>\n",
       "    </tr>\n",
       "    <tr>\n",
       "      <th>9</th>\n",
       "      <td>2062243</td>\n",
       "      <td>151504</td>\n",
       "      <td>746</td>\n",
       "    </tr>\n",
       "    <tr>\n",
       "      <th>10</th>\n",
       "      <td>2069889</td>\n",
       "      <td>143092</td>\n",
       "      <td>234</td>\n",
       "    </tr>\n",
       "    <tr>\n",
       "      <th>11</th>\n",
       "      <td>1001440</td>\n",
       "      <td>136293</td>\n",
       "      <td>2441</td>\n",
       "    </tr>\n",
       "    <tr>\n",
       "      <th>12</th>\n",
       "      <td>2014936</td>\n",
       "      <td>135266</td>\n",
       "      <td>400</td>\n",
       "    </tr>\n",
       "    <tr>\n",
       "      <th>13</th>\n",
       "      <td>2017397</td>\n",
       "      <td>134032</td>\n",
       "      <td>72</td>\n",
       "    </tr>\n",
       "    <tr>\n",
       "      <th>14</th>\n",
       "      <td>1024631</td>\n",
       "      <td>122316</td>\n",
       "      <td>6188</td>\n",
       "    </tr>\n",
       "    <tr>\n",
       "      <th>15</th>\n",
       "      <td>1007308</td>\n",
       "      <td>111546</td>\n",
       "      <td>566</td>\n",
       "    </tr>\n",
       "    <tr>\n",
       "      <th>16</th>\n",
       "      <td>2023742</td>\n",
       "      <td>102037</td>\n",
       "      <td>206</td>\n",
       "    </tr>\n",
       "    <tr>\n",
       "      <th>17</th>\n",
       "      <td>1058890</td>\n",
       "      <td>98477</td>\n",
       "      <td>624</td>\n",
       "    </tr>\n",
       "    <tr>\n",
       "      <th>18</th>\n",
       "      <td>1021940</td>\n",
       "      <td>97449</td>\n",
       "      <td>743</td>\n",
       "    </tr>\n",
       "    <tr>\n",
       "      <th>19</th>\n",
       "      <td>1059245</td>\n",
       "      <td>96058</td>\n",
       "      <td>1217</td>\n",
       "    </tr>\n",
       "  </tbody>\n",
       "</table>\n",
       "</div>"
      ],
      "text/plain": [
       "     userID  nPlays  nArtists\n",
       "0   1059637  674412       359\n",
       "1   2064012  548427        58\n",
       "2   2069337  393515       259\n",
       "3   2023977  285978        67\n",
       "4   1046559  183972      1069\n",
       "5   1052461  175822       241\n",
       "6   1070932  168977       120\n",
       "7   1031009  167273       760\n",
       "8   2020513  165642       124\n",
       "9   2062243  151504       746\n",
       "10  2069889  143092       234\n",
       "11  1001440  136293      2441\n",
       "12  2014936  135266       400\n",
       "13  2017397  134032        72\n",
       "14  1024631  122316      6188\n",
       "15  1007308  111546       566\n",
       "16  2023742  102037       206\n",
       "17  1058890   98477       624\n",
       "18  1021940   97449       743\n",
       "19  1059245   96058      1217"
      ]
     },
     "execution_count": 68,
     "metadata": {},
     "output_type": "execute_result"
    }
   ],
   "source": [
    "# Compute user activity\n",
    "# We are interested in how many playcounts each user has scored.\n",
    "userActivity = userArtistDF.groupBy('userID').sum('playCount')\n",
    "userActivity = userActivity.withColumnRenamed('sum(playCount)', 'nplays')\n",
    "#userActivity.take(5)\n",
    "userCuriosity = userArtistDF.groupBy('userID').agg(countDistinct(\"artistID\"))\n",
    "userCuriosity = userCuriosity.withColumnRenamed('count(DISTINCT artistID)', 'nArtists')\n",
    "userActCurios = userActivity.join(userCuriosity, 'userID')\n",
    "userActCurios = userActCurios.orderBy(desc('nplays'))\n",
    "\n",
    "pd.DataFrame(userActCurios.take(20), columns=(['userID', 'nPlays', 'nArtists']))"
   ]
  },
  {
   "cell_type": "markdown",
   "metadata": {},
   "source": [
    "Next, we might want to understand better user activity and artist popularity.\n",
    "\n",
    "Here is a list of simple descriptive queries that helps us reaching these purposes:\n",
    "\n",
    "* How many times each user has played a song? This is a good indicator of who are the most active users of our service. Note that a very active user with many play counts does not necessarily mean that the user is also \"curious\"! Indeed, she could have played the same song several times.\n",
    "* How many play counts for each artist? This is a good indicator of the artist popularity. Since we do not have time information associated to our data, we can only build a, e.g., top-10 ranking of the most popular artists in the dataset. Later in the notebook, we will learn that our dataset has a very \"loose\" definition about artists: very often artist IDs point to song titles as well. This means we have to be careful when establishing popular artists. Indeed, artists whose data is \"well formed\" will have the correct number of play counts associated to them. Instead, artists that appear mixed with song titles may see their play counts \"diluted\" across their songs."
   ]
  },
  {
   "cell_type": "code",
   "execution_count": 9,
   "metadata": {
    "collapsed": false
   },
   "outputs": [
    {
     "name": "stdout",
     "output_type": "stream",
     "text": [
      "Mean play artist ratio for each user: 15.7303443875\n"
     ]
    },
    {
     "data": {
      "image/png": "[encoded data removed]",
      "text/plain": [
       "<matplotlib.figure.Figure at 0x7f5e9c0d0c50>"
      ]
     },
     "metadata": {},
     "output_type": "display_data"
    }
   ],
   "source": [
    "df_userActCurios = pd.DataFrame(data=userActCurios.select(['nPlays', 'nArtists']).collect(),\\\n",
    "                                columns=['nPlays', 'nArtists'])\n",
    "x = np.array(df_userActCurios['nPlays'], dtype=np.float64)\n",
    "y = np.array(df_userActCurios['nArtists'], dtype=np.float64)\n",
    "\n",
    "userPlayArtistRatio = np.divide(x, y)\n",
    "# On average each user will listen to the same artist x number of times\n",
    "print(\"Mean play artist ratio for each user:\", userPlayArtistRatio.mean())\n",
    "\n",
    "plt.title('Correlation between no. of plays per user vs. artist')\n",
    "plt.xlabel('No. of plays per user')\n",
    "plt.ylabel('No. of distinct artists per user')\n",
    "hb = plt.hexbin(x, y, bins='log', gridsize=40,  cmap='afmhot', xscale='log', yscale='log')"
   ]
  },
  {
   "cell_type": "markdown",
   "metadata": {},
   "source": [
    "##### Insights on top figure\n",
    "The general idea behind this graph is to see the relation between the number of plays and the number of distinct artist per user. There is a natural lower limit on the data which is a ratio of 1:1 (45 degrees diagonal on this plot ), since each song relates to at least one artist. \n",
    "\n",
    "As we can se there is some thight correlation between them with an average of 15.7 plays/artist per user: users listen on average 15 songs per artist. \n",
    "\n",
    "We can also extract information about the outliers by assigning a soft frontier to the ratio of plays/artist. We could roughly consider an outlier if his number of plays is a ~100 times more than his number of different artists, which in the figure represents the width in the x axis of the most populated region (the most yellow area).\n"
   ]
  },
  {
   "cell_type": "markdown",
   "metadata": {},
   "source": [
    "### Question 2\n",
    "\n",
    "#### Question 2.1\n",
    "How many times each user has played a song? Show 5 samples of the result."
   ]
  },
  {
   "cell_type": "code",
   "execution_count": 10,
   "metadata": {
    "collapsed": false
   },
   "outputs": [
    {
     "data": {
      "text/html": [
       "<div>\n",
       "<table border=\"1\" class=\"dataframe\">\n",
       "  <thead>\n",
       "    <tr style=\"text-align: right;\">\n",
       "      <th></th>\n",
       "      <th>userID</th>\n",
       "      <th>playCount</th>\n",
       "    </tr>\n",
       "  </thead>\n",
       "  <tbody>\n",
       "    <tr>\n",
       "      <th>0</th>\n",
       "      <td>1041783</td>\n",
       "      <td>8730</td>\n",
       "    </tr>\n",
       "    <tr>\n",
       "      <th>1</th>\n",
       "      <td>1042771</td>\n",
       "      <td>3</td>\n",
       "    </tr>\n",
       "    <tr>\n",
       "      <th>2</th>\n",
       "      <td>1043190</td>\n",
       "      <td>8</td>\n",
       "    </tr>\n",
       "    <tr>\n",
       "      <th>3</th>\n",
       "      <td>1043621</td>\n",
       "      <td>125</td>\n",
       "    </tr>\n",
       "    <tr>\n",
       "      <th>4</th>\n",
       "      <td>1043703</td>\n",
       "      <td>2609</td>\n",
       "    </tr>\n",
       "  </tbody>\n",
       "</table>\n",
       "</div>"
      ],
      "text/plain": [
       "    userID  playCount\n",
       "0  1041783       8730\n",
       "1  1042771          3\n",
       "2  1043190          8\n",
       "3  1043621        125\n",
       "4  1043703       2609"
      ]
     },
     "metadata": {},
     "output_type": "display_data"
    }
   ],
   "source": [
    "userActivity = userArtistDF.groupBy('userID').sum('playCount')\n",
    "display(pd.DataFrame(userActivity.take(5), columns=['userID', 'playCount']))"
   ]
  },
  {
   "cell_type": "markdown",
   "metadata": {},
   "source": [
    "#### Question 2.2\n",
    "Plot CDF (or ECDF) of the number of play counts per User ID.\n",
    "\n",
    "Explain and comment the figure you just created: \n",
    "\n",
    "* for example, look at important percentiles (25%, median, 75%, tails such as >90%) and cross check with what you have found above to figure out if the result is plausible.\n",
    "* discuss about your users, with respect to the application domain we target in the notebook: you will notice that for some users, there is very little interaction with the system, which means that maybe reccommending something to them is going to be more difficult than for other users who interact more with the system.\n",
    "* look at outliers and reason about their impact on your reccommender algorithm"
   ]
  },
  {
   "cell_type": "code",
   "execution_count": 11,
   "metadata": {
    "collapsed": false
   },
   "outputs": [
    {
     "name": "stdout",
     "output_type": "stream",
     "text": [
      "[     0      1      2 ..., 148108 148109 148110]\n"
     ]
    },
    {
     "data": {
      "image/png": "[encoded data removed]",
      "text/plain": [
       "<matplotlib.figure.Figure at 0x7f5e808359b0>"
      ]
     },
     "metadata": {},
     "output_type": "display_data"
    }
   ],
   "source": [
    "pdf = pd.DataFrame(data=userActivity.collect())\n",
    "Y=np.sort( pdf[1] )\n",
    "yvals=np.arange(len(Y))/float(len(Y))\n",
    "\n",
    "print(np.arange(len(Y)))\n",
    "\n",
    "plt.semilogx( Y, yvals )\n",
    "plt.xlabel('Play Counts');\n",
    "plt.ylabel('ECDF');\n",
    "plt.grid(True,which=\"both\",ls=\"-\")\n",
    "plt.title('ECDF of number of play counts per User ID')\n",
    "plt.show()"
   ]
  },
  {
   "cell_type": "code",
   "execution_count": 12,
   "metadata": {
    "collapsed": false
   },
   "outputs": [
    {
     "data": {
      "text/plain": [
       "0.01        1.0\n",
       "0.10       34.0\n",
       "0.25      204.0\n",
       "0.50      892.0\n",
       "0.75     2800.0\n",
       "0.90     6484.0\n",
       "0.99    21569.2\n",
       "Name: 1, dtype: float64"
      ]
     },
     "metadata": {},
     "output_type": "display_data"
    },
    {
     "name": "stdout",
     "output_type": "stream",
     "text": [
      "Top 99.99% values:  [134032 135266 136293 143092 151504 165642 167273 168977 175822 183972\n",
      " 285978 393515 548427 674412]\n",
      "\n",
      "Quantile for average (2509): 0.726\n",
      "\n"
     ]
    }
   ],
   "source": [
    "pdf[1].describe()\n",
    "display(pdf[1].quantile([0.01, 0.1, 0.25, 0.5, 0.75, 0.9, 0.99]))\n",
    "print(\"Top 99.99% values: \", Y[yvals >= 0.9999])\n",
    "print(\"\\nQuantile for average (2509): %.3f\\n\"%yvals[Y >= 2509][0])"
   ]
  },
  {
   "cell_type": "code",
   "execution_count": 13,
   "metadata": {
    "collapsed": false
   },
   "outputs": [
    {
     "data": {
      "image/png": "[encoded data removed]",
      "text/plain": [
       "<matplotlib.figure.Figure at 0x7f5e75546cc0>"
      ]
     },
     "metadata": {},
     "output_type": "display_data"
    }
   ],
   "source": [
    "import matplotlib.mlab as mlab\n",
    "plt.hist(Y, bins=np.logspace(1, 5, 30))\n",
    "plt.gca().set_xscale(\"log\")\n",
    "plt.xlabel('Nº of Plays')\n",
    "plt.ylabel('Number of Users')\n",
    "plt.title(r'Histogram of Users per play')\n",
    "plt.show()"
   ]
  },
  {
   "cell_type": "markdown",
   "metadata": {},
   "source": [
    "#### Q2.2 - Answers\n",
    "\n",
    "| Quantile | No. songs |\n",
    "| ------ | ------ |\n",
    "| 0.01 | 1.0 |\n",
    "| 0.10 | 34.0 |\n",
    "| 0.25 | 204.0 |\n",
    "| 0.50 | 892.0 |\n",
    "| 0.75 | 2800.0 |\n",
    "| 0.90 | 6484.0 |\n",
    "| 0.99 | 21569.2 |\n",
    "\n",
    "As we can see from the quantile table most of the users have a relatively low number of plays, and in fact the average nº of plays (2509) is in the quantile 73%, showing that the data is skewed towards lower values. \n",
    "\n",
    "Results seem to be reasonable, having many users with small number of plays and few with big number (it's a typical distribution in modern networking platforms). Users with low count of plays may have to be separated from the rest and treated differently, since their recommendations will be error prone. \n",
    "\n",
    "It would also have been good to know the period of data collection in order to fully reason about the highest outliers. The user with the most plays has around 650k plays and if we assume that the average length of a song is 3 minutes this gives a minimum of 3.8 years of consecutive listening.\n",
    "\n",
    "The ECDF follows a right skewed distribution (note that the figure above uses logarithmic axis), which is a typical sign for real networks (be it social or others) as stated in the following link and detailed in the [NetMod](http://mathinsight.org/degree_distribution) course in EURECOM.\n"
   ]
  },
  {
   "cell_type": "markdown",
   "metadata": {},
   "source": [
    "#### Question 2.3\n",
    "\n",
    "How many play counts for each artist? Plot CDF or ECDF of the result.\n",
    "\n",
    "Similarly to the previous question, you need to comment and interpret your result: what is the figure telling you?"
   ]
  },
  {
   "cell_type": "code",
   "execution_count": 14,
   "metadata": {
    "collapsed": true
   },
   "outputs": [],
   "source": [
    "\n",
    "# Compute artist popularity\n",
    "# We are interested in how many playcounts per artist\n",
    "# ATTENTION! Grouping by artistID may be problematic, as stated above.\n",
    "\n",
    "artistPopularity = userArtistDF.groupBy('artistID').sum('playCount')\n"
   ]
  },
  {
   "cell_type": "code",
   "execution_count": 15,
   "metadata": {
    "collapsed": false
   },
   "outputs": [
    {
     "data": {
      "image/png": "[encoded data removed]",
      "text/plain": [
       "<matplotlib.figure.Figure at 0x7f5e828fa160>"
      ]
     },
     "metadata": {},
     "output_type": "display_data"
    }
   ],
   "source": [
    "pdf = pd.DataFrame(data=artistPopularity.collect())\n",
    "Y = np.sort(pdf[1])\n",
    "# np.arange returns evenly spaced values inside given range. Why do we bother dividing Y by Y? To get a float?\n",
    "yvals = np.arange(len(Y))/float(len(Y))\n",
    "\n",
    "plt.semilogx(Y, yvals)\n",
    "plt.xlabel('Play counts'); plt.ylabel('ECDF'); plt.grid(True,which=\"both\",ls=\"-\"); plt.title('ECDF of Nº of plays per artistID')\n",
    "plt.show()"
   ]
  },
  {
   "cell_type": "code",
   "execution_count": 16,
   "metadata": {
    "collapsed": false
   },
   "outputs": [
    {
     "data": {
      "image/png": "[encoded data removed]",
      "text/plain": [
       "<matplotlib.figure.Figure at 0x7f5e79930358>"
      ]
     },
     "metadata": {},
     "output_type": "display_data"
    }
   ],
   "source": [
    "plt.hist(Y, log=True, bins=50)\n",
    "plt.xlabel('Nº plays'); plt.ylabel('Nº of Artists'); plt.grid(True,which=\"both\");\n",
    "plt.title('Histogram: Plays per artistID')\n",
    "plt.show()"
   ]
  },
  {
   "cell_type": "markdown",
   "metadata": {},
   "source": [
    "##### Q2.3 - Answer\n",
    "The figure shows that only a 20% of the artists have more than 200 hits, while the rest have less than 200, in a distribution similar to Pareto law. Repeating our skewness metric, we computed the quantile for the average (226 songs played per artist), obtaining a 96,6%. This, linked to the shape of the histogram (below, notice the log scale of y axis), shows that the distribution is **extremely right skewed**, a clear sign of a **power law distribution**:\n",
    "https://en.wikipedia.org/wiki/Power_law"
   ]
  },
  {
   "cell_type": "markdown",
   "metadata": {},
   "source": [
    "#### Question 2.4\n",
    "Plot a bar chart to show top 5 artists In terms of absolute play counts.\n",
    "\n",
    "Comment the figure you just obtained:\n",
    "\n",
    "* are these reasonable results?\n",
    "* is looking at top-5 artists enough to learn more about your data?\n",
    "* do you see anything strange in the data?"
   ]
  },
  {
   "cell_type": "code",
   "execution_count": 17,
   "metadata": {
    "collapsed": false
   },
   "outputs": [
    {
     "name": "stdout",
     "output_type": "stream",
     "text": [
      "top10: 4.356 % \n",
      "\n",
      "top100: 21.191 %\n",
      "\n",
      "top1000: 57.107 %\n",
      "\n",
      "top75k: 95.787 %\n",
      "\n",
      "Single play artists are up to: 32.184671 %\n",
      "\n",
      "1631028\n",
      "524942\n"
     ]
    }
   ],
   "source": [
    "# Analysis on the weight of the top artists\n",
    "print(\"top10: %.3f %% \\n\"%(np.sum(Y[-10:])/np.sum(Y)*100))\n",
    "print(\"top100: %.3f %%\\n\"%(np.sum(Y[-100:])/np.sum(Y)*100))\n",
    "print(\"top1000: %.3f %%\\n\"%(np.sum(Y[-1000:])/np.sum(Y)*100))\n",
    "print(\"top75k: %.3f %%\\n\"%(np.sum(Y[-75000:])/np.sum(Y)*100))\n",
    "\n",
    "# Analyzing an anomaly detected in the data: there is a lot of artists with a single play:\n",
    "print(\"Single play artists are up to: %.6f %%\\n\"%(yvals[Y==1][-1]*100))\n",
    "print(len(yvals))\n",
    "print(len(yvals[Y==1]))"
   ]
  },
  {
   "cell_type": "code",
   "execution_count": 18,
   "metadata": {
    "collapsed": false
   },
   "outputs": [
    {
     "data": {
      "image/png": "[encoded data removed]",
      "text/plain": [
       "<matplotlib.figure.Figure at 0x7f5e7993f9e8>"
      ]
     },
     "metadata": {},
     "output_type": "display_data"
    }
   ],
   "source": [
    "# Artist popularity format: artistID, sum(playCount). Want to sort on index 1 in DESC order\n",
    "sortedArtist = sorted(artistPopularity.collect(), key = lambda x: -x[1])[:10]\n",
    "\n",
    "artistID = [w[0] for w in sortedArtist]\n",
    "\n",
    "y_pos = range(len(sortedArtist))\n",
    "frequency = [w[1] for w in sortedArtist]\n",
    "\n",
    "plt.barh(y_pos, frequency[::-1], align='center', alpha=0.4)\n",
    "plt.yticks(y_pos[::-1], artistID[::-1])\n",
    "plt.xlabel('Play Count')\n",
    "plt.ylabel('Artist')\n",
    "plt.title('Top-10 Artist ID per play counts')\n",
    "plt.show()\n",
    "\n",
    "# It is reasonable that artists have such an high count, but the top five are all way above the 99% percentile@\n",
    "# which is around 1000 plays. But when considering 1.6 million unique artists its reasonable. "
   ]
  },
  {
   "cell_type": "markdown",
   "metadata": {},
   "source": [
    "##### Q2.4 Answer\n",
    "In order to assess the reasonability of the results, we compared our data to a similar platform: Spotify.\n",
    "Literally stated by one of their analysts:\n",
    "    \"There are about about 2 million artists on Spotify, but the top 75k artists generate 95%+ of the streams\"\n",
    "    [Source](https://www.quora.com/What-are-the-total-number-of-artists-on-spotify).\n",
    "Our top 10 artists cover 4,3% of the total amount of music plays, but since these can be considered outliers, this number is not representative enough. The top 75K users will do.\n",
    "Running the Spotify calculation over LastFM data, we discovered that **95.8% of all music plays belong to the top 75k artists**, matching perfectly the numbers from Spotify, and thus we consider the results reasonable.\n",
    "\n",
    "\n",
    "| Top | % of total |\n",
    "| ------ | ------ |\n",
    "| 10 | 4,3% |\n",
    "| 100 | 21,2% |\n",
    "| 1000 | 57,1% |\n",
    "| 75000 | 95,8% |\n",
    "\n",
    "Besides that, it seems like there is something strange in the opposite side of the data: we found that 32.2% of the artists have a single play (check the histogram above). This probably relates to typos when writing artist names that weren't sanitized, meaning that a single artist will still have some secondary copies inside the dataset."
   ]
  },
  {
   "cell_type": "markdown",
   "metadata": {},
   "source": [
    "All seems clear right now, but ... wait a second! What about the problems indicated above about artist \"disambiguation\"? Are these artist ID we are using referring to unique artists? How can we make sure that such \"opaque\" identifiers point to different bands? Let's try to use some additional dataset to answer this question:  `artist_data.txt` dataset. This time, the schema of the dataset consists in:\n",
    "\n",
    "```\n",
    "artist ID: long int\n",
    "name: string\n",
    "```\n",
    "\n",
    "We will try to find whether a single artist has two different IDs."
   ]
  },
  {
   "cell_type": "markdown",
   "metadata": {},
   "source": [
    "### Question 3\n",
    "\n",
    "#### Question 3.1\n",
    "Load the data from `/datasets/lastfm/artist_data.txt` and use the SparkSQL API to show 10 samples.\n",
    "\n",
    "HINT: If you encounter some error when parsing lines in data because of invalid entries, parameter `mode='DROPMALFORMED'` will help you to eliminate these entries. The suggested syntax is: `<df>.options(header='false', delimiter='\\t', mode='DROPMALFORMED')`."
   ]
  },
  {
   "cell_type": "code",
   "execution_count": 19,
   "metadata": {
    "collapsed": false
   },
   "outputs": [
    {
     "data": {
      "text/html": [
       "<div>\n",
       "<table border=\"1\" class=\"dataframe\">\n",
       "  <thead>\n",
       "    <tr style=\"text-align: right;\">\n",
       "      <th></th>\n",
       "      <th>artistID</th>\n",
       "      <th>name</th>\n",
       "    </tr>\n",
       "  </thead>\n",
       "  <tbody>\n",
       "    <tr>\n",
       "      <th>1</th>\n",
       "      <td>6821360</td>\n",
       "      <td>Pang Nakarin</td>\n",
       "    </tr>\n",
       "    <tr>\n",
       "      <th>2</th>\n",
       "      <td>10113088</td>\n",
       "      <td>Terfel, Bartoli- Mozart: Don</td>\n",
       "    </tr>\n",
       "    <tr>\n",
       "      <th>3</th>\n",
       "      <td>10151459</td>\n",
       "      <td>The Flaming Sidebur</td>\n",
       "    </tr>\n",
       "    <tr>\n",
       "      <th>4</th>\n",
       "      <td>6826647</td>\n",
       "      <td>Bodenstandig 3000</td>\n",
       "    </tr>\n",
       "    <tr>\n",
       "      <th>5</th>\n",
       "      <td>10186265</td>\n",
       "      <td>Jota Quest e Ivete Sangalo</td>\n",
       "    </tr>\n",
       "    <tr>\n",
       "      <th>6</th>\n",
       "      <td>6828986</td>\n",
       "      <td>Toto_XX (1977</td>\n",
       "    </tr>\n",
       "    <tr>\n",
       "      <th>7</th>\n",
       "      <td>10236364</td>\n",
       "      <td>U.S Bombs -</td>\n",
       "    </tr>\n",
       "    <tr>\n",
       "      <th>8</th>\n",
       "      <td>1135000</td>\n",
       "      <td>artist formaly know as Mat</td>\n",
       "    </tr>\n",
       "    <tr>\n",
       "      <th>9</th>\n",
       "      <td>10299728</td>\n",
       "      <td>Kassierer - Musik für beide Ohren</td>\n",
       "    </tr>\n",
       "    <tr>\n",
       "      <th>10</th>\n",
       "      <td>10299744</td>\n",
       "      <td>Rahzel, RZA</td>\n",
       "    </tr>\n",
       "  </tbody>\n",
       "</table>\n",
       "</div>"
      ],
      "text/plain": [
       "    artistID                               name\n",
       "1    6821360                       Pang Nakarin\n",
       "2   10113088       Terfel, Bartoli- Mozart: Don\n",
       "3   10151459                The Flaming Sidebur\n",
       "4    6826647                  Bodenstandig 3000\n",
       "5   10186265         Jota Quest e Ivete Sangalo\n",
       "6    6828986                      Toto_XX (1977\n",
       "7   10236364                        U.S Bombs -\n",
       "8    1135000         artist formaly know as Mat\n",
       "9   10299728  Kassierer - Musik für beide Ohren\n",
       "10  10299744                        Rahzel, RZA"
      ]
     },
     "metadata": {},
     "output_type": "display_data"
    }
   ],
   "source": [
    "customSchemaArtist = StructType([ \\\n",
    "    StructField(\"artistID\", LongType(), True), \\\n",
    "    StructField(\"name\", StringType(), True)])\n",
    "\n",
    "artistDF = sqlContext.read \\\n",
    "    .format('com.databricks.spark.csv') \\\n",
    "    .options(header='false', delimiter='\\\\t', mode='DROPMALFORMED') \\\n",
    "    .load(base + \"artist_data.txt\", schema = customSchemaArtist) \\\n",
    "    .cache()\n",
    "    \n",
    "artistPD_DF = artistDF.toPandas()\n",
    "display(artistPD_DF[1:11])"
   ]
  },
  {
   "cell_type": "markdown",
   "metadata": {},
   "source": [
    "#### Question 3.2\n",
    "Find 20 artists whose name contains \"Aerosmith\". Take a look at artists that have ID equal to `1000010` and `2082323`. In your opinion, are they pointing to the same artist?\n",
    "\n",
    "HINT: Function `locate(sub_string, string)` can be useful in this case."
   ]
  },
  {
   "cell_type": "code",
   "execution_count": 76,
   "metadata": {
    "collapsed": false
   },
   "outputs": [
    {
     "data": {
      "text/html": [
       "<div>\n",
       "<table border=\"1\" class=\"dataframe\">\n",
       "  <thead>\n",
       "    <tr style=\"text-align: right;\">\n",
       "      <th></th>\n",
       "      <th>artistID</th>\n",
       "      <th>name</th>\n",
       "    </tr>\n",
       "  </thead>\n",
       "  <tbody>\n",
       "    <tr>\n",
       "      <th>0</th>\n",
       "      <td>10586006</td>\n",
       "      <td>Dusty Springfield/Aerosmith</td>\n",
       "    </tr>\n",
       "    <tr>\n",
       "      <th>1</th>\n",
       "      <td>6946007</td>\n",
       "      <td>Aerosmith/RunDMC</td>\n",
       "    </tr>\n",
       "    <tr>\n",
       "      <th>2</th>\n",
       "      <td>10475683</td>\n",
       "      <td>Aerosmith: Just Push Play</td>\n",
       "    </tr>\n",
       "    <tr>\n",
       "      <th>3</th>\n",
       "      <td>1083031</td>\n",
       "      <td>Aerosmith/ G n R</td>\n",
       "    </tr>\n",
       "    <tr>\n",
       "      <th>4</th>\n",
       "      <td>6872848</td>\n",
       "      <td>Britney, Nsync, Nelly, Aerosmith,Mary J Blige.</td>\n",
       "    </tr>\n",
       "    <tr>\n",
       "      <th>5</th>\n",
       "      <td>10586963</td>\n",
       "      <td>Green Day - Oasis - Eminem - Aerosmith</td>\n",
       "    </tr>\n",
       "    <tr>\n",
       "      <th>6</th>\n",
       "      <td>10028830</td>\n",
       "      <td>The Aerosmith Antology2</td>\n",
       "    </tr>\n",
       "    <tr>\n",
       "      <th>7</th>\n",
       "      <td>10300357</td>\n",
       "      <td>Run-DMC + Aerosmith</td>\n",
       "    </tr>\n",
       "    <tr>\n",
       "      <th>8</th>\n",
       "      <td>2027746</td>\n",
       "      <td>Aerosmith by MusicInter.com</td>\n",
       "    </tr>\n",
       "    <tr>\n",
       "      <th>9</th>\n",
       "      <td>1140418</td>\n",
       "      <td>[rap]Run DMC and Aerosmith</td>\n",
       "    </tr>\n",
       "    <tr>\n",
       "      <th>10</th>\n",
       "      <td>10237208</td>\n",
       "      <td>Aerosmith + Run DMC</td>\n",
       "    </tr>\n",
       "    <tr>\n",
       "      <th>11</th>\n",
       "      <td>10588537</td>\n",
       "      <td>Aerosmith, Kid Rock, &amp; Run DMC</td>\n",
       "    </tr>\n",
       "    <tr>\n",
       "      <th>12</th>\n",
       "      <td>9934757</td>\n",
       "      <td>Aerosmith - Big Ones</td>\n",
       "    </tr>\n",
       "    <tr>\n",
       "      <th>13</th>\n",
       "      <td>10437510</td>\n",
       "      <td>Green Day ft. Oasis &amp; Aerosmith</td>\n",
       "    </tr>\n",
       "    <tr>\n",
       "      <th>14</th>\n",
       "      <td>6936680</td>\n",
       "      <td>RUN DNC &amp; Aerosmith</td>\n",
       "    </tr>\n",
       "    <tr>\n",
       "      <th>15</th>\n",
       "      <td>10479781</td>\n",
       "      <td>Aerosmith Hits</td>\n",
       "    </tr>\n",
       "    <tr>\n",
       "      <th>16</th>\n",
       "      <td>10114147</td>\n",
       "      <td>Charlies Angels - Aerosmith</td>\n",
       "    </tr>\n",
       "    <tr>\n",
       "      <th>17</th>\n",
       "      <td>1262439</td>\n",
       "      <td>Kid Rock, Run DMC &amp; Aerosmith</td>\n",
       "    </tr>\n",
       "    <tr>\n",
       "      <th>18</th>\n",
       "      <td>7032554</td>\n",
       "      <td>Aerosmith &amp; Run-D.M.C.</td>\n",
       "    </tr>\n",
       "    <tr>\n",
       "      <th>19</th>\n",
       "      <td>10033592</td>\n",
       "      <td>Aerosmith?</td>\n",
       "    </tr>\n",
       "  </tbody>\n",
       "</table>\n",
       "</div>"
      ],
      "text/plain": [
       "    artistID                                            name\n",
       "0   10586006                     Dusty Springfield/Aerosmith\n",
       "1    6946007                                Aerosmith/RunDMC\n",
       "2   10475683                       Aerosmith: Just Push Play\n",
       "3    1083031                                Aerosmith/ G n R\n",
       "4    6872848  Britney, Nsync, Nelly, Aerosmith,Mary J Blige.\n",
       "5   10586963          Green Day - Oasis - Eminem - Aerosmith\n",
       "6   10028830                         The Aerosmith Antology2\n",
       "7   10300357                             Run-DMC + Aerosmith\n",
       "8    2027746                     Aerosmith by MusicInter.com\n",
       "9    1140418                      [rap]Run DMC and Aerosmith\n",
       "10  10237208                             Aerosmith + Run DMC\n",
       "11  10588537                  Aerosmith, Kid Rock, & Run DMC\n",
       "12   9934757                            Aerosmith - Big Ones\n",
       "13  10437510                 Green Day ft. Oasis & Aerosmith\n",
       "14   6936680                             RUN DNC & Aerosmith\n",
       "15  10479781                                  Aerosmith Hits\n",
       "16  10114147                     Charlies Angels - Aerosmith\n",
       "17   1262439                   Kid Rock, Run DMC & Aerosmith\n",
       "18   7032554                          Aerosmith & Run-D.M.C.\n",
       "19  10033592                                      Aerosmith?"
      ]
     },
     "metadata": {},
     "output_type": "display_data"
    },
    {
     "data": {
      "text/html": [
       "<div>\n",
       "<table border=\"1\" class=\"dataframe\">\n",
       "  <thead>\n",
       "    <tr style=\"text-align: right;\">\n",
       "      <th></th>\n",
       "      <th>artistID</th>\n",
       "      <th>name</th>\n",
       "    </tr>\n",
       "  </thead>\n",
       "  <tbody>\n",
       "    <tr>\n",
       "      <th>0</th>\n",
       "      <td>1000010</td>\n",
       "      <td>Aerosmith</td>\n",
       "    </tr>\n",
       "  </tbody>\n",
       "</table>\n",
       "</div>"
      ],
      "text/plain": [
       "   artistID       name\n",
       "0   1000010  Aerosmith"
      ]
     },
     "metadata": {},
     "output_type": "display_data"
    },
    {
     "data": {
      "text/html": [
       "<div>\n",
       "<table border=\"1\" class=\"dataframe\">\n",
       "  <thead>\n",
       "    <tr style=\"text-align: right;\">\n",
       "      <th></th>\n",
       "      <th>artistID</th>\n",
       "      <th>name</th>\n",
       "    </tr>\n",
       "  </thead>\n",
       "  <tbody>\n",
       "    <tr>\n",
       "      <th>0</th>\n",
       "      <td>2082323</td>\n",
       "      <td>01 Aerosmith</td>\n",
       "    </tr>\n",
       "  </tbody>\n",
       "</table>\n",
       "</div>"
      ],
      "text/plain": [
       "   artistID          name\n",
       "0   2082323  01 Aerosmith"
      ]
     },
     "metadata": {},
     "output_type": "display_data"
    }
   ],
   "source": [
    "\n",
    "# get artists whose name contains \"Aerosmith\"\n",
    "\n",
    "\n",
    "display(pd.DataFrame(artistDF[locate(\"Aerosmith\", artistDF.name) > 0].take(20), columns=(['artistID', 'name'])))\n",
    "\n",
    "\n",
    "# show two examples\n",
    "display(pd.DataFrame(artistDF[artistDF.artistID==1000010].take(20), columns=(['artistID', 'name'])))\n",
    "display(pd.DataFrame(artistDF[artistDF.artistID==2082323].take(20), columns=(['artistID', 'name'])))\n",
    "\n",
    "# Some are relevant to the artist since Aerosmith can have collaberated with for example run DMC.\n",
    "# Other are less relevant"
   ]
  },
  {
   "cell_type": "markdown",
   "metadata": {},
   "source": [
    "##### Q3.2 answer\n",
    "\n",
    "We see that ID 1000010 and 2082323 point to the same artist, Aerosmith. More formaly we say this because they share the same original name and the rest of the string does not match any other artist. Generalizing and looking at the 20 first rows we see that some artist containing Aerosmith is indeed a different artist or group. It is feasable that Aerosmith could have collaborated with Run DMC on an album. Some artist names imply that there is reasonable doubt about the artist being Aerosmith for example: `10033592 - Aerosmith?` where Aerosmith? could be any other artist."
   ]
  },
  {
   "cell_type": "markdown",
   "metadata": {},
   "source": [
    "To answer this question correctly, we need to use an additional dataset `artist_alias.txt` which contains the ids of mispelled artists and standard artists. The schema of the dataset consists in:\n",
    "\n",
    "```\n",
    "mispelledID ID: long int\n",
    "standard ID: long int\n",
    "```"
   ]
  },
  {
   "cell_type": "markdown",
   "metadata": {},
   "source": [
    "#### Question 3.3\n",
    "Using SparkSQL API, load the dataset from `/datasets/lastfm/artist_alias.txt` then show 5 samples."
   ]
  },
  {
   "cell_type": "code",
   "execution_count": 21,
   "metadata": {
    "collapsed": false
   },
   "outputs": [
    {
     "data": {
      "text/html": [
       "<div>\n",
       "<table border=\"1\" class=\"dataframe\">\n",
       "  <thead>\n",
       "    <tr style=\"text-align: right;\">\n",
       "      <th></th>\n",
       "      <th>misspelledArtistID</th>\n",
       "      <th>standardArtistID</th>\n",
       "    </tr>\n",
       "  </thead>\n",
       "  <tbody>\n",
       "    <tr>\n",
       "      <th>0</th>\n",
       "      <td>1092764</td>\n",
       "      <td>1000311</td>\n",
       "    </tr>\n",
       "    <tr>\n",
       "      <th>1</th>\n",
       "      <td>1095122</td>\n",
       "      <td>1000557</td>\n",
       "    </tr>\n",
       "    <tr>\n",
       "      <th>2</th>\n",
       "      <td>6708070</td>\n",
       "      <td>1007267</td>\n",
       "    </tr>\n",
       "    <tr>\n",
       "      <th>3</th>\n",
       "      <td>10088054</td>\n",
       "      <td>1042317</td>\n",
       "    </tr>\n",
       "    <tr>\n",
       "      <th>4</th>\n",
       "      <td>1195917</td>\n",
       "      <td>1042317</td>\n",
       "    </tr>\n",
       "  </tbody>\n",
       "</table>\n",
       "</div>"
      ],
      "text/plain": [
       "   misspelledArtistID  standardArtistID\n",
       "0             1092764           1000311\n",
       "1             1095122           1000557\n",
       "2             6708070           1007267\n",
       "3            10088054           1042317\n",
       "4             1195917           1042317"
      ]
     },
     "metadata": {},
     "output_type": "display_data"
    },
    {
     "data": {
      "text/html": [
       "<div>\n",
       "<table border=\"1\" class=\"dataframe\">\n",
       "  <thead>\n",
       "    <tr style=\"text-align: right;\">\n",
       "      <th></th>\n",
       "      <th>Name_x</th>\n",
       "      <th>Name_y</th>\n",
       "    </tr>\n",
       "  </thead>\n",
       "  <tbody>\n",
       "    <tr>\n",
       "      <th>0</th>\n",
       "      <td>Winwood, Steve</td>\n",
       "      <td>Steve Winwood</td>\n",
       "    </tr>\n",
       "    <tr>\n",
       "      <th>1</th>\n",
       "      <td>Faithless Feat Dido</td>\n",
       "      <td>Faithless</td>\n",
       "    </tr>\n",
       "    <tr>\n",
       "      <th>2</th>\n",
       "      <td>Faithless featuring Dido</td>\n",
       "      <td>Faithless</td>\n",
       "    </tr>\n",
       "    <tr>\n",
       "      <th>3</th>\n",
       "      <td>Faithless feat. Dido</td>\n",
       "      <td>Faithless</td>\n",
       "    </tr>\n",
       "    <tr>\n",
       "      <th>4</th>\n",
       "      <td>i-Monster</td>\n",
       "      <td>I Monster</td>\n",
       "    </tr>\n",
       "    <tr>\n",
       "      <th>5</th>\n",
       "      <td>The Deluxx Folk Implosion</td>\n",
       "      <td>Deluxx Folk Implosion</td>\n",
       "    </tr>\n",
       "    <tr>\n",
       "      <th>6</th>\n",
       "      <td>Deluxe Folk Implosion</td>\n",
       "      <td>Deluxx Folk Implosion</td>\n",
       "    </tr>\n",
       "    <tr>\n",
       "      <th>7</th>\n",
       "      <td>Deluxxe Folk Implosion</td>\n",
       "      <td>Deluxx Folk Implosion</td>\n",
       "    </tr>\n",
       "    <tr>\n",
       "      <th>8</th>\n",
       "      <td>Ueto Aya</td>\n",
       "      <td>上戸彩</td>\n",
       "    </tr>\n",
       "    <tr>\n",
       "      <th>9</th>\n",
       "      <td>Tamaki Nami</td>\n",
       "      <td>玉置成実</td>\n",
       "    </tr>\n",
       "    <tr>\n",
       "      <th>10</th>\n",
       "      <td>The Chemical Brothers/The Flaming Lips</td>\n",
       "      <td>The Chemical Brothers</td>\n",
       "    </tr>\n",
       "    <tr>\n",
       "      <th>11</th>\n",
       "      <td>Chemical Brothers feat. Flaming Lips</td>\n",
       "      <td>The Chemical Brothers</td>\n",
       "    </tr>\n",
       "    <tr>\n",
       "      <th>12</th>\n",
       "      <td>Chemical Brothers Featuring The Flaming Lips</td>\n",
       "      <td>The Chemical Brothers</td>\n",
       "    </tr>\n",
       "    <tr>\n",
       "      <th>13</th>\n",
       "      <td>Chemical Brothers ft. The Flaming Lips</td>\n",
       "      <td>The Chemical Brothers</td>\n",
       "    </tr>\n",
       "    <tr>\n",
       "      <th>14</th>\n",
       "      <td>Chemical Brothers Ft.The Flaming Lips</td>\n",
       "      <td>The Chemical Brothers</td>\n",
       "    </tr>\n",
       "    <tr>\n",
       "      <th>15</th>\n",
       "      <td>Chemical Brothers/Flaming Lips</td>\n",
       "      <td>The Chemical Brothers</td>\n",
       "    </tr>\n",
       "    <tr>\n",
       "      <th>16</th>\n",
       "      <td>Chemical Brothers/The Flaming Lips</td>\n",
       "      <td>The Chemical Brothers</td>\n",
       "    </tr>\n",
       "    <tr>\n",
       "      <th>17</th>\n",
       "      <td>Chemical Brothers feat. The Flaming Lips</td>\n",
       "      <td>The Chemical Brothers</td>\n",
       "    </tr>\n",
       "    <tr>\n",
       "      <th>18</th>\n",
       "      <td>024   GRAPEVINE</td>\n",
       "      <td>GRAPEVINE</td>\n",
       "    </tr>\n",
       "    <tr>\n",
       "      <th>19</th>\n",
       "      <td>Trevor Jones and Randy Edelman</td>\n",
       "      <td>Trevor Jones &amp; Randy Edelman</td>\n",
       "    </tr>\n",
       "  </tbody>\n",
       "</table>\n",
       "</div>"
      ],
      "text/plain": [
       "                                          Name_x                        Name_y\n",
       "0                                 Winwood, Steve                 Steve Winwood\n",
       "1                            Faithless Feat Dido                     Faithless\n",
       "2                       Faithless featuring Dido                     Faithless\n",
       "3                           Faithless feat. Dido                     Faithless\n",
       "4                                      i-Monster                     I Monster\n",
       "5                      The Deluxx Folk Implosion         Deluxx Folk Implosion\n",
       "6                          Deluxe Folk Implosion         Deluxx Folk Implosion\n",
       "7                         Deluxxe Folk Implosion         Deluxx Folk Implosion\n",
       "8                                       Ueto Aya                           上戸彩\n",
       "9                                    Tamaki Nami                          玉置成実\n",
       "10        The Chemical Brothers/The Flaming Lips         The Chemical Brothers\n",
       "11          Chemical Brothers feat. Flaming Lips         The Chemical Brothers\n",
       "12  Chemical Brothers Featuring The Flaming Lips         The Chemical Brothers\n",
       "13        Chemical Brothers ft. The Flaming Lips         The Chemical Brothers\n",
       "14         Chemical Brothers Ft.The Flaming Lips         The Chemical Brothers\n",
       "15                Chemical Brothers/Flaming Lips         The Chemical Brothers\n",
       "16            Chemical Brothers/The Flaming Lips         The Chemical Brothers\n",
       "17      Chemical Brothers feat. The Flaming Lips         The Chemical Brothers\n",
       "18                               024   GRAPEVINE                     GRAPEVINE\n",
       "19                Trevor Jones and Randy Edelman  Trevor Jones & Randy Edelman"
      ]
     },
     "metadata": {},
     "output_type": "display_data"
    }
   ],
   "source": [
    "customSchemaArtistAlias = StructType([ \\\n",
    "    StructField('misspelledArtistID', LongType(), True ), \\\n",
    "    StructField('standardArtistID', LongType(), True)])\n",
    "\n",
    "\n",
    "artistAliasDF = sqlContext.read \\\n",
    "    .format('com.databricks.spark.csv') \\\n",
    "    .options(header='false', delimiter='\\\\t') \\\n",
    "    .load(base + 'artist_alias.txt', schema = customSchemaArtistAlias)\n",
    "\n",
    "display(pd.DataFrame(artistAliasDF.take(5), columns=(['misspelledArtistID', 'standardArtistID'])))\n",
    "\n",
    "# We want the string value of misspelled artist mapped to their actual name.\n",
    "artistNameAliasDF1 = pd.merge(\n",
    "    pd.DataFrame(artistAliasDF.take(20), columns=(['artistID', 'standardArtistID'])),\n",
    "    pd.DataFrame(artistDF.collect(), columns=(['artistID', 'Name'])),\n",
    "    on='artistID',\n",
    "    how='inner'\n",
    ")\n",
    "artistNameAliasDF2 = pd.merge(\n",
    "    artistNameAliasDF1,\n",
    "    pd.DataFrame(artistDF.collect(), columns=(['standardArtistID', 'Name'])),\n",
    "    on='standardArtistID',\n",
    "    how='inner'\n",
    ")\n",
    "display(artistNameAliasDF2[['Name_x', 'Name_y']])"
   ]
  },
  {
   "cell_type": "markdown",
   "metadata": {},
   "source": [
    "##### Insights of table above\n",
    "The table shows the actual textual representation of the misspelled artist mapped to their actual name. Here we can see how several compositions with the actual artist and others are simplified to the artist standard name ruling out collaborators. "
   ]
  },
  {
   "cell_type": "markdown",
   "metadata": {},
   "source": [
    "#### Question 3.4\n",
    "Verify the answer of question 3.2 (\"Are artists that have ID equal to `1000010` and `2082323` the same ?\") by finding the standard ids corresponding to the mispelled ids `1000010` and `2082323` respectively."
   ]
  },
  {
   "cell_type": "code",
   "execution_count": 79,
   "metadata": {
    "collapsed": false
   },
   "outputs": [
    {
     "data": {
      "text/html": [
       "<div>\n",
       "<table border=\"1\" class=\"dataframe\">\n",
       "  <thead>\n",
       "    <tr style=\"text-align: right;\">\n",
       "      <th></th>\n",
       "      <th>misspelledArtistID</th>\n",
       "      <th>standardArtistID</th>\n",
       "    </tr>\n",
       "  </thead>\n",
       "  <tbody>\n",
       "  </tbody>\n",
       "</table>\n",
       "</div>"
      ],
      "text/plain": [
       "Empty DataFrame\n",
       "Columns: [misspelledArtistID, standardArtistID]\n",
       "Index: []"
      ]
     },
     "metadata": {},
     "output_type": "display_data"
    },
    {
     "data": {
      "text/html": [
       "<div>\n",
       "<table border=\"1\" class=\"dataframe\">\n",
       "  <thead>\n",
       "    <tr style=\"text-align: right;\">\n",
       "      <th></th>\n",
       "      <th>misspelledArtistID</th>\n",
       "      <th>standardArtistID</th>\n",
       "    </tr>\n",
       "  </thead>\n",
       "  <tbody>\n",
       "    <tr>\n",
       "      <th>0</th>\n",
       "      <td>2082323</td>\n",
       "      <td>1000010</td>\n",
       "    </tr>\n",
       "  </tbody>\n",
       "</table>\n",
       "</div>"
      ],
      "text/plain": [
       "   misspelledArtistID  standardArtistID\n",
       "0             2082323           1000010"
      ]
     },
     "metadata": {},
     "output_type": "display_data"
    }
   ],
   "source": [
    "\n",
    "display(pd.DataFrame(artistAliasDF[artistAliasDF.misspelledArtistID==1000010].take(1), columns=(['misspelledArtistID', 'standardArtistID'])))\n",
    "display(pd.DataFrame(artistAliasDF[artistAliasDF.misspelledArtistID==2082323].take(1), columns=(['misspelledArtistID', 'standardArtistID'])))\n"
   ]
  },
  {
   "cell_type": "markdown",
   "metadata": {},
   "source": [
    "#### Q3.4 Answer\n",
    "The table for ID 1000010 is empty which means that this is not a misspelled artist ID but the actual standard ID of Aerosmith. ID 2082323 is a misspelled ID which maps to the correct (standard) ID 1000010."
   ]
  },
  {
   "cell_type": "markdown",
   "metadata": {},
   "source": [
    "### Question 4\n",
    "\n",
    "The mispelled or nonstandard information about artist make our results in the previous queries a bit \"sloppy\". To overcome this problem, we can replace all mispelled artist ids by the corresponding standard ids and re-compute the basic descriptive statistics on the \"amended\" data.\n",
    "First, we construct a \"dictionary\" that maps non-standard ids to a standard ones. Then this \"dictionary\" will be used to replace the mispelled artists.\n",
    "\n",
    "#### Question 4.1\n",
    "From data in the dataframe loaded from `/datasets/lastfm/artist_alias.txt`, construct a dictionary that maps each non-standard id to its standard id.\n",
    "\n",
    "HINT: Instead of using function `collect`, we can use `collectAsMap` to convert the collected data to a dictionary inline."
   ]
  },
  {
   "cell_type": "code",
   "execution_count": 23,
   "metadata": {
    "collapsed": false
   },
   "outputs": [],
   "source": [
    "artistAlias = artistAliasDF.rdd.map(lambda row: (row[0],\\\n",
    "                     row[1])).collectAsMap()"
   ]
  },
  {
   "cell_type": "markdown",
   "metadata": {},
   "source": [
    "#### Question 4.2\n",
    "Using the constructed dictionary in question 4.1, replace the non-standard artist ids in the dataframe that was loaded from `/datasets/lastfm/user_artist_data.txt` by the corresponding standard ids then show 5 samples.\n",
    "\n",
    "**NOTE 1**: If an id doesn't exist in the dictionary as a mispelled id, it is really a standard id.\n",
    "\n",
    "\n",
    "Using funtion `map` on Spark Dataframe will give us an RDD. We can convert this RDD back to Dataframe by using `sqlContext.createDataFrame(rdd_name, sql_schema)`\n",
    "\n",
    "\n",
    "**NOTE 2**: be careful! you need to be able to verify that you indeed solved the problem of having bad artist IDs. In principle, for the new data to be correct, we should to have duplicate pairs (user, artist), potentially with different play counts, right? In answering the question, please **show** that you indeed fixed the problem. "
   ]
  },
  {
   "cell_type": "code",
   "execution_count": 81,
   "metadata": {
    "collapsed": false
   },
   "outputs": [
    {
     "name": "stdout",
     "output_type": "stream",
     "text": [
      "+-------+--------+---------+\n",
      "| userID|artistID|playCount|\n",
      "+-------+--------+---------+\n",
      "|1000002|       1|       55|\n",
      "|1000002| 1000006|       33|\n",
      "|1000002| 1000007|        8|\n",
      "|1000002| 1000009|      144|\n",
      "|1000002| 1000010|      314|\n",
      "+-------+--------+---------+\n",
      "only showing top 5 rows\n",
      "\n",
      "The script takes 1.114965 seconds\n",
      "Searching the Duplicate artist ID = 10088054 in the original dataset:\n",
      "+--------+--------------+\n",
      "|artistID|sum(playCount)|\n",
      "+--------+--------------+\n",
      "|10088054|             1|\n",
      "+--------+--------------+\n",
      "\n",
      "Searching the Standard artist ID 1042317 in the original dataset:\n",
      "+--------+--------------+\n",
      "|artistID|sum(playCount)|\n",
      "+--------+--------------+\n",
      "| 1042317|           497|\n",
      "+--------+--------------+\n",
      "\n",
      "Searching the Duplicate artist ID = 10088054 in the NEW dataset:\n",
      "+--------+--------------+\n",
      "|artistID|sum(playCount)|\n",
      "+--------+--------------+\n",
      "+--------+--------------+\n",
      "\n",
      "Searching the Duplicate artist ID = 1042317 in the NEW dataset:\n",
      "+--------+--------------+\n",
      "|artistID|sum(playCount)|\n",
      "+--------+--------------+\n",
      "| 1042317|           515|\n",
      "+--------+--------------+\n",
      "\n"
     ]
    }
   ],
   "source": [
    "from time import time\n",
    "\n",
    "def replaceMispelledIDs(fields):\n",
    "    finalID = artistAlias.get(fields[1], fields[1])\n",
    "    return (fields[0], finalID, fields[2])\n",
    "\n",
    "t0 = time()\n",
    "\n",
    "newUserArtistDF = sqlContext.createDataFrame(\n",
    "    userArtistDF.rdd.map( lambda x: replaceMispelledIDs(x) ), \n",
    "    userArtistDataSchema\n",
    ")\n",
    "\n",
    "\n",
    "#userArtistDF.show(50)\n",
    "newUserArtistDF.show(5)\n",
    "\n",
    "#newUserArtistPD = pd.DataFrame(newUserArtistDF.collect(), collumns=(['userID', 'artistID', 'playCount']))\n",
    "#print(newUserArtistPD[newUserArtistPD.playCount==1].count())\n",
    "t1 = time()\n",
    "\n",
    "print('The script takes %f seconds' %(t1-t0))\n",
    "\n",
    "newArtistPopularity = newUserArtistDF.groupBy('artistID').sum('playCount').cache()\n",
    "\n",
    "\n",
    "# Testing with new\n",
    "print('Searching the Duplicate artist ID = 10088054 in the original dataset:')\n",
    "artistPopularity[artistPopularity.artistID == 10088054 ].show()\n",
    "print('Searching the Standard artist ID 1042317 in the original dataset:')\n",
    "artistPopularity[artistPopularity.artistID == 1042317 ].show()\n",
    "print('Searching the Duplicate artist ID = 10088054 in the NEW dataset:')\n",
    "newArtistPopularity[newArtistPopularity.artistID == 10088054 ].show()\n",
    "print('Searching the Duplicate artist ID = 1042317 in the NEW dataset:')\n",
    "newArtistPopularity[newArtistPopularity.artistID == 1042317 ].show()\n"
   ]
  },
  {
   "cell_type": "markdown",
   "metadata": {},
   "source": [
    "##### Q4.2 Answer\n",
    "As we can see, one of the first hits in the [misspelledID, standardID] table has been updated: [10088054, 1042317] . The count of the standard ID 1042317 has been increased in 18 as a result of the correction of misspelled artistIDs"
   ]
  },
  {
   "cell_type": "code",
   "execution_count": 25,
   "metadata": {
    "collapsed": false
   },
   "outputs": [
    {
     "name": "stdout",
     "output_type": "stream",
     "text": [
      "Number of artists with only one play:  504916\n",
      "Number of artists:  1568126\n",
      "Percentage of artists with a single count:\n",
      "32.1986881156\n"
     ]
    }
   ],
   "source": [
    "pandapanda = pd.DataFrame(newArtistPopularity.collect(), columns=(['artistID', 'playCount']))\n",
    "ones = pandapanda[pandapanda.playCount==1]\n",
    "print('Number of artists with only one play: ', len(ones))\n",
    "print('Number of artists: ', len(pandapanda))\n",
    "print('Percentage of artists with a single count:')\n",
    "print(ones.artistID.count()/pandapanda.artistID.count()*100)"
   ]
  },
  {
   "cell_type": "markdown",
   "metadata": {},
   "source": [
    "np.arange returns evenly spaced values inside given range. Why do we bother dividing Y by Y? To get a float\n",
    "\n",
    "As we can see, there is still a very high number of artistIDs with a single play."
   ]
  },
  {
   "cell_type": "markdown",
   "metadata": {},
   "source": [
    "#### Question 4.3\n",
    "Spark actions are executed through a set of stages, separated by distributed \"shuffle\" operations. Spark can be instructed to **automatically and efficiently** broadcast common data needed by tasks within **each stage**. The data broadcasted this way is cached in **serialized form** and deserialized before running each task. \n",
    "\n",
    "We can thus improve our answer to question 4.2: we can reduce the communication cost by shipping the \"dictionary\" in a more efficient way by using `broadcast variable`. Broadcast variables allow the programmer to keep a read-only variable cached on **each machine** rather than shipping a copy of it with tasks. They are cached in deserialized form. They can be used, for example, to give every node a copy of a large input dataset in an efficient manner. \n",
    "\n",
    "The broadcast of variable `v` can be created by `bV = sc.broadcast(v)`. Then value of this broadcast variable can be access via `bV.value`\n",
    "\n",
    "To question is then: using a broadcast variable, modify the script in question 4.2 to get better performance in terms of running time.\n"
   ]
  },
  {
   "cell_type": "code",
   "execution_count": 83,
   "metadata": {
    "collapsed": false
   },
   "outputs": [
    {
     "data": {
      "text/html": [
       "<div>\n",
       "<table border=\"1\" class=\"dataframe\">\n",
       "  <thead>\n",
       "    <tr style=\"text-align: right;\">\n",
       "      <th></th>\n",
       "      <th>userID</th>\n",
       "      <th>artistID</th>\n",
       "      <th>playCount</th>\n",
       "    </tr>\n",
       "  </thead>\n",
       "  <tbody>\n",
       "    <tr>\n",
       "      <th>0</th>\n",
       "      <td>1000002</td>\n",
       "      <td>1</td>\n",
       "      <td>55</td>\n",
       "    </tr>\n",
       "    <tr>\n",
       "      <th>1</th>\n",
       "      <td>1000002</td>\n",
       "      <td>1000006</td>\n",
       "      <td>33</td>\n",
       "    </tr>\n",
       "    <tr>\n",
       "      <th>2</th>\n",
       "      <td>1000002</td>\n",
       "      <td>1000007</td>\n",
       "      <td>8</td>\n",
       "    </tr>\n",
       "    <tr>\n",
       "      <th>3</th>\n",
       "      <td>1000002</td>\n",
       "      <td>1000009</td>\n",
       "      <td>144</td>\n",
       "    </tr>\n",
       "    <tr>\n",
       "      <th>4</th>\n",
       "      <td>1000002</td>\n",
       "      <td>1000010</td>\n",
       "      <td>314</td>\n",
       "    </tr>\n",
       "  </tbody>\n",
       "</table>\n",
       "</div>"
      ],
      "text/plain": [
       "    userID  artistID  playCount\n",
       "0  1000002         1         55\n",
       "1  1000002   1000006         33\n",
       "2  1000002   1000007          8\n",
       "3  1000002   1000009        144\n",
       "4  1000002   1000010        314"
      ]
     },
     "metadata": {},
     "output_type": "display_data"
    },
    {
     "name": "stdout",
     "output_type": "stream",
     "text": [
      "The script takes 0.264250 seconds\n"
     ]
    }
   ],
   "source": [
    "from time import time\n",
    "\n",
    "bArtistAlias = sc.broadcast(artistAlias)\n",
    "\n",
    "def replaceMispelledIDs(fields):\n",
    "    finalID = bArtistAlias.value.get(fields[1] , fields[1])\n",
    "    return (fields[0] , finalID, fields[2])\n",
    "\n",
    "t0 = time()\n",
    "\n",
    "newUserArtistDF = sqlContext.createDataFrame(\n",
    "    userArtistDF.rdd.map(replaceMispelledIDs), \n",
    "    userArtistDataSchema\n",
    ")\n",
    "\n",
    "display(pd.DataFrame(newUserArtistDF.take(5), columns=(['userID', 'artistID', 'playCount'])))\n",
    "\n",
    "t1 = time()\n",
    "\n",
    "print('The script takes %f seconds' %(t1-t0))\n",
    "newUserArtistDF = newUserArtistDF.cache()\n"
   ]
  },
  {
   "cell_type": "markdown",
   "metadata": {},
   "source": [
    "Although having some advantages, explicitly creating broadcast variables is only useful when tasks across multiple stages need the same data or when caching the data in deserialized form is important."
   ]
  },
  {
   "cell_type": "markdown",
   "metadata": {},
   "source": [
    "### Question 5\n",
    "\n",
    "Well, our data frame contains clean and \"standard\" data. We can use it to redo previous statistic queries.\n",
    "\n",
    "#### Question 5.1\n",
    "\n",
    "How many unique artists? Compare with the result when using old data."
   ]
  },
  {
   "cell_type": "code",
   "execution_count": 27,
   "metadata": {
    "collapsed": false
   },
   "outputs": [
    {
     "name": "stdout",
     "output_type": "stream",
     "text": [
      "Total n. of artists:  1568126\n"
     ]
    }
   ],
   "source": [
    "\n",
    "uniqueArtists = newUserArtistDF.select('artistID').distinct().count()\n",
    "\n",
    "print(\"Total n. of artists: \", uniqueArtists)\n"
   ]
  },
  {
   "cell_type": "markdown",
   "metadata": {},
   "source": [
    "##### Q5.1 Answer\n",
    "The original number of artists was **1631028**, showing that the actual value of **1568126** improves the former value by renaming misspelled artistIDs in **62092** rows of data."
   ]
  },
  {
   "cell_type": "markdown",
   "metadata": {},
   "source": [
    "#### Question 5.2\n",
    "\n",
    "Who are the top-10 artistis?\n",
    "  * In terms of absolute play counts\n",
    "  * In terms of \"audience size\", that is, how many users listened to one of their track at least once\n",
    "  \n",
    "Plot the results, and explain the figures you obtain."
   ]
  },
  {
   "cell_type": "code",
   "execution_count": 28,
   "metadata": {
    "collapsed": false
   },
   "outputs": [
    {
     "data": {
      "image/png": "[encoded data removed]",
      "text/plain": [
       "<matplotlib.figure.Figure at 0x7f5e5fe57b38>"
      ]
     },
     "metadata": {},
     "output_type": "display_data"
    }
   ],
   "source": [
    "# calculate top-10 artists in term of play counts\n",
    "top10ArtistsPC = newUserArtistDF.groupBy('artistID').sum('playCount').orderBy('sum(playCount)', ascending=0).take(10)\n",
    "\n",
    "y_pos = range(len(top10ArtistsPC))\n",
    "pdf = pd.DataFrame(data=top10ArtistsPC)\n",
    "top10ArtistNames = [ artistPD_DF[artistPD_DF.artistID==x]['name'].iloc[0] for x in pdf[0]]\n",
    "\n",
    "plt.barh(y_pos, pdf[1][::-1], align='center', alpha=0.8)\n",
    "plt.yticks(y_pos[::-1], top10ArtistNames)\n",
    "plt.xlabel('Play Count')\n",
    "plt.ylabel('Artist')\n",
    "plt.title('Top-10 Artist ID per play counts')\n",
    "plt.show()\n"
   ]
  },
  {
   "cell_type": "code",
   "execution_count": 62,
   "metadata": {
    "collapsed": false
   },
   "outputs": [
    {
     "data": {
      "image/png": "[encoded data removed]",
      "text/plain": [
       "<matplotlib.figure.Figure at 0x7f5e74b41908>"
      ]
     },
     "metadata": {},
     "output_type": "display_data"
    }
   ],
   "source": [
    "top10ArtistsUsersC = newUserArtistDF.groupBy('artistID').agg(countDistinct(\"userID\"))\\\n",
    "    .withColumnRenamed('count(DISTINCT userID)', 'nUsers').orderBy('nUsers', ascending=0).take(10)\n",
    "y_pos = range(len(top10ArtistsUsersC))\n",
    "pdf = pd.DataFrame(data=top10ArtistsUsersC)\n",
    "top10ArtistNames = [ artistPD_DF[artistPD_DF.artistID==x]['name'].iloc[0] for x in pdf[0]]\n",
    "\n",
    "plt.barh(y_pos, pdf[1][::-1], align='center', alpha=0.8)\n",
    "plt.yticks(y_pos[::-1],top10ArtistNames)\n",
    "plt.xlabel('User Count')\n",
    "plt.ylabel('Artist')\n",
    "plt.title('Top-10 Artist ID per User counts')\n",
    "plt.show()"
   ]
  },
  {
   "cell_type": "markdown",
   "metadata": {},
   "source": [
    "##### Q5.2 Insights\n",
    "Funny enough, the 10th most popular artist based on user counts is [unknown], which must be the default for when a song was uploaded with no artist name."
   ]
  },
  {
   "cell_type": "markdown",
   "metadata": {},
   "source": [
    "#### Question 5.3\n",
    "\n",
    "Who are the top-10 users?\n",
    "  * In terms of absolute play counts\n",
    "  * In terms of \"curiosity\", that is, how many different artists they listened to\n",
    "\n",
    "Plot the results"
   ]
  },
  {
   "cell_type": "code",
   "execution_count": 63,
   "metadata": {
    "collapsed": false
   },
   "outputs": [
    {
     "data": {
      "image/png": "[encoded data removed]",
      "text/plain": [
       "<matplotlib.figure.Figure at 0x7f5e6ccc5ef0>"
      ]
     },
     "metadata": {},
     "output_type": "display_data"
    }
   ],
   "source": [
    "\n",
    "# calculate top 10 users interm of play counts\n",
    "top10UsersByPlayCount = newUserArtistDF.groupBy('userID').sum('playCount').orderBy('sum(playCount)', ascending=0).take(10)\n",
    "\n",
    "y_pos = range(len(top10UsersByPlayCount))\n",
    "pdf = pd.DataFrame(data=top10UsersByPlayCount)\n",
    "\n",
    "plt.barh(y_pos, pdf[1][::-1], align='center', alpha=0.8)\n",
    "plt.yticks(y_pos, pdf[0][::-1])\n",
    "plt.xlabel('Play Count')\n",
    "plt.ylabel('User')\n",
    "plt.title('Top-10 Users ID per play counts')\n",
    "plt.show()"
   ]
  },
  {
   "cell_type": "code",
   "execution_count": 65,
   "metadata": {
    "collapsed": false
   },
   "outputs": [
    {
     "data": {
      "image/png": "[encoded data removed]",
      "text/plain": [
       "<matplotlib.figure.Figure at 0x7f5e79d666a0>"
      ]
     },
     "metadata": {},
     "output_type": "display_data"
    }
   ],
   "source": [
    "\n",
    "# calculate top 10 users interm of curiosity\n",
    "top10UsersByCuriosity = newUserArtistDF.groupBy('userID').count().orderBy('count', ascending=0).take(10)\n",
    "\n",
    "y_pos = range(len(top10UsersByCuriosity))\n",
    "pdf = pd.DataFrame(data=top10UsersByCuriosity)\n",
    "plt.barh(y_pos, pdf[1][::-1], align='center', alpha=0.8)\n",
    "plt.yticks(y_pos, pdf[0][::-1])\n",
    "plt.xlabel('Distinct Artist count')\n",
    "plt.ylabel('User')\n",
    "plt.title(\"Top 10 userIDs per artist count\")\n",
    "plt.show()\n"
   ]
  },
  {
   "cell_type": "markdown",
   "metadata": {},
   "source": [
    "# 2. Build a statistical models to make recommendations\n",
    "\n",
    "## 2.1 Introduction to recommender systems\n",
    "\n",
    "In a recommendation-system application there are two classes of entities, which we shall refer to as `users` and `items`. Users have preferences for certain items, and these preferences must be inferred from the data. The data itself is represented as a `preference matrix` $A$, giving for each user-item pair, a value that represents what is known about the degree of preference of that user for that item. The table below is an example for a `preference matrix` of 5 users and `k` items. The `preference matrix` is also known as `utility matrix`.\n",
    "\n",
    "| | IT1 | IT2 | IT3 | ... | ITk |\n",
    "|---|---|---|---|---|---|\n",
    "| U1 | 1 |  | 5 | ... | 3 |\n",
    "| U2 |  | 2 |  | ... | 2 |\n",
    "| U3 | 5 |  | 3 | ... |  |\n",
    "| U4 | 3 | 3 |  | ... | 4 |\n",
    "| U5 |  | 1 |  | ... | ... |\n",
    "\n",
    "The value of row i, column j expresses how much does user `i` like item `j`. The values are often the rating scores of users for items. An unknown value implies that we have no explicit information about the user's preference for the item. The goal of a recommendation system is to predict \"the blanks\" in the `preference matrix`. For example, assume that the rating score is from 1 (dislike) to 5 (love), would user `U5` like `IT3` ? We have two approaches:\n",
    "\n",
    "* Designing our recommendation system to take into account properties of items such as brand, category, price... or even the similarity of their names. We can denote the similarity of items `IT2` and `IT3`, and then conclude that because user `U5` did not like `IT2`, they were unlikely to enjoy SW2 either.\n",
    "\n",
    "* We might observe that the people who rated both `IT2` and `IT3` tended to give them similar ratings. Thus, we could conclude that user `U5` would also give `IT3` a low rating, similar to `U5`'s rating of `IT2`\n",
    "\n",
    "It is not necessary to predict every blank entry in a `utility matrix`. Rather, it is only necessary to discover some entries in each row that are likely to be high. In most applications, the recommendation system does not oﬀer users a ranking of all items, but rather suggests a few that the user should value highly. It may not even be necessary to ﬁnd all items with the highest expected ratings, but only to ﬁnd a large subset of those with the highest ratings.\n",
    "\n",
    "\n",
    "## 2.2 Families of recommender systems\n",
    "\n",
    "In general, recommender systems can be categorized into two groups:\n",
    "\n",
    "* **Content-Based** systems focus on properties of items. Similarity of items is determined by measuring the similarity in their properties.\n",
    "\n",
    "* **Collaborative-Filtering** systems focus on the relationship between users and items. Similarity of items is determined by the similarity of the ratings of those items by the users who have rated both items.\n",
    "\n",
    "In the usecase of this notebook, artists take the role of `items`, and `users` keep the same role as `users`.\n",
    "Since we have no information about `artists`, except their names, we cannot build a `content-based` recommender system.\n",
    "\n",
    "Therefore, in the rest of this notebook, we only focus on `Collaborative-Filtering` algorithms.\n",
    "\n",
    "## 2.3 Collaborative-Filtering \n",
    "In this section, we study a member of a broad class of algorithms called `latent-factor` models. They try to explain observed interactions between large numbers of users and products through a relatively small number of unobserved, underlying reasons. It is analogous to explaining why millions of people buy a particular few of thousands of possible albums by describing users and albums in terms of tastes for perhaps tens of genres, tastes which are **not directly observable or given** as data. \n",
    "\n",
    "First, we formulate the learning problem as a matrix completion problem. Then, we will use a type of `matrix factorization` model to \"fill in\" the blanks.  We are given implicit ratings that users have given certain items (that is, the number of times they played a particular artist) and our goal is to predict their ratings for the rest of the items. Formally, if there are $n$ users and $m$ items, we are given an $n \\times m$ matrix $R$ in which the generic entry $(u, i)$ represents the rating for item $i$ by user $u$. **Matrix $R$ has many missing entries indicating unobserved ratings, and our task is to estimate these unobserved ratings**.\n",
    "\n",
    "A popular approach to the matrix completion problem is **matrix factorization**, where we want to \"summarize\" users and items with their **latent factors**.\n",
    "\n",
    "### 2.3.1 Basic idea and an example of Matrix Factorization\n",
    "For example, given a preference matrix 5x5 as below, we want to approximate this matrix into the product of two smaller matrixes $X$ and $Y$ .\n",
    "\n",
    "$$\n",
    "M = \n",
    "\\begin{bmatrix}\n",
    " 5 & 2 & 4 & 4 & 3 \\\\\n",
    " 3 & 1 & 2 & 4 & 1 \\\\\n",
    " 2 &  & 3 & 1 & 4 \\\\\n",
    " 2 & 5 & 4 & 3 & 5 \\\\\n",
    " 4 & 4 & 5 & 4 &  \\\\\n",
    "\\end{bmatrix}\n",
    "\\approx M^\\prime =\n",
    "\\begin{bmatrix}\n",
    " x_{11} & x_{12} \\\\\n",
    " x_{21} & x_{22} \\\\\n",
    " x_{31} & x_{32} \\\\\n",
    " x_{41} & x_{42} \\\\\n",
    " x_{51} & x_{52} \\\\\n",
    "\\end{bmatrix}\n",
    "\\times\n",
    "\\begin{bmatrix}\n",
    " y_{11} & y_{12} & y_{13} & y_{14} & y_{15} \\\\\n",
    " y_{21} & y_{22} & y_{23} & y_{24} & y_{25} \\\\\n",
    "\\end{bmatrix}\n",
    "$$\n",
    "\n",
    "$M^\\prime$ is an approximation that is as close to A as possible. To calculate how far from $M$ $M^\\prime$ is, we often calculate the sum of squared distances of non-empty elements in $M$ and the corresponding elements in $M^\\prime$.\n",
    "In this way, for $M^\\prime$, besides the approximated elements in $M$, we also have the non-observed elements. Therefore, to see how much does user `i` like item `j`, we simply pick up the value of $M^\\prime_{i,j}$.\n",
    "\n",
    "The challenge is how to calculate $X$ and $Y$. The bad news is that this can't be solved directly for both the best $X$ and best $Y$ at the same time. Fortunately, if $Y$ is known, we can calculate the best of $X$, and vice versa. It means from the initial values of $X$ and $Y$ in the beginning, we calculate best $X$ according to $Y$, and then calculate the best $Y$ according to the new $X$. This process is repeated until the distance from $XY$ to $M$ is converged. It's simple, right ?\n",
    "\n",
    "Let's take an example. To compute the approximation for the above 5x5 matrix $M$, first, we init the value of $X$ and $Y$ as below.\n",
    "\n",
    "$$\n",
    "M^\\prime = X \\times Y =\n",
    "\\begin{bmatrix}\n",
    " 1 & 1 \\\\\n",
    " 1 & 1 \\\\\n",
    " 1 & 1 \\\\\n",
    " 1 & 1 \\\\\n",
    " 1 & 1 \\\\\n",
    "\\end{bmatrix}\n",
    "\\times\n",
    "\\begin{bmatrix}\n",
    " 1 & 1 & 1 & 1 & 1 \\\\\n",
    " 1 & 1 & 1 & 1 & 1 \\\\\n",
    "\\end{bmatrix}\n",
    "=\n",
    "\\begin{bmatrix}\n",
    " 2 & 2 & 2 & 2 & 2 \\\\\n",
    " 2 & 2 & 2 & 2 & 2 \\\\\n",
    " 2 & 2 & 2 & 2 & 2 \\\\\n",
    " 2 & 2 & 2 & 2 & 2 \\\\\n",
    " 2 & 2 & 2 & 2 & 2 \\\\\n",
    "\\end{bmatrix}\n",
    "$$\n",
    "\n",
    "With the initial iteration, we calculate the the Root-Mean-Square Error from $XY$ to $M$.\n",
    "\n",
    "Consider the ﬁrst rows of $M$ and $XY$ . We subtract the first row from $XY$ from the entries in the ﬁrst row of $M$, to get $3,0,2,2,1$. We square and sum these to get $18$. \n",
    "\n",
    "In the second row, we do the same to get $1,−1,0,2,−1$, square and sum to get $7$. \n",
    "\n",
    "In the third row, the second column is blank, so that entry is ignored when computing the RMSE. The diﬀerences are $0,1,−1,2$ and the sum of squares is $6$. \n",
    "\n",
    "For the fourth row, the diﬀerences are $0,3,2,1,3$ and the sum of squares is $23$. \n",
    "\n",
    "The ﬁfth row has a blank entry in the last column, so the diﬀerences are $2,2,3,2$ and the sum of squares is $21$. \n",
    "\n",
    "When we sum the sums from each of the ﬁve rows, we get $18+7+6+23+21 = 75$. So, $RMSE=\\sqrt{75/23}=1.806$ where $23$ is the number of non-empty values in $M$.\n",
    "\n",
    "Next, with the given value of $Y$, we calculate $X$ by finding the best value for $X_{11}$.\n",
    "\n",
    "$$\n",
    "M^\\prime = X \\times Y =\n",
    "\\begin{bmatrix}\n",
    " x & 1 \\\\\n",
    " 1 & 1 \\\\\n",
    " 1 & 1 \\\\\n",
    " 1 & 1 \\\\\n",
    " 1 & 1 \\\\\n",
    "\\end{bmatrix}\n",
    "\\times\n",
    "\\begin{bmatrix}\n",
    " 1 & 1 & 1 & 1 & 1 \\\\\n",
    " 1 & 1 & 1 & 1 & 1 \\\\\n",
    "\\end{bmatrix}\n",
    "=\n",
    "\\begin{bmatrix}\n",
    " x+1 & x+1 & x+1 & x+1 & x+1 \\\\\n",
    " 2 & 2 & 2 & 2 & 2 \\\\\n",
    " 2 & 2 & 2 & 2 & 2 \\\\\n",
    " 2 & 2 & 2 & 2 & 2 \\\\\n",
    " 2 & 2 & 2 & 2 & 2 \\\\\n",
    "\\end{bmatrix}\n",
    "$$\n",
    "\n",
    "Now, to minimize the $RMSE$  we minimize the difference of the first rows $(5−(x+1))^2 + (2−(x+1))^2 + (4−(x+1))^2 + (4−(x+1))^2 + (3−(x+1))^2$. By  taking the derivative and set that equal to 0, we pick $x=2.6$\n",
    "\n",
    "Given the new value of $X$, we can calculate the best value for $Y$.\n",
    "\n",
    "$$\n",
    "M^\\prime = X \\times Y =\n",
    "\\begin{bmatrix}\n",
    " 2.6 & 1 \\\\\n",
    " 1 & 1 \\\\\n",
    " 1 & 1 \\\\\n",
    " 1 & 1 \\\\\n",
    " 1 & 1 \\\\\n",
    "\\end{bmatrix}\n",
    "\\times\n",
    "\\begin{bmatrix}\n",
    " y & 1 & 1 & 1 & 1 \\\\\n",
    " 1 & 1 & 1 & 1 & 1 \\\\\n",
    "\\end{bmatrix}\n",
    "=\n",
    "\\begin{bmatrix}\n",
    " 3.6 & 3.6 & 3.6 & 3.6 & 3.6 \\\\\n",
    " 2 & 2 & 2 & 2 & 2 \\\\\n",
    " 2 & 2 & 2 & 2 & 2 \\\\\n",
    " 2 & 2 & 2 & 2 & 2 \\\\\n",
    " 2 & 2 & 2 & 2 & 2 \\\\\n",
    "\\end{bmatrix}\n",
    "$$\n",
    "\n",
    "By doing the same process as before, we can pick value for $y=1.617$. After that, we can check if the $RMSE$ is not converged, we continue to update $X$ by $Y$ and vice versa. In this example, for simple, we only update one element of each matrix in each iteration. In practice, we can update a full row or full matrix at once.\n"
   ]
  },
  {
   "cell_type": "markdown",
   "metadata": {},
   "source": [
    "Now we have some valuable information about the data. It's the time to study how to build a statistical models."
   ]
  },
  {
   "cell_type": "markdown",
   "metadata": {},
   "source": [
    "### 2.3.2 Matrix Factorization: Objective and ALS Algorithm on a Single Machine\n",
    "\n",
    "More formally, in general, we select $k$ latent features, and describe each user $u$ with a $k-$dimensional vector $x_u$, and each item $i$ with a $k-$dimensional vector $y_i$.\n",
    "\n",
    "Then, to predict user $u$'s rating for item $i$, we do as follows: $ r_{ui} \\approx x_{u}^{T}y_i$.\n",
    "\n",
    "This can be put, more elegantly, in a matrix form. Let $x_1, \\cdots x_n \\in \\mathbb{R}^k$ be the factors for the users, and $y_1, \\cdots y_m \\in \\mathbb{R}^k$ the factors for the items. The $k \\times n$ user matrix $X$ and the $k \\times m$ item matrix $Y$ are then defined by:\n",
    "\n",
    "$$\n",
    "X = \n",
    "\\begin{bmatrix}\n",
    " |   &         & |  \\\\\n",
    "x_1  &  \\cdots & x_n\\\\\n",
    " |   &         & |  \\\\\n",
    "\\end{bmatrix}\n",
    "$$\n",
    "\n",
    "$$\n",
    "Y = \n",
    "\\begin{bmatrix}\n",
    " |   &         & |  \\\\\n",
    "y_1  &  \\cdots & y_i\\\\\n",
    " |   &         & |  \\\\\n",
    "\\end{bmatrix}\n",
    "$$\n",
    "\n",
    "Our goal is to estimate the complete ratings matrix $R \\approx X^{T} Y$. We can formulate this problem as an optimization problem in which we aim to minimize an objective function and find optimal $X$ and $Y$ . In particular, we aim to minimize the least squares error of the observed ratings (and regularize):\n",
    "\n",
    "$$\n",
    "\\min_{X,Y} \\sum_{r_{ui} \\text{observed}}(r_{ui} - x_{u}^{T}y_i)^2 + \\lambda \\left( \\sum_{u} \\|x_u\\|^2 + \\sum_{i} \\|y_i\\|^2 \\right) \n",
    "$$\n",
    "\n",
    "Notice that this objective is non-convex (because of the $x_{u}^{T} y_i$ term); in fact it’s NP-hard to optimize. Gradient descent can be used as an approximate approach here, however it turns out to be slow and costs lots of iterations. Note however, that if we fix the set of variables $X$ and treat them as constants, then the objective is a convex function of $Y$ and vice versa. Our approach will therefore be to fix $Y$ and optimize $X$, then fix $X$ and optimize $Y$, and repeat until convergence. This approach is known as **ALS (Alternating Least Squares)**. For our objective function, the alternating least squares algorithm can be expressed with this simple pseudo-code:"
   ]
  },
  {
   "cell_type": "markdown",
   "metadata": {},
   "source": [
    "Initialize $X$, $Y$\n",
    "\n",
    "**while**(convergence is not true) **do**\n",
    "\n",
    "\n",
    "**for** $u = 1 \\cdots n$ **do**\n",
    "\n",
    "$x_u = \\left( \\sum_{r_ui \\in r_{u*}} y_i y_{i}^{T} + \\lambda I_k \\right)^{-1} \\sum_{r_ui \\in r_{u*}} r_{ui} y_i $ \n",
    "   \n",
    "**end for**\n",
    "\n",
    "**for** $u = 1 \\cdots n$ **do**\n",
    "\n",
    "$y_i = \\left( \\sum_{r_ui \\in r_{*i}} x_u x_{u}^{T} + \\lambda I_k \\right)^{-1} \\sum_{r_ui \\in r_{*i}} r_{ui} x_u $ \n",
    "   \n",
    "**end for**\n",
    "\n",
    "\n",
    "**end while**"
   ]
  },
  {
   "cell_type": "markdown",
   "metadata": {},
   "source": [
    "For a single machine, we can analyze the computational cost of this algorithm. Updating each $x_u$ will cost $O(n_u k^2 + k^3)$, where $n_u$ is the number of items rated by user $u$, and similarly updating each $y_i$ will cost $O(n_i k^2 + k^3)$, where $n_i$ is the number of users that have rated item $i$.\n",
    "\n",
    "\n",
    "Once we’ve computed the matrices $X$ and $Y$, there are several ways compute a prediction. The first is to do what was discussed before, which is to simply predict $ r_{ui} \\approx x_{u}^{T}y_i$ for each user $u$ and item $i$. \n",
    "This approach will cost $O(nmk)$ if we’d like to estimate every user-item pair. \n",
    "\n",
    "However, this approach is prohibitively expensive for most real-world datasets. A second (and more holistic) approach is to use the $x_u$ and $y_i$ as features in another learning algorithm, incorporating these features with others that are relevant to the prediction task."
   ]
  },
  {
   "cell_type": "markdown",
   "metadata": {},
   "source": [
    "### 2.3.3 Parallel Altenating Least Squares\n",
    "\n",
    "There are several ways to distribute the computation of the ALS algorithm depending on how data is partitioned.\n",
    "\n",
    "#### Method 1: using joins\n",
    "First we consider a fully distributed version, in the sense that all data (both input and output) is stored in a distributed file system. In practice, input data (ratings) and parameters ($X$ and $Y$) are stored in an a Spark RDD. Specifically, ratings -- that are always **sparse** -- are stored as RDD of triplets:\n",
    "\n",
    "Ratings: RDD((u, i, $r_{ui}$), . . . )\n",
    "\n",
    "\n",
    "Instead, we can use dense representation for factor matrices $X$ and $Y$, and these are stored as RDDs of vectors. More precisely, we can use the data types introduced in Spark MLLib to store such vectors and matrices:\n",
    "\n",
    "X : RDD($x_1$,...,$x_n$)\n",
    "\n",
    "Y : RDD($y_1$,...,$y_m$)\n",
    "\n",
    "\n",
    "Now, recall the expression to compute $x_u$:\n",
    "\n",
    "$x_u = \\left( \\sum_{r_ui \\in r_{u*}} y_i y_{i}^{T} + \\lambda I_k \\right)^{-1} \\sum_{r_ui \\in r_{u*}} r_{ui} y_i $ \n",
    "\n",
    "Let's call the first summation *part A* and the second summation *part B*. To compute such parts, in parallel, we can proceed with the following high-level pseudocode:\n",
    "\n",
    "* Join the Ratings RDD with the $Y$ matrix RDD using key $i$ (items)\n",
    "* Map to compute $y_i y_{i}^{T}$ and emit using key $u$ (user)\n",
    "* ReduceByKey $u$ (user) to compute 􏰀$\\sum_{r_ui \\in r_{u*}} y_i y_{i}^{T}$\n",
    "* Invert\n",
    "* Another ReduceByKey $u$ (user) to compute 􏰁$\\sum_{r_ui \\in r_{u*}} r_{ui} y_i$\n",
    "\n",
    "We can use the same template to copmute $y_i$.\n",
    "\n",
    "This approach works fine, but note it requires computing $y_i y_{i}^{T}$ for each user that has rated item $i$. \n",
    "\n",
    "#### Method 2: using broadcast variables (advanced topic)\n",
    "The next approach takes advantage of the fact that the $X$ and $Y$ factor matrices are often very small and can be stored locally on each machine.\n",
    "\n",
    "* Partition the Ratings RDD **by user** to create $R_1$, and similarly partition the Ratings RDD **by item** to create $R_2$. This means there are two copies of the same Ratings RDD, albeit with different partitionings. In $R_1$, all ratings by the same user are on the same machine, and in $R_2$ all ratings for same item are on the same machine.\n",
    "* Broadcast the matrices $X$ and $Y$. Note that these matrices are not RDD of vectors: they are now \"local: matrices.\n",
    "* Using $R_1$ and $Y$, we can use expression $x_u$ from above to compute the update of $x_u$ locally on each machine\n",
    "* Using $R_2$ and $X$, we can use expression $y_i$ from above to compute the update of $y_i$ locally on each machine\n",
    "\n",
    "A further optimization to this method is to group the $X$ and $Y$ factors matrices into blocks (user blocks and item blocks) and reduce the communication by only sending to each machine the block of users (or items) that are needed to compute the updates at that machine. \n",
    "\n",
    "This method is called **Block ALS**. It is achieved by precomputing some information about the ratings matrix to determine the \"out-links\" of each user (which blocks of the items it will contribute to) and \"in-link\" information for each item (which of the factor vectors it receives from each user block it will depend on). For exmple, assume that machine 1 is responsible for users 1,2,...,37: these will be block 1 of users. The items rated by these users are block 1 of items. Only the factors of block 1 of users and block 1 of items will be broadcasted to machine 1.\n",
    "\n",
    "### Further readings\n",
    "Other methods for matrix factorization include:\n",
    "\n",
    "* Low Rank Approximation and Regression in Input Sparsity Time, by Kenneth L. Clarkson, David P. Woodruff. http://arxiv.org/abs/1207.6365\n",
    "* Generalized Low Rank Models (GLRM), by Madeleine Udell, Corinne Horn, Reza Zadeh, Stephen Boyd. http://arxiv.org/abs/1410.0342\n",
    "* Matrix Completion and Low-Rank SVD via Fast Alternating Least Squares, by Trevor Hastie, Rahul Mazumder, Jason D. Lee, Reza Zadeh . Statistics Department and ICME, Stanford University, 2014. http://stanford.edu/~rezab/papers/fastals.pdf"
   ]
  },
  {
   "cell_type": "markdown",
   "metadata": {},
   "source": [
    "# 3. Usecase : Music recommender system\n",
    "\n",
    "In this usecase, we use the data of users and artists in the previous sections to build a statistical model to recommend artists for users.\n",
    " \n",
    "## 3.1 Requirements\n",
    "According to the properties of data, we need to choose a recommender algorithm that is suitable for this implicit feedback data. It means that the algorithm should learn without access to user or artist attributes such as age, genre,.... Therefore, an algorithm of type `collaborative filtering` is the best choice.\n",
    "\n",
    "Second, in the data, there are some users that have listened to only 1 artist. We need an algorithm that might provide decent recommendations to even these users. After all, at some point, every user starts out with just one play at some point! \n",
    "\n",
    "Third, we need an algorithm that scales, both in its ability to build large models, and to create recommendations quickly. So, an algorithm which can run on a distributed system (SPARK, Hadoop...) is very suitable.\n",
    "\n",
    "From these requirement, we can choose using ALS algorithm in SPARK's MLLIB.\n",
    "\n",
    "Spark MLlib’s ALS implementation draws on ideas from [1](http://yifanhu.net/PUB/cf.pdf) and [2](http://link.springer.com/chapter/10.1007%2F978-3-540-68880-8_32).\n",
    "\n",
    "## 3.2 Notes\n",
    "\n",
    "Currently, MLLIB can only build models from an RDD. That means we have two ways to prepare data:\n",
    "\n",
    "* Loading to into SPARK SQL DataFrame as before, and then access the corresponding RDD by calling `<dataframe>.rdd`. The invalid data is often sucessfully dropped by using mode `DROPMALFORMED`. However, this way might not work in all cases. Fortunately, we can use it with this usecase.\n",
    "\n",
    "* Loading data directly to RDD. However, we have to deal with the invalid data ourself. In the trade-off, this way is the most reliable, and can work in every case.\n",
    "\n",
    "In this notebook, we will use the second approach: it requires a bit more effort, but the reward is worth it!\n",
    "\n",
    " \n",
    "## 3.3 Cleanup the data\n",
    "In section 1, we already replaced the ids of mispelled artists by the corresponding standard ids by using SPARK SQL API.\n",
    "However, if the data has the invalid entries such that SPARK SQL API is stuck, the best way to work with it is using an RDD.\n",
    "\n",
    "Just as a recall, we work with three datasets in `user_artist_data.txt`, `` and `artist_alias.txt`. The entries in these file can be empty or have only one field. \n",
    "\n",
    "In details our goal now is:\n",
    "\n",
    "* Read the input ```user_artist_data.txt``` and transforms its representation into an output dataset.\n",
    "* To produce an output \"tuple\" containing the original user identifier and play counts, but with the artist identifier replaced by its most common alias, as found in the ```artist_alias.txt``` dataset.\n",
    "* Since the ```artist_alias.txt``` file is small, we can use a technique called **broadcast variables** to make such transformation more efficient.\n"
   ]
  },
  {
   "cell_type": "markdown",
   "metadata": {},
   "source": [
    "### Question 6\n",
    "\n",
    "#### Question 6.1\n",
    "Load data from `/datasets/lastfm/artist_alias.txt` and filter out the invalid entries to construct a dictionary to map from mispelled artists' ids to standard ids.\n",
    "\n",
    "NOTE: From now on, we will use the \"standard\" data to train our model.\n",
    "\n",
    "HINT: If a line contains less than 2 fields or contains invalid numerial values, we can return a special tuple. After that, we can filter out these special tuples."
   ]
  },
  {
   "cell_type": "code",
   "execution_count": 35,
   "metadata": {
    "collapsed": true
   },
   "outputs": [],
   "source": [
    "rawArtistAlias = sc.textFile(base + \"artist_alias.txt\")\n",
    "\n",
    "\n",
    "def xtractFields(s):\n",
    "    # Using white space or tab character as separetors,\n",
    "    # split a line into list of strings \n",
    "    line = re.split(\"\\s|\\t\",s,1)\n",
    "    # if this line has at least 2 characters\n",
    "    if (len(line) > 1):\n",
    "        try:\n",
    "            # try to parse the first and the second components to integer type\n",
    "            return (int(line[0]), int(line[1]))\n",
    "        except ValueError:\n",
    "            # if parsing has any error, return a special tuple\n",
    "            return (-1,-1)\n",
    "    else:\n",
    "        # if this line has less than 2 characters, return a special tuple\n",
    "        return (-1,-1)\n",
    "\n",
    "artistAlias = (\n",
    "                rawArtistAlias\n",
    "                    # extract fields using function xtractFields\n",
    "                    .map( xtractFields )\n",
    "    \n",
    "                    # fileter out the special tuples\n",
    "                    .filter( lambda x: x[0] > 0 )\n",
    "    \n",
    "                    # collect result to the driver as a \"dictionary\"\n",
    "                    .collectAsMap()\n",
    "                )\n",
    "\n",
    "# print(artistAlias)"
   ]
  },
  {
   "cell_type": "markdown",
   "metadata": {
    "collapsed": false
   },
   "source": [
    "#### Question 6.2\n",
    "Using the dictionary in question 6.1, prepare RDD `userArtistDataRDD` by replacing mispelled artists' ids to standard ids. Show 5 samples.\n",
    "\n",
    "HINT: Using broadcast varible can help us increase the effiency."
   ]
  },
  {
   "cell_type": "code",
   "execution_count": 36,
   "metadata": {
    "collapsed": false
   },
   "outputs": [
    {
     "data": {
      "text/html": [
       "<div>\n",
       "<table border=\"1\" class=\"dataframe\">\n",
       "  <thead>\n",
       "    <tr style=\"text-align: right;\">\n",
       "      <th></th>\n",
       "      <th>userId</th>\n",
       "      <th>artistID</th>\n",
       "      <th>playCount</th>\n",
       "    </tr>\n",
       "  </thead>\n",
       "  <tbody>\n",
       "    <tr>\n",
       "      <th>0</th>\n",
       "      <td>1000002</td>\n",
       "      <td>1</td>\n",
       "      <td>55</td>\n",
       "    </tr>\n",
       "    <tr>\n",
       "      <th>1</th>\n",
       "      <td>1000002</td>\n",
       "      <td>1000006</td>\n",
       "      <td>33</td>\n",
       "    </tr>\n",
       "    <tr>\n",
       "      <th>2</th>\n",
       "      <td>1000002</td>\n",
       "      <td>1000007</td>\n",
       "      <td>8</td>\n",
       "    </tr>\n",
       "    <tr>\n",
       "      <th>3</th>\n",
       "      <td>1000002</td>\n",
       "      <td>1000009</td>\n",
       "      <td>144</td>\n",
       "    </tr>\n",
       "    <tr>\n",
       "      <th>4</th>\n",
       "      <td>1000002</td>\n",
       "      <td>1000010</td>\n",
       "      <td>314</td>\n",
       "    </tr>\n",
       "  </tbody>\n",
       "</table>\n",
       "</div>"
      ],
      "text/plain": [
       "    userId artistID playCount\n",
       "0  1000002        1        55\n",
       "1  1000002  1000006        33\n",
       "2  1000002  1000007         8\n",
       "3  1000002  1000009       144\n",
       "4  1000002  1000010       314"
      ]
     },
     "execution_count": 36,
     "metadata": {},
     "output_type": "execute_result"
    }
   ],
   "source": [
    "bArtistAlias = sc.broadcast(artistAlias)\n",
    "rawUserArtistData = sc.textFile(base + \"user_artist_data.txt\")\n",
    "\n",
    "def disambiguate(line):\n",
    "    [userID, artistID, count] = line.split(' ')\n",
    "    finalArtistID = bArtistAlias.value.get(artistID, artistID)\n",
    "    return (userID, finalArtistID, count)\n",
    "\n",
    "userArtistDataRDD = rawUserArtistData.map(disambiguate)\n",
    "pd.DataFrame(userArtistDataRDD.take(5), columns=(['userId', 'artistID', 'playCount']))"
   ]
  },
  {
   "cell_type": "markdown",
   "metadata": {},
   "source": [
    "## 3.4 Training our statistical model\n",
    "To train a model using ALS, we must use a preference matrix  as an input. MLLIB uses the class `Rating` to support the construction of a distributed preference matrix."
   ]
  },
  {
   "cell_type": "markdown",
   "metadata": {},
   "source": [
    "### Question 7\n",
    "\n",
    "#### Question 7.1\n",
    "Given RDD `userArtistDataRDD` in question 6.2, construct a new RDD `trainingData` by tranforming each item of it into a `Rating` object."
   ]
  },
  {
   "cell_type": "code",
   "execution_count": 37,
   "metadata": {
    "collapsed": false
   },
   "outputs": [],
   "source": [
    "from pyspark.mllib.recommendation import ALS, MatrixFactorizationModel, Rating"
   ]
  },
  {
   "cell_type": "code",
   "execution_count": 38,
   "metadata": {
    "collapsed": true
   },
   "outputs": [],
   "source": [
    "# OAH: From API rating has the format new Rating(user: int, product: int, rating: double) \n",
    "# so for our case Rating(userId, item, rating)\n",
    "# allData does not include users that has not listened to an artist! (i think)\n",
    "allData = userArtistDataRDD.map(lambda r: Rating(r[0], r[1], r[2])).repartition(2).cache()\n"
   ]
  },
  {
   "cell_type": "markdown",
   "metadata": {
    "collapsed": false
   },
   "source": [
    "#### Question 7.2\n",
    "A model can be trained by using `ALS.trainImplicit(<training data>, <rank>)`, where:\n",
    "* `training data` is the input data you decide to feed to the ALS algorithm\n",
    "* `rank` is the number of laten features\n",
    "\n",
    "We can also use some additional parameters to adjust the quality of the model. Currently, let's set \n",
    "\n",
    "- `rank=10`\n",
    "- `iterations=5`\n",
    "- `lambda_=0.01`\n",
    "- `alpha=1.0` \n",
    "\n",
    "to build model."
   ]
  },
  {
   "cell_type": "code",
   "execution_count": 40,
   "metadata": {
    "collapsed": false
   },
   "outputs": [
    {
     "name": "stdout",
     "output_type": "stream",
     "text": [
      "finish training model in 106.053008 secs\n"
     ]
    }
   ],
   "source": [
    "# OAH: API reference https://spark.apache.org/docs/latest/mllib-collaborative-filtering.html#collaborative-filtering\n",
    "\n",
    "t0 = time()\n",
    "model = ALS.trainImplicit(ratings=allData, rank=10, iterations=5, lambda_=0.01, alpha=1.0 )\n",
    "t1 = time()\n",
    "print(\"finish training model in %f secs\" % (t1 - t0))"
   ]
  },
  {
   "cell_type": "markdown",
   "metadata": {},
   "source": [
    "#### Question 7.3\n",
    "The trained model can be saved into HDFS for later use. This can be done via `model.save(sc, <file_name>)`.\n",
    "Let's use this function to store our model as name `lastfm_model.spark`.\n",
    "\n",
    "NOTE 1: since you may have noticed that building the model takes some time, it might come to your mind that this information could be stored, such that you can \"interrupt\" your laboratory session here, and restart next time by loading your model.\n",
    "\n",
    "NOTE 2: funnily enough, it could take more time to save the model than to build it from scratch! So take a look at the execution time to save the model: this method actually stores the model as Parquet files, which are column-oriented and compressed.\n",
    "\n",
    "NOTE 3: to check you have your file on HDFS, you are invited to open a terminal from the \"Home\" Jupyter dashboard, and type `hdfs dfs -ls` to check."
   ]
  },
  {
   "cell_type": "code",
   "execution_count": 41,
   "metadata": {
    "collapsed": false
   },
   "outputs": [
    {
     "name": "stdout",
     "output_type": "stream",
     "text": [
      "Deleted lastfm_model.spark\r\n"
     ]
    }
   ],
   "source": [
    "! hdfs dfs -rm -R -f -skipTrash lastfm_model.spark\n",
    "model.save( sc , 'lastfm_model.spark')"
   ]
  },
  {
   "cell_type": "markdown",
   "metadata": {},
   "source": [
    "#### Question 7.4\n",
    "A saved model can be load from file by using `MatrixFactorizationModel.load(sc, <file_name>)`. \n",
    "\n",
    "Let's load our model from file."
   ]
  },
  {
   "cell_type": "code",
   "execution_count": 42,
   "metadata": {
    "collapsed": false
   },
   "outputs": [
    {
     "name": "stdout",
     "output_type": "stream",
     "text": [
      "finish loading model in 1.808513 secs\n"
     ]
    }
   ],
   "source": [
    "t0 = time()\n",
    "model = MatrixFactorizationModel.load(sc, \"lastfm_model.spark\")\n",
    "t1 = time()\n",
    "print(\"finish loading model in %f secs\" % (t1 - t0))"
   ]
  },
  {
   "cell_type": "markdown",
   "metadata": {},
   "source": [
    "#### Question 7.5\n",
    "Print the first 5 rows of user features in our model."
   ]
  },
  {
   "cell_type": "code",
   "execution_count": 43,
   "metadata": {
    "collapsed": false
   },
   "outputs": [
    {
     "data": {
      "text/html": [
       "<div>\n",
       "<table border=\"1\" class=\"dataframe\">\n",
       "  <thead>\n",
       "    <tr style=\"text-align: right;\">\n",
       "      <th></th>\n",
       "      <th>userID</th>\n",
       "      <th>Features</th>\n",
       "    </tr>\n",
       "  </thead>\n",
       "  <tbody>\n",
       "    <tr>\n",
       "      <th>0</th>\n",
       "      <td>120</td>\n",
       "      <td>[-0.2567565441131592, 0.19304831326007843, 0.06923609972000122, -0.12228337675333023, 0.13595984876155853, -0.11351241171360016, -0.22060847282409668, -0.25669050216674805, 0.1135762482881546, -0.0003163852961733937]</td>\n",
       "    </tr>\n",
       "    <tr>\n",
       "      <th>1</th>\n",
       "      <td>384</td>\n",
       "      <td>[-1.9750630855560303, 4.34928035736084, -0.17394331097602844, -0.28999990224838257, 1.051230788230896, -0.23402169346809387, -1.0646283626556396, -1.7582918405532837, 0.988887369632721, -0.4771965742111206]</td>\n",
       "    </tr>\n",
       "    <tr>\n",
       "      <th>2</th>\n",
       "      <td>828</td>\n",
       "      <td>[0.03251377120614052, 0.07428038865327835, 0.02428736723959446, -0.01718446984887123, 0.049965228885412216, 0.031154602766036987, 0.05002003535628319, -0.08845587074756622, -0.025408733636140823, 0.019609441980719566]</td>\n",
       "    </tr>\n",
       "    <tr>\n",
       "      <th>3</th>\n",
       "      <td>3048</td>\n",
       "      <td>[-1.4768738746643066, 1.6182284355163574, 0.4502090513706207, 1.5616981983184814, -0.05334680899977684, -1.964806079864502, -2.454241991043091, -2.312035083770752, 0.3196096420288086, -0.020048268139362335]</td>\n",
       "    </tr>\n",
       "    <tr>\n",
       "      <th>4</th>\n",
       "      <td>3216</td>\n",
       "      <td>[-0.4844680428504944, 0.18508130311965942, 0.392788290977478, 0.3310469686985016, 0.059907812625169754, -0.10118768364191055, -0.47131118178367615, -0.5071861743927002, 0.009937555529177189, -0.30074870586395264]</td>\n",
       "    </tr>\n",
       "  </tbody>\n",
       "</table>\n",
       "</div>"
      ],
      "text/plain": [
       "   userID  \\\n",
       "0     120   \n",
       "1     384   \n",
       "2     828   \n",
       "3    3048   \n",
       "4    3216   \n",
       "\n",
       "                                                                                                                                                                                                                    Features  \n",
       "0   [-0.2567565441131592, 0.19304831326007843, 0.06923609972000122, -0.12228337675333023, 0.13595984876155853, -0.11351241171360016, -0.22060847282409668, -0.25669050216674805, 0.1135762482881546, -0.0003163852961733937]  \n",
       "1             [-1.9750630855560303, 4.34928035736084, -0.17394331097602844, -0.28999990224838257, 1.051230788230896, -0.23402169346809387, -1.0646283626556396, -1.7582918405532837, 0.988887369632721, -0.4771965742111206]  \n",
       "2  [0.03251377120614052, 0.07428038865327835, 0.02428736723959446, -0.01718446984887123, 0.049965228885412216, 0.031154602766036987, 0.05002003535628319, -0.08845587074756622, -0.025408733636140823, 0.019609441980719566]  \n",
       "3             [-1.4768738746643066, 1.6182284355163574, 0.4502090513706207, 1.5616981983184814, -0.05334680899977684, -1.964806079864502, -2.454241991043091, -2.312035083770752, 0.3196096420288086, -0.020048268139362335]  \n",
       "4       [-0.4844680428504944, 0.18508130311965942, 0.392788290977478, 0.3310469686985016, 0.059907812625169754, -0.10118768364191055, -0.47131118178367615, -0.5071861743927002, 0.009937555529177189, -0.30074870586395264]  "
      ]
     },
     "metadata": {},
     "output_type": "display_data"
    }
   ],
   "source": [
    "pd.set_option('max_colwidth',300)\n",
    "display(pd.DataFrame(model.userFeatures().take(5), columns=['userID','Features']))"
   ]
  },
  {
   "cell_type": "markdown",
   "metadata": {},
   "source": [
    "##### Q7.5 Insights\n",
    "Features are characteristics of the model that are brought from the user related data. Similar features between users show that the tastes of both users are similar. Correlation between users is captured this way.The Rank measures the amount of data extracted from each user to construct the model. "
   ]
  },
  {
   "cell_type": "markdown",
   "metadata": {},
   "source": [
    "### Question 8\n",
    "Show the top-5 artist names recommendated for user `2093760`.\n",
    "\n",
    "HINT: The recommendations can be given by function `recommendProducts(userID, num_recommendations)`. These recommendations are only artist ids. You have to map them to artist names by using data in `artist_data.txt`."
   ]
  },
  {
   "cell_type": "code",
   "execution_count": 44,
   "metadata": {
    "collapsed": false
   },
   "outputs": [
    {
     "name": "stdout",
     "output_type": "stream",
     "text": [
      "{1811, 1003249, 1300642, 1001819, 2814}\n"
     ]
    }
   ],
   "source": [
    "# Make five reccommendations to user 2093760\n",
    "recommendations = (model.recommendProducts(2093760, 5))\n",
    "\n",
    "# construct set of recommendated artists\n",
    "recArtist = set( x[1] for x in recommendations )\n",
    "\n",
    "print(recArtist)"
   ]
  },
  {
   "cell_type": "code",
   "execution_count": 45,
   "metadata": {
    "collapsed": false
   },
   "outputs": [
    {
     "data": {
      "text/html": [
       "<div>\n",
       "<table border=\"1\" class=\"dataframe\">\n",
       "  <thead>\n",
       "    <tr style=\"text-align: right;\">\n",
       "      <th></th>\n",
       "      <th>artistID</th>\n",
       "      <th>artistName</th>\n",
       "    </tr>\n",
       "  </thead>\n",
       "  <tbody>\n",
       "    <tr>\n",
       "      <th>0</th>\n",
       "      <td>1134999</td>\n",
       "      <td>06Crazy Life</td>\n",
       "    </tr>\n",
       "    <tr>\n",
       "      <th>1</th>\n",
       "      <td>6821360</td>\n",
       "      <td>Pang Nakarin</td>\n",
       "    </tr>\n",
       "    <tr>\n",
       "      <th>2</th>\n",
       "      <td>10113088</td>\n",
       "      <td>Terfel, Bartoli- Mozart: Don</td>\n",
       "    </tr>\n",
       "    <tr>\n",
       "      <th>3</th>\n",
       "      <td>10151459</td>\n",
       "      <td>The Flaming Sidebur</td>\n",
       "    </tr>\n",
       "    <tr>\n",
       "      <th>4</th>\n",
       "      <td>6826647</td>\n",
       "      <td>Bodenstandig 3000</td>\n",
       "    </tr>\n",
       "  </tbody>\n",
       "</table>\n",
       "</div>"
      ],
      "text/plain": [
       "   artistID                    artistName\n",
       "0   1134999                  06Crazy Life\n",
       "1   6821360                  Pang Nakarin\n",
       "2  10113088  Terfel, Bartoli- Mozart: Don\n",
       "3  10151459           The Flaming Sidebur\n",
       "4   6826647             Bodenstandig 3000"
      ]
     },
     "execution_count": 45,
     "metadata": {},
     "output_type": "execute_result"
    }
   ],
   "source": [
    "# construct data of artists (artist_id, artist_name)\n",
    "\n",
    "rawArtistData = sc.textFile(base + \"artist_data.txt\")\n",
    "\n",
    "def xtractFields(s):\n",
    "    line = re.split(\"\\s|\\t\",s,1)\n",
    "    if (len(line) > 1):\n",
    "        try:\n",
    "            return (int(line[0]), str(line[1].strip()))\n",
    "        except ValueError:\n",
    "            return (-1,\"\")\n",
    "    else: \n",
    "        return (-1,\"\")\n",
    "\n",
    "artistByID = rawArtistData.map(xtractFields).filter(lambda x: x[0] > 0)\n",
    "pd.DataFrame(artistByID.take(5), columns=(['artistID', 'artistName']))"
   ]
  },
  {
   "cell_type": "code",
   "execution_count": 46,
   "metadata": {
    "collapsed": false
   },
   "outputs": [
    {
     "name": "stdout",
     "output_type": "stream",
     "text": [
      "['50 Cent', 'Dr. Dre', 'Ludacris', '2Pac', 'The Game']\n",
      "Number of recommendations:  5\n"
     ]
    }
   ],
   "source": [
    "# Filter in those artists, get just artist, and print\n",
    "def artistNames(line):\n",
    "#     [artistID, name]\n",
    "    if (line[0] in recArtist):\n",
    "        return True\n",
    "    else:\n",
    "        return False\n",
    "\n",
    "recList = artistByID.filter(lambda x: artistNames(x) == True).values().collect()\n",
    "\n",
    "print(recList)\n",
    "print('Number of recommendations: ', len(recList))"
   ]
  },
  {
   "cell_type": "markdown",
   "metadata": {},
   "source": [
    "#### IMPORTANT NOTE\n",
    "\n",
    "At the moment, it is necessary to manually unpersist the RDDs inside the model when you are done with it. The following function can be used to make sure models are promptly uncached."
   ]
  },
  {
   "cell_type": "code",
   "execution_count": 47,
   "metadata": {
    "collapsed": false
   },
   "outputs": [],
   "source": [
    "\n",
    "def unpersist(model):\n",
    "    model.userFeatures().unpersist()\n",
    "    model.productFeatures().unpersist()\n",
    "\n",
    "# uncache data and model when they are no longer used  \n",
    "unpersist(model)"
   ]
  },
  {
   "cell_type": "markdown",
   "metadata": {
    "collapsed": true
   },
   "source": [
    "## 3.5 Evaluating Recommendation Quality \n",
    "\n",
    "In this section, we study how to evaluate the quality of our model. It's hard to say how good the recommendations are.\n",
    "One of serveral methods approach to evaluate  a recommender based on its ability to rank good items (artists) high in a list of recommendations. The problem is how to define \"good artists\". Currently, by training all data, \"good artists\" is defined as \"artists the user has listened to\", and the recommender system has already received all of this information as input. It could trivially return the users previously-listened artists as top recommendations and score perfectly. Indeed, this is not useful, because the recommender's is used to recommend artists that the user has **never** listened to. \n",
    "\n",
    "To overcome that problem, we can hide the some of the artist play data and only use the rest to train model. Then, this held-out data can be interpreted as a collection of \"good\" recommendations for each user. The recommender is asked to rank all items in the model, and the rank of the held-out artists are examined. Ideally the recommender places all of them at or near the top of the list.\n",
    "\n",
    "The recommender's score can then be computed by comparing all held-out artists' ranks to the rest.  The fraction of pairs where the held-out artist is ranked higher is its score. 1.0 is perfect, 0.0 is the worst possible score, and 0.5 is the expected value achieved from randomly ranking artists. \n",
    "\n",
    "AUC(Area Under the Curve) can be used as a metric to evaluate model. It is also viewed as the probability that a randomly-chosen \"good\" artist ranks above a randomly-chosen \"bad\" artist.\n",
    "\n",
    "Next, we split the training data into 2 parts: `trainData` and `cvData` with ratio 0.9:0.1 respectively, where `trainData` is the dataset that will be used to train model. Then we write a function to calculate AUC to evaluate the quality of our model.\n"
   ]
  },
  {
   "cell_type": "markdown",
   "metadata": {},
   "source": [
    "### Question 9\n",
    "\n",
    "#### Question 9.1\n",
    "Split the data into `trainData` and `cvData` with ratio 0.9:0.1 and use the first part to train a statistic model with:\n",
    "\n",
    "- rank=10\n",
    "- iterations=5\n",
    "- lambda_=0.01\n",
    "- alpha=1.0"
   ]
  },
  {
   "cell_type": "code",
   "execution_count": 48,
   "metadata": {
    "collapsed": false
   },
   "outputs": [
    {
     "data": {
      "text/plain": [
       "PythonRDD[423] at RDD at PythonRDD.scala:48"
      ]
     },
     "execution_count": 48,
     "metadata": {},
     "output_type": "execute_result"
    }
   ],
   "source": [
    "\n",
    "trainData, cvData = allData.randomSplit(weights=[0.9, 0.1])\n",
    "trainData.cache()\n",
    "cvData.cache()"
   ]
  },
  {
   "cell_type": "code",
   "execution_count": 49,
   "metadata": {
    "collapsed": false
   },
   "outputs": [
    {
     "name": "stdout",
     "output_type": "stream",
     "text": [
      "finish training model in 135.007580 secs\n"
     ]
    }
   ],
   "source": [
    "t0 = time()\n",
    "model = ALS.trainImplicit( ratings=trainData, rank=10, iterations=5, lambda_=0.01, alpha=1.0 )\n",
    "t1 = time()\n",
    "print(\"finish training model in %f secs\" % (t1 - t0))\n"
   ]
  },
  {
   "cell_type": "markdown",
   "metadata": {},
   "source": [
    "#### Area under the ROC curve: a function to compute it"
   ]
  },
  {
   "cell_type": "code",
   "execution_count": 50,
   "metadata": {
    "collapsed": true
   },
   "outputs": [],
   "source": [
    "# Get all unique artistId, and broadcast them\n",
    "allItemIDs = np.array(allData.map(lambda x: x[1]).distinct().collect())\n",
    "bAllItemIDs = sc.broadcast(allItemIDs)"
   ]
  },
  {
   "cell_type": "code",
   "execution_count": 51,
   "metadata": {
    "collapsed": false
   },
   "outputs": [],
   "source": [
    "from random import randint\n",
    "\n",
    "# Depend on the number of item in userIDAndPosItemIDs,\n",
    "# create a set of \"negative\" products for each user. These are randomly chosen\n",
    "# from among all of the other items, excluding those that are \"positive\" for the user.\n",
    "# NOTE 1: mapPartitions operates on many (user,positive-items) pairs at once\n",
    "# NOTE 2: flatMap breaks the collections above down into one big set of tuples\n",
    "def xtractNegative(userIDAndPosItemIDs):\n",
    "    def pickEnoughNegatives(line):\n",
    "        userID = line[0]\n",
    "        posItemIDSet = set(line[1])\n",
    "        #posItemIDSet = line[1]\n",
    "        negative = []\n",
    "        allItemIDs = bAllItemIDs.value\n",
    "        # Keep about as many negative examples per user as positive. Duplicates are OK.\n",
    "        i = 0\n",
    "        while (i < len(allItemIDs) and len(negative) < len(posItemIDSet)):\n",
    "            itemID = allItemIDs[randint(0,len(allItemIDs)-1)]\n",
    "            if itemID not in posItemIDSet:\n",
    "                negative.append(itemID)\n",
    "            i += 1\n",
    "        \n",
    "        # Result is a collection of (user,negative-item) tuples\n",
    "        return map(lambda itemID: (userID, itemID), negative)\n",
    "\n",
    "    # Init an RNG and the item IDs set once for partition\n",
    "    # allItemIDs = bAllItemIDs.value\n",
    "    return map(pickEnoughNegatives, userIDAndPosItemIDs)\n",
    "\n",
    "def ratioOfCorrectRanks(positiveRatings, negativeRatings):\n",
    "    \n",
    "    # find number elements in arr that has index >= start and has value smaller than x\n",
    "    # arr is a sorted array\n",
    "    def findNumElementsSmallerThan(arr, x, start=0):\n",
    "        left = start\n",
    "        right = len(arr) -1\n",
    "        # if x is bigger than the biggest element in arr\n",
    "        if start > right or x > arr[right]:\n",
    "            return right + 1\n",
    "        mid = -1\n",
    "        while left <= right:\n",
    "            mid = (left + right) // 2\n",
    "            if arr[mid] < x:\n",
    "                left = mid + 1\n",
    "            elif arr[mid] > x:\n",
    "                right = mid - 1\n",
    "            else:\n",
    "                while mid-1 >= start and arr[mid-1] == x:\n",
    "                    mid -= 1\n",
    "                return mid\n",
    "        return mid if arr[mid] > x else mid + 1\n",
    "    \n",
    "    ## AUC may be viewed as the probability that a random positive item scores\n",
    "    ## higher than a random negative one. Here the proportion of all positive-negative\n",
    "    ## pairs that are correctly ranked is computed. The result is equal to the AUC metric.\n",
    "    correct = 0 ## L\n",
    "    total = 0 ## L\n",
    "    \n",
    "    # sorting positiveRatings array needs more cost\n",
    "    #positiveRatings = np.array(map(lambda x: x.rating, positiveRatings))\n",
    "\n",
    "    negativeRatings = list(map(lambda x:x.rating, negativeRatings))\n",
    "    \n",
    "    #np.sort(positiveRatings)\n",
    "    negativeRatings.sort()# = np.sort(negativeRatings)\n",
    "    total = len(positiveRatings)*len(negativeRatings)\n",
    "    \n",
    "    for positive in positiveRatings:\n",
    "        # Count the correctly-ranked pairs\n",
    "        correct += findNumElementsSmallerThan(negativeRatings, positive.rating)\n",
    "        \n",
    "    ## Return AUC: fraction of pairs ranked correctly\n",
    "    return float(correct) / total\n",
    "\n",
    "def calculateAUC(positiveData, bAllItemIDs, predictFunction):\n",
    "    # Take held-out data as the \"positive\", and map to tuples\n",
    "    positiveUserProducts = positiveData.map(lambda r: (r[0], r[1]))\n",
    "    # Make predictions for each of them, including a numeric score, and gather by user\n",
    "    positivePredictions = predictFunction(positiveUserProducts).groupBy(lambda r: r.user)\n",
    "    \n",
    "    # Create a set of \"negative\" products for each user. These are randomly chosen \n",
    "    # from among all of the other items, excluding those that are \"positive\" for the user. \n",
    "    negativeUserProducts = positiveUserProducts.groupByKey().mapPartitions(xtractNegative).flatMap(lambda x: x)\n",
    "    # Make predictions on the rest\n",
    "    negativePredictions = predictFunction(negativeUserProducts).groupBy(lambda r: r.user)\n",
    "    \n",
    "    return (\n",
    "            positivePredictions.join(negativePredictions)\n",
    "                .values()\n",
    "                .map(\n",
    "                    lambda positive_negativeRatings: ratioOfCorrectRanks(positive_negativeRatings[0], positive_negativeRatings[1])\n",
    "                )\n",
    "                .mean()\n",
    "            )"
   ]
  },
  {
   "cell_type": "markdown",
   "metadata": {},
   "source": [
    "####  Question 9.2\n",
    "Using part `cvData` and function `calculateAUC` to compute the AUC of the trained model."
   ]
  },
  {
   "cell_type": "code",
   "execution_count": 52,
   "metadata": {
    "collapsed": false
   },
   "outputs": [
    {
     "name": "stdout",
     "output_type": "stream",
     "text": [
      "auc= 0.9672468341002487\n",
      "finish in 86.524243 seconds\n"
     ]
    }
   ],
   "source": [
    "t0 = time()\n",
    "auc = calculateAUC( cvData , bAllItemIDs, model.predictAll)\n",
    "t1 = time()\n",
    "print(\"auc=\",auc)\n",
    "print(\"finish in %f seconds\" % (t1 - t0))"
   ]
  },
  {
   "cell_type": "markdown",
   "metadata": {},
   "source": [
    "##### Q9.2 Insights\n",
    "\"A ROC curve plots recall (true positive rate) against fallout (false positive rate) for increasing recommendation set size.\" [Schröder, Thiele, Lehner 2011](http://wiki.epfl.ch/edicpublic/documents/Candidacy%20exam/Evaluation.pdf)\n",
    "\n",
    "The top items our algorithm recommends for a user are the Positive items, and the unrecommended items are Negative.\n",
    " - **True Positive** items are therefore the items that we showed in our Top-N list that match what the user preferred in our cv data.\n",
    " - **False Positive** are the items in our Top-N list that don't match preferred items in cv data.\n",
    " - **True Negative** items are those we didn't include in our Top-N recommendations and are items the user didn't have in his preferred items in cv data.\n",
    " - **False Negative** are items we didn't include in our Top-N recommendations but do match what the user preferred in her held-out testing set."
   ]
  },
  {
   "cell_type": "markdown",
   "metadata": {},
   "source": [
    "#### Question 9.3\n",
    "Now we have the UAC of our model, it’s helpful to benchmark this against a simpler approach. For example, consider recommending the globally most-played artists to every user. This is not personalized, but is simple and may be effective. \n",
    "\n",
    "Implement this simple pupolarity-based prediction algorithm, evaluate its AUC score, and compare to the results achieved by the more sophisticated ALS algorithm."
   ]
  },
  {
   "cell_type": "code",
   "execution_count": 53,
   "metadata": {
    "collapsed": true
   },
   "outputs": [],
   "source": [
    "\n",
    "bListenCount = sc.broadcast(trainData.map(lambda r: (r[1], r[2])).reduceByKey(lambda r1, r2: r1+r2).collectAsMap())\n",
    "def predictMostListened(allData):\n",
    "    return allData.map(lambda r: Rating(r[0], r[1], bListenCount.value.get( r[1] , 0.0)))\n"
   ]
  },
  {
   "cell_type": "code",
   "execution_count": 54,
   "metadata": {
    "collapsed": false
   },
   "outputs": [
    {
     "name": "stdout",
     "output_type": "stream",
     "text": [
      "Accuracy (Area under the Curve): 93.74 %\n"
     ]
    }
   ],
   "source": [
    "\n",
    "auc = calculateAUC(cvData, bListenCount, predictMostListened)\n",
    "print('Accuracy (Area under the Curve): %.2f %%'%(auc*100))"
   ]
  },
  {
   "cell_type": "markdown",
   "metadata": {
    "collapsed": true
   },
   "source": [
    "## 3.6 Personalized recommendations with ALS\n",
    "\n",
    "In the previous section, we build our models with some given paramters without any knowledge about them. Actually, choosing the best parameters' values is very important. It can significantly affect the quality of models. Especially, with the current implementation of ALS in MLLIB, these parameters are not learned by the algorithm, and must be chosen by the caller. The following parameters should get consideration before training models:\n",
    "\n",
    "* `rank = 10`: the number of latent factors in the model, or equivalently, the number of columns $k$ in the user-feature and product-feature matrices. In non-trivial cases, this is also their rank. \n",
    "\n",
    "* `iterations = 5`: the number of iterations that the factorization runs. Instead of runing the algorithm until RMSE converged which actually takes very long time to finish with large datasets, we only let it run in a given number of iterations. More iterations take more time but may produce a better factorization.\n",
    "\n",
    "* `lambda_ = 0.01`: a standard overfitting parameter. Higher values resist overfitting, but values that are too high hurt the factorization's accuracy.\n",
    "\n",
    "*  `alpha = 1.0`: controls the relative weight of observed versus unobserved userproduct interactions in the factorization. \n",
    "\n",
    "Although all of them have impact on the models' quality, `iterations` is more of a constraint on resources used in the factorization. So, `rank`, `lambda_` and `alpha` can be considered hyperparameters to the model. \n",
    "We will try to find \"good\" values for them. Indeed, the values of hyperparameter are not necessarily optimal. Choosing good hyperparameter values is a common problem in machine learning. The most basic way to choose values is to simply try combinations of values and evaluate a metric for each of them, and choose the combination that produces the best value of the metric. \n"
   ]
  },
  {
   "cell_type": "markdown",
   "metadata": {
    "collapsed": true
   },
   "source": [
    "### Question 10\n",
    "\n",
    "#### Question 10.1\n",
    "For simplicity, assume that we want to explore the following parameter space: $ rank \\in \\{10, 50\\}$, $lambda\\_ \\in \\{1.0, 0.0001\\}$ and $alpha \\in \\{1.0, 40.0\\}$.\n",
    "\n",
    "Find the best combination of them in terms of the highest AUC value."
   ]
  },
  {
   "cell_type": "code",
   "execution_count": 57,
   "metadata": {
    "collapsed": false
   },
   "outputs": [
    {
     "name": "stdout",
     "output_type": "stream",
     "text": [
      "Train model with rank=10 lambda_=1.000000 alpha=1.000000\n",
      "Train model with rank=10 lambda_=1.000000 alpha=40.000000\n",
      "Train model with rank=10 lambda_=0.000100 alpha=1.000000\n",
      "Train model with rank=10 lambda_=0.000100 alpha=40.000000\n",
      "Train model with rank=50 lambda_=1.000000 alpha=1.000000\n",
      "Train model with rank=50 lambda_=1.000000 alpha=40.000000\n",
      "Train model with rank=50 lambda_=0.000100 alpha=1.000000\n",
      "Train model with rank=50 lambda_=0.000100 alpha=40.000000\n"
     ]
    }
   ],
   "source": [
    "\n",
    "evaluations = []\n",
    "\n",
    "for rank in [10, 50]:\n",
    "    for lambda_ in [1.0, 0.0001]:\n",
    "        for alpha in [1.0, 40.0]:\n",
    "            print(\"Train model with rank=%d lambda_=%f alpha=%f\" % (rank, lambda_, alpha))\n",
    "            # with each combination of params, we should run multiple times and get avg\n",
    "            # for simple, we only run one time.\n",
    "            model = ALS.trainImplicit( ratings=trainData, rank=rank, lambda_=lambda_, alpha=alpha, iterations=5 )\n",
    "            \n",
    "            auc = calculateAUC( cvData, bAllItemIDs, model.predictAll )\n",
    "            \n",
    "            evaluations.append(((rank, lambda_, alpha), auc))\n",
    "            \n",
    "            unpersist(model)\n",
    "\n",
    "\n"
   ]
  },
  {
   "cell_type": "code",
   "execution_count": 60,
   "metadata": {
    "collapsed": false
   },
   "outputs": [
    {
     "name": "stdout",
     "output_type": "stream",
     "text": [
      "                    0         1\n",
      "0   (50, 0.0001, 1.0)  0.953464\n",
      "1      (50, 1.0, 1.0)  0.967031\n",
      "2   (10, 0.0001, 1.0)  0.967561\n",
      "3      (10, 1.0, 1.0)  0.969395\n",
      "4  (50, 0.0001, 40.0)  0.975270\n",
      "5     (50, 1.0, 40.0)  0.976213\n",
      "6  (10, 0.0001, 40.0)  0.976601\n",
      "7     (10, 1.0, 40.0)  0.977040\n"
     ]
    },
    {
     "data": {
      "text/plain": [
       "PythonRDD[423] at RDD at PythonRDD.scala:48"
      ]
     },
     "execution_count": 60,
     "metadata": {},
     "output_type": "execute_result"
    }
   ],
   "source": [
    "evaluations.sort(key=lambda x:x[1])\n",
    "                 \n",
    "evalDataFrame = pd.DataFrame(data=evaluations)\n",
    "print(evalDataFrame)\n",
    "\n",
    "trainData.unpersist()\n",
    "cvData.unpersist()"
   ]
  },
  {
   "cell_type": "markdown",
   "metadata": {
    "collapsed": true
   },
   "source": [
    "#### Question 10.2 \n",
    "\n",
    "Using \"optimal\" hyper-parameters in question 10.1, re-train the model and show top-5 artist names recommendated for user 2093760."
   ]
  },
  {
   "cell_type": "code",
   "execution_count": 61,
   "metadata": {
    "collapsed": false
   },
   "outputs": [
    {
     "name": "stdout",
     "output_type": "stream",
     "text": [
      "['[unknown]', 'Eminem', 'The Killers', 'U2', 'Green Day']\n"
     ]
    }
   ],
   "source": [
    "model = ALS.trainImplicit(trainData, rank=10, iterations=5, lambda_=1.0, alpha=40.0)\n",
    "allData.unpersist()\n",
    "\n",
    "userID = 2093760\n",
    "recommendations = model.recommendProducts(userID, 5)\n",
    "\n",
    "recommendedProductIDs = set(x.product for x in recommendations)\n",
    "\n",
    "recList = artistByID.filter(lambda x: (x[0] in recommendedProductIDs)).values().collect()\n",
    "print(recList)\n",
    "\n",
    "unpersist(model)"
   ]
  },
  {
   "cell_type": "markdown",
   "metadata": {},
   "source": [
    "##### Q 10.2 Insights\n",
    "We see that **[unknown] is the first reccomendation**. This is probably due to the huge variety in songs that are registered under the artistID of [unknown], which you could expect to be much higher than those of any real artist. If we also take into account that [unknown] is the 10th artist with more distinct users, we can expect a high number of colourful and diverse songs attached to that default name. "
   ]
  },
  {
   "cell_type": "markdown",
   "metadata": {},
   "source": [
    "# 4. Confidence Levels in collaborative filtering\n",
    "Inplicit feedback is inherently noisy, meaning that we are not sure of several things: a single account could be used by somone else than the owner of the account to listen to more diverse music. Also, a single user does not necessary like all the songs he listens to, or at least not in the same level.\n",
    "\n",
    "Our final goal is to obtain a metric of the degree of confidence from implicit data that we have already.\n",
    "\n",
    "In order to do that, we are gonna be using a library that approaches this problem: [Fast Python Collaborative Filtering for Implicit Datasets](https://github.com/benfred/implicit)"
   ]
  },
  {
   "cell_type": "markdown",
   "metadata": {},
   "source": [
    "## 4.1 Implementation"
   ]
  },
  {
   "cell_type": "markdown",
   "metadata": {},
   "source": [
    "### 4.1.1 Import Packages "
   ]
  },
  {
   "cell_type": "code",
   "execution_count": 84,
   "metadata": {
    "collapsed": false
   },
   "outputs": [],
   "source": [
    "# Import packets for the confidence levels implementation\n",
    "import annoy\n",
    "from scipy.sparse import coo_matrix\n",
    "from implicit.als import AlternatingLeastSquares\n",
    "from implicit.nearest_neighbours import bm25_weight"
   ]
  },
  {
   "cell_type": "markdown",
   "metadata": {},
   "source": [
    "### 4.1.2 Prepare Dataset\n",
    "We are gonna cut a portion of allData to use, since we are running the optimization in the VM machine and not in the spark cluster. "
   ]
  },
  {
   "cell_type": "code",
   "execution_count": 97,
   "metadata": {
    "collapsed": false
   },
   "outputs": [],
   "source": [
    "\n",
    "unusedData, ourData = allData.randomSplit(weights=[0.99, 0.01])\n",
    "ourDataPD = pd.DataFrame(ourData.take(1000000), columns=(['userId', 'artistID', 'playCount']))\n"
   ]
  },
  {
   "cell_type": "code",
   "execution_count": 104,
   "metadata": {
    "collapsed": false
   },
   "outputs": [],
   "source": [
    "ourDataPD['userId'] = ourDataPD['userId'].astype(\"category\")\n",
    "ourDataPD['artistID'] = ourDataPD['artistID'].astype(\"category\")\n",
    "plays = coo_matrix((ourDataPD['playCount'].astype(float),(ourDataPD['artistID'].cat.codes.copy(),\\\n",
    "                                                 ourDataPD['userId'].cat.codes.copy())))"
   ]
  },
  {
   "cell_type": "markdown",
   "metadata": {},
   "source": [
    "### 4.1.3 Class ALS for training and reccomendation"
   ]
  },
  {
   "cell_type": "code",
   "execution_count": 105,
   "metadata": {
    "collapsed": false
   },
   "outputs": [],
   "source": [
    "# A version of the AlternatingLeastSquares model that uses an annoy index to calculate similar items.\n",
    "# This should lead to massive when called repeatedly\n",
    "class AnnoyAlternatingLeastSquares(AlternatingLeastSquares):\n",
    "    def fit(self, Ciu):\n",
    "        # train the model\n",
    "        super(AnnoyAlternatingLeastSquares, self).fit(Ciu)\n",
    "\n",
    "        # build up an index with all the item_factors\n",
    "        index = annoy.AnnoyIndex(self.item_factors.shape[1], 'angular')\n",
    "        for i, row in enumerate(self.item_factors):\n",
    "            index.add_item(i, row)\n",
    "        index.build(self.factors / 2)\n",
    "        self.index = index\n",
    "\n",
    "    def similar_items(self, artistid, N=10):\n",
    "        neighbours = self.index.get_nns_by_item(artistid, N)\n",
    "        return sorted(((other, 1 - self.index.get_distance(artistid, other))\n",
    "                      for other in neighbours), key=lambda x: -x[1])"
   ]
  },
  {
   "cell_type": "code",
   "execution_count": 138,
   "metadata": {
    "collapsed": false
   },
   "outputs": [],
   "source": [
    "def calculate_similar_artists(df, plays, model_name=\"als\", factors=50, reg=0.01, iterations=15, exact=False, trees=20, \n",
    "                              use_native=True, dtype=np.float64, cg=False):\n",
    "\n",
    "    # generate a recommender model based off the input params\n",
    "    if model_name == \"als\":\n",
    "        model = AlternatingLeastSquares(factors=factors, regularization=reg,\n",
    "                                                 use_native=use_native, use_cg=cg,\n",
    "                                                 dtype=dtype)\n",
    "\n",
    "        # Weight the model using bm25weight, obtaining the Confidence levels\n",
    "        plays = bm25_weight(plays, K1=100, B=0.8)\n",
    "\n",
    "    ####### OTHER MODELS SHOULD BE HERE! (Section 4.2)    \n",
    "        \n",
    "    # train the model\n",
    "    model.fit(plays)    \n",
    "    \n",
    "    # write out similar artists by popularity\n",
    "    user_count = df.groupby('artistID').size()\n",
    "    artists = dict(enumerate(df['artistID'].cat.categories))\n",
    "    to_generate = sorted(list(artists), key=lambda x: -user_count[x])\n",
    "    \n",
    "    with open('confidentArtists.txt', \"w\") as o:\n",
    "        for artistid in to_generate:\n",
    "            artist = artists[artistid]\n",
    "            for other, score in model.similar_items(artistid, 11):\n",
    "                o.write(\"%s\\t%s\\t%s\\n\" % (artist, artists[other], score))"
   ]
  },
  {
   "cell_type": "code",
   "execution_count": null,
   "metadata": {
    "collapsed": true
   },
   "outputs": [],
   "source": [
    "calculate_similar_artists(df=ourDataPD, plays=plays)"
   ]
  },
  {
   "cell_type": "code",
   "execution_count": 159,
   "metadata": {
    "collapsed": false
   },
   "outputs": [
    {
     "name": "stdout",
     "output_type": "stream",
     "text": [
      "Example of similar artists (top of the output file):\n",
      "Artists similar to Radiohead (979) would be:  Cabala ,  T-Rex ,  Adrienne Young\n"
     ]
    }
   ],
   "source": [
    "artist1 = artistDF[artistDF.artistID==1035076].collect()[0].asDict()['name']\n",
    "artist2 = artistDF[artistDF.artistID==1009175].collect()[0].asDict()['name']\n",
    "artist3 = artistDF[artistDF.artistID==6797697].collect()[0].asDict()['name']\n",
    "\n",
    "print('Example of similar artists (top of the output file):')\n",
    "print('Artists similar to Radiohead (979) would be: ', artist1, ', ', artist2, ', ', artist3 )"
   ]
  },
  {
   "cell_type": "markdown",
   "metadata": {},
   "source": [
    "### 4.1.4 Insights on this section\n",
    "We tried to implement confidence levels on a subset of the ddataset, but several problems arose and we could not meet the expectations. What we could obtain is a scoring between different artists based on similarity relations. This could be used to make as many reccomendations as possible unsubscribed new user (with no previous information about him). Further use of this library would allow us to recommend artists to a user with the following function:\n",
    "\n",
    "`recommendations = model.recommend(userid, item_user_data.T)`"
   ]
  },
  {
   "cell_type": "markdown",
   "metadata": {},
   "source": [
    "## 4.2 Other possible Models\n",
    "Even further, we could implement different recommender algorithms by tweaking the previous code."
   ]
  },
  {
   "cell_type": "code",
   "execution_count": null,
   "metadata": {
    "collapsed": true
   },
   "outputs": [],
   "source": [
    "# We could include this inside the previous code\n",
    "    elif model_name == \"tfidf\":\n",
    "    model = AlternatingLeastSquares(factors=factors, regularization=regularization,\n",
    "                                        use_native=use_native, use_cg=cg,\n",
    "                                        dtype=dtype)\n",
    "    elif model_name == \"tfidf\":\n",
    "    model = TFIDFRecommender()\n",
    "\n",
    "    elif model_name == \"cosine\":\n",
    "        model = CosineRecommender()\n",
    "\n",
    "    elif model_name == \"bm25\":\n",
    "        model = BM25Recommender(K1=100, B=0.5)"
   ]
  },
  {
   "cell_type": "markdown",
   "metadata": {},
   "source": [
    "# Summary\n",
    "\n",
    "In this notebook, we introduce an algorithm to do matrix factorization and the way of using it to make recommendation. Further more, we studied how to build a large-scale recommender system on SPARK using ALS algorithm and evaluate its quality. Finally, a simple approach to choose good parameters is mentioned."
   ]
  },
  {
   "cell_type": "markdown",
   "metadata": {
    "collapsed": true
   },
   "source": [
    "# References\n",
    "\n",
    "- The example in section 2 is taken from [Recommender system](infolab.stanford.edu/~ullman/mmds/ch9.pdf)"
   ]
  }
 ],
 "metadata": {
  "kernelspec": {
   "display_name": "Python 3",
   "language": "python",
   "name": "python3"
  },
  "language_info": {
   "codemirror_mode": {
    "name": "ipython",
    "version": 3
   },
   "file_extension": ".py",
   "mimetype": "text/x-python",
   "name": "python",
   "nbconvert_exporter": "python",
   "pygments_lexer": "ipython3",
   "version": "3.5.2"
  }
 },
 "nbformat": 4,
 "nbformat_minor": 0
}
